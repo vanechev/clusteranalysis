{
  "nbformat": 4,
  "nbformat_minor": 0,
  "metadata": {
    "colab": {
      "provenance": [],
      "collapsed_sections": [
        "AKlwa8VL30o8",
        "V76TqbmE62gC",
        "wv4zGt8_8nKi",
        "qLAwugDlMOJ3"
      ],
      "include_colab_link": true
    },
    "kernelspec": {
      "name": "python3",
      "display_name": "Python 3"
    },
    "language_info": {
      "name": "python"
    }
  },
  "cells": [
    {
      "cell_type": "markdown",
      "metadata": {
        "id": "view-in-github",
        "colab_type": "text"
      },
      "source": [
        "<a href=\"https://colab.research.google.com/github/vanechev/clusteranalysis/blob/main/Clustering_evaluation_with_question_data.ipynb\" target=\"_parent\"><img src=\"https://colab.research.google.com/assets/colab-badge.svg\" alt=\"Open In Colab\"/></a>"
      ]
    },
    {
      "cell_type": "markdown",
      "source": [
        "from https://analyticsindiamag.com/a-tutorial-on-various-clustering-evaluation-metrics/"
      ],
      "metadata": {
        "id": "lkEGUoGOPbVI"
      }
    },
    {
      "cell_type": "code",
      "execution_count": 1,
      "metadata": {
        "id": "72Fqmlyy3Ojp"
      },
      "outputs": [],
      "source": [
        "import numpy as np\n",
        "import pandas as pd\n",
        "import matplotlib.pyplot as plt\n",
        "import seaborn as sns\n",
        "import scipy.cluster.hierarchy as shc"
      ]
    },
    {
      "cell_type": "code",
      "source": [
        "from google.colab import drive\n",
        "drive.mount('/content/drive')"
      ],
      "metadata": {
        "id": "OljhQk0kAdqP",
        "colab": {
          "base_uri": "https://localhost:8080/"
        },
        "outputId": "648c7f6e-2db6-4410-ac97-ffabc839b2e7"
      },
      "execution_count": null,
      "outputs": [
        {
          "output_type": "stream",
          "name": "stdout",
          "text": [
            "Mounted at /content/drive\n"
          ]
        }
      ]
    },
    {
      "cell_type": "code",
      "source": [
        "sns.set_theme()\n",
        "sns.set_palette(\"Set2\")"
      ],
      "metadata": {
        "id": "acoePBCtUbSy"
      },
      "execution_count": null,
      "outputs": []
    },
    {
      "cell_type": "markdown",
      "source": [
        "## **Reading & pre-processing data set**"
      ],
      "metadata": {
        "id": "AKlwa8VL30o8"
      }
    },
    {
      "cell_type": "code",
      "source": [
        "df=pd.read_csv('/content/drive/MyDrive/Datasets/vis-literacy/dataset_survey.csv')\n",
        "df.head()"
      ],
      "metadata": {
        "id": "5mM_hVMc3ynj",
        "colab": {
          "base_uri": "https://localhost:8080/"
        },
        "outputId": "7ce840d4-b3bc-4c17-fcba-6eae2ebc3fce"
      },
      "execution_count": null,
      "outputs": [
        {
          "output_type": "execute_result",
          "data": {
            "text/plain": [
              "        Start Date         End Date       IP Address  Progress  \\\n",
              "0  29/8/2022 13:37  29/8/2022 14:13  118.138.122.192     100.0   \n",
              "1   2/9/2022 10:41   2/9/2022 11:12     49.184.16.33     100.0   \n",
              "2  13/9/2022 10:56  13/9/2022 11:28    123.3.233.241     100.0   \n",
              "3   1/9/2022 17:21   5/9/2022 22:36    203.129.49.31     100.0   \n",
              "4    9/9/2022 8:01    9/9/2022 8:47      121.200.5.6     100.0   \n",
              "\n",
              "   Duration (in seconds) Finished    Recorded Date        Response ID  \\\n",
              "0                 2185.0     True  29/8/2022 14:13  R_3L51AYcJRxEVfgP   \n",
              "1                 1846.0     True   2/9/2022 11:12  R_1itcssXxxXfDQfB   \n",
              "2                 1928.0     True  13/9/2022 11:28  R_eOF6qLhhBykiKHL   \n",
              "3               364524.0     True   5/9/2022 22:36  R_3Rqo9roBv5poQxL   \n",
              "4                 2750.0     True    9/9/2022 8:47  R_3Dd49u0SpsBXLsw   \n",
              "\n",
              "  Recipient First Name              Recipient Email  ...  V3-Q3 correct  \\\n",
              "0    Francisca Antolis  fant0001@student.monash.edu  ...            1.0   \n",
              "1       Emilie D'Souza  edso0003@student.monash.edu  ...            1.0   \n",
              "2       Georgia Elkins     georgiaelkins@icloud.com  ...            1.0   \n",
              "3         Rebecca Dach  rdac0002@student.monash.edu  ...            1.0   \n",
              "4        James Imbuido  jimb0001@student.monash.edu  ...            0.0   \n",
              "\n",
              "   average time answering the questions  Raw score  weighted score  V1 score  \\\n",
              "0                             12.760143        6.0            11.0       3.0   \n",
              "1                             14.011222        8.0            15.0       3.0   \n",
              "2                             14.170444        8.0            15.0       3.0   \n",
              "3                             14.203889        9.0            17.0       3.0   \n",
              "4                             16.090333        5.0             8.0       2.0   \n",
              "\n",
              "  V1 avg timing V2 score V2 avg timing V3 score  V3 avg timing  \n",
              "0     15.211667      1.0      9.594000      2.0      11.364000  \n",
              "1      9.402667      2.0     14.059333      3.0      18.571667  \n",
              "2     14.277000      2.0     11.713000      3.0      16.521333  \n",
              "3     12.081667      3.0     19.195333      3.0      11.334667  \n",
              "4      7.125667      3.0     21.739667      0.0      19.405667  \n",
              "\n",
              "[5 rows x 95 columns]"
            ],
            "text/html": [
              "\n",
              "  <div id=\"df-e583deb1-4f8a-4180-b016-917808cd506a\">\n",
              "    <div class=\"colab-df-container\">\n",
              "      <div>\n",
              "<style scoped>\n",
              "    .dataframe tbody tr th:only-of-type {\n",
              "        vertical-align: middle;\n",
              "    }\n",
              "\n",
              "    .dataframe tbody tr th {\n",
              "        vertical-align: top;\n",
              "    }\n",
              "\n",
              "    .dataframe thead th {\n",
              "        text-align: right;\n",
              "    }\n",
              "</style>\n",
              "<table border=\"1\" class=\"dataframe\">\n",
              "  <thead>\n",
              "    <tr style=\"text-align: right;\">\n",
              "      <th></th>\n",
              "      <th>Start Date</th>\n",
              "      <th>End Date</th>\n",
              "      <th>IP Address</th>\n",
              "      <th>Progress</th>\n",
              "      <th>Duration (in seconds)</th>\n",
              "      <th>Finished</th>\n",
              "      <th>Recorded Date</th>\n",
              "      <th>Response ID</th>\n",
              "      <th>Recipient First Name</th>\n",
              "      <th>Recipient Email</th>\n",
              "      <th>...</th>\n",
              "      <th>V3-Q3 correct</th>\n",
              "      <th>average time answering the questions</th>\n",
              "      <th>Raw score</th>\n",
              "      <th>weighted score</th>\n",
              "      <th>V1 score</th>\n",
              "      <th>V1 avg timing</th>\n",
              "      <th>V2 score</th>\n",
              "      <th>V2 avg timing</th>\n",
              "      <th>V3 score</th>\n",
              "      <th>V3 avg timing</th>\n",
              "    </tr>\n",
              "  </thead>\n",
              "  <tbody>\n",
              "    <tr>\n",
              "      <th>0</th>\n",
              "      <td>29/8/2022 13:37</td>\n",
              "      <td>29/8/2022 14:13</td>\n",
              "      <td>118.138.122.192</td>\n",
              "      <td>100.0</td>\n",
              "      <td>2185.0</td>\n",
              "      <td>True</td>\n",
              "      <td>29/8/2022 14:13</td>\n",
              "      <td>R_3L51AYcJRxEVfgP</td>\n",
              "      <td>Francisca Antolis</td>\n",
              "      <td>fant0001@student.monash.edu</td>\n",
              "      <td>...</td>\n",
              "      <td>1.0</td>\n",
              "      <td>12.760143</td>\n",
              "      <td>6.0</td>\n",
              "      <td>11.0</td>\n",
              "      <td>3.0</td>\n",
              "      <td>15.211667</td>\n",
              "      <td>1.0</td>\n",
              "      <td>9.594000</td>\n",
              "      <td>2.0</td>\n",
              "      <td>11.364000</td>\n",
              "    </tr>\n",
              "    <tr>\n",
              "      <th>1</th>\n",
              "      <td>2/9/2022 10:41</td>\n",
              "      <td>2/9/2022 11:12</td>\n",
              "      <td>49.184.16.33</td>\n",
              "      <td>100.0</td>\n",
              "      <td>1846.0</td>\n",
              "      <td>True</td>\n",
              "      <td>2/9/2022 11:12</td>\n",
              "      <td>R_1itcssXxxXfDQfB</td>\n",
              "      <td>Emilie D'Souza</td>\n",
              "      <td>edso0003@student.monash.edu</td>\n",
              "      <td>...</td>\n",
              "      <td>1.0</td>\n",
              "      <td>14.011222</td>\n",
              "      <td>8.0</td>\n",
              "      <td>15.0</td>\n",
              "      <td>3.0</td>\n",
              "      <td>9.402667</td>\n",
              "      <td>2.0</td>\n",
              "      <td>14.059333</td>\n",
              "      <td>3.0</td>\n",
              "      <td>18.571667</td>\n",
              "    </tr>\n",
              "    <tr>\n",
              "      <th>2</th>\n",
              "      <td>13/9/2022 10:56</td>\n",
              "      <td>13/9/2022 11:28</td>\n",
              "      <td>123.3.233.241</td>\n",
              "      <td>100.0</td>\n",
              "      <td>1928.0</td>\n",
              "      <td>True</td>\n",
              "      <td>13/9/2022 11:28</td>\n",
              "      <td>R_eOF6qLhhBykiKHL</td>\n",
              "      <td>Georgia Elkins</td>\n",
              "      <td>georgiaelkins@icloud.com</td>\n",
              "      <td>...</td>\n",
              "      <td>1.0</td>\n",
              "      <td>14.170444</td>\n",
              "      <td>8.0</td>\n",
              "      <td>15.0</td>\n",
              "      <td>3.0</td>\n",
              "      <td>14.277000</td>\n",
              "      <td>2.0</td>\n",
              "      <td>11.713000</td>\n",
              "      <td>3.0</td>\n",
              "      <td>16.521333</td>\n",
              "    </tr>\n",
              "    <tr>\n",
              "      <th>3</th>\n",
              "      <td>1/9/2022 17:21</td>\n",
              "      <td>5/9/2022 22:36</td>\n",
              "      <td>203.129.49.31</td>\n",
              "      <td>100.0</td>\n",
              "      <td>364524.0</td>\n",
              "      <td>True</td>\n",
              "      <td>5/9/2022 22:36</td>\n",
              "      <td>R_3Rqo9roBv5poQxL</td>\n",
              "      <td>Rebecca Dach</td>\n",
              "      <td>rdac0002@student.monash.edu</td>\n",
              "      <td>...</td>\n",
              "      <td>1.0</td>\n",
              "      <td>14.203889</td>\n",
              "      <td>9.0</td>\n",
              "      <td>17.0</td>\n",
              "      <td>3.0</td>\n",
              "      <td>12.081667</td>\n",
              "      <td>3.0</td>\n",
              "      <td>19.195333</td>\n",
              "      <td>3.0</td>\n",
              "      <td>11.334667</td>\n",
              "    </tr>\n",
              "    <tr>\n",
              "      <th>4</th>\n",
              "      <td>9/9/2022 8:01</td>\n",
              "      <td>9/9/2022 8:47</td>\n",
              "      <td>121.200.5.6</td>\n",
              "      <td>100.0</td>\n",
              "      <td>2750.0</td>\n",
              "      <td>True</td>\n",
              "      <td>9/9/2022 8:47</td>\n",
              "      <td>R_3Dd49u0SpsBXLsw</td>\n",
              "      <td>James Imbuido</td>\n",
              "      <td>jimb0001@student.monash.edu</td>\n",
              "      <td>...</td>\n",
              "      <td>0.0</td>\n",
              "      <td>16.090333</td>\n",
              "      <td>5.0</td>\n",
              "      <td>8.0</td>\n",
              "      <td>2.0</td>\n",
              "      <td>7.125667</td>\n",
              "      <td>3.0</td>\n",
              "      <td>21.739667</td>\n",
              "      <td>0.0</td>\n",
              "      <td>19.405667</td>\n",
              "    </tr>\n",
              "  </tbody>\n",
              "</table>\n",
              "<p>5 rows × 95 columns</p>\n",
              "</div>\n",
              "      <button class=\"colab-df-convert\" onclick=\"convertToInteractive('df-e583deb1-4f8a-4180-b016-917808cd506a')\"\n",
              "              title=\"Convert this dataframe to an interactive table.\"\n",
              "              style=\"display:none;\">\n",
              "        \n",
              "  <svg xmlns=\"http://www.w3.org/2000/svg\" height=\"24px\"viewBox=\"0 0 24 24\"\n",
              "       width=\"24px\">\n",
              "    <path d=\"M0 0h24v24H0V0z\" fill=\"none\"/>\n",
              "    <path d=\"M18.56 5.44l.94 2.06.94-2.06 2.06-.94-2.06-.94-.94-2.06-.94 2.06-2.06.94zm-11 1L8.5 8.5l.94-2.06 2.06-.94-2.06-.94L8.5 2.5l-.94 2.06-2.06.94zm10 10l.94 2.06.94-2.06 2.06-.94-2.06-.94-.94-2.06-.94 2.06-2.06.94z\"/><path d=\"M17.41 7.96l-1.37-1.37c-.4-.4-.92-.59-1.43-.59-.52 0-1.04.2-1.43.59L10.3 9.45l-7.72 7.72c-.78.78-.78 2.05 0 2.83L4 21.41c.39.39.9.59 1.41.59.51 0 1.02-.2 1.41-.59l7.78-7.78 2.81-2.81c.8-.78.8-2.07 0-2.86zM5.41 20L4 18.59l7.72-7.72 1.47 1.35L5.41 20z\"/>\n",
              "  </svg>\n",
              "      </button>\n",
              "      \n",
              "  <style>\n",
              "    .colab-df-container {\n",
              "      display:flex;\n",
              "      flex-wrap:wrap;\n",
              "      gap: 12px;\n",
              "    }\n",
              "\n",
              "    .colab-df-convert {\n",
              "      background-color: #E8F0FE;\n",
              "      border: none;\n",
              "      border-radius: 50%;\n",
              "      cursor: pointer;\n",
              "      display: none;\n",
              "      fill: #1967D2;\n",
              "      height: 32px;\n",
              "      padding: 0 0 0 0;\n",
              "      width: 32px;\n",
              "    }\n",
              "\n",
              "    .colab-df-convert:hover {\n",
              "      background-color: #E2EBFA;\n",
              "      box-shadow: 0px 1px 2px rgba(60, 64, 67, 0.3), 0px 1px 3px 1px rgba(60, 64, 67, 0.15);\n",
              "      fill: #174EA6;\n",
              "    }\n",
              "\n",
              "    [theme=dark] .colab-df-convert {\n",
              "      background-color: #3B4455;\n",
              "      fill: #D2E3FC;\n",
              "    }\n",
              "\n",
              "    [theme=dark] .colab-df-convert:hover {\n",
              "      background-color: #434B5C;\n",
              "      box-shadow: 0px 1px 3px 1px rgba(0, 0, 0, 0.15);\n",
              "      filter: drop-shadow(0px 1px 2px rgba(0, 0, 0, 0.3));\n",
              "      fill: #FFFFFF;\n",
              "    }\n",
              "  </style>\n",
              "\n",
              "      <script>\n",
              "        const buttonEl =\n",
              "          document.querySelector('#df-e583deb1-4f8a-4180-b016-917808cd506a button.colab-df-convert');\n",
              "        buttonEl.style.display =\n",
              "          google.colab.kernel.accessAllowed ? 'block' : 'none';\n",
              "\n",
              "        async function convertToInteractive(key) {\n",
              "          const element = document.querySelector('#df-e583deb1-4f8a-4180-b016-917808cd506a');\n",
              "          const dataTable =\n",
              "            await google.colab.kernel.invokeFunction('convertToInteractive',\n",
              "                                                     [key], {});\n",
              "          if (!dataTable) return;\n",
              "\n",
              "          const docLinkHtml = 'Like what you see? Visit the ' +\n",
              "            '<a target=\"_blank\" href=https://colab.research.google.com/notebooks/data_table.ipynb>data table notebook</a>'\n",
              "            + ' to learn more about interactive tables.';\n",
              "          element.innerHTML = '';\n",
              "          dataTable['output_type'] = 'display_data';\n",
              "          await google.colab.output.renderOutput(dataTable, element);\n",
              "          const docLink = document.createElement('div');\n",
              "          docLink.innerHTML = docLinkHtml;\n",
              "          element.appendChild(docLink);\n",
              "        }\n",
              "      </script>\n",
              "    </div>\n",
              "  </div>\n",
              "  "
            ]
          },
          "metadata": {},
          "execution_count": 4
        }
      ]
    },
    {
      "cell_type": "code",
      "source": [
        "# df.info()"
      ],
      "metadata": {
        "id": "iA-AbziX3zdr"
      },
      "execution_count": null,
      "outputs": []
    },
    {
      "cell_type": "code",
      "source": [
        "X = df[[\"V1 score\", \"V1 avg timing\", \"V2 score\", \"V2 avg timing\", \"V3 score\", \"V3 avg timing\", \"Raw score\"]]\n",
        "X.head()"
      ],
      "metadata": {
        "id": "mum7LJ1T3zAp",
        "colab": {
          "base_uri": "https://localhost:8080/"
        },
        "outputId": "02bdb61a-bee6-4d60-b674-b433b6727c79"
      },
      "execution_count": null,
      "outputs": [
        {
          "output_type": "execute_result",
          "data": {
            "text/plain": [
              "   V1 score  V1 avg timing  V2 score  V2 avg timing  V3 score  V3 avg timing  \\\n",
              "0       3.0      15.211667       1.0       9.594000       2.0      11.364000   \n",
              "1       3.0       9.402667       2.0      14.059333       3.0      18.571667   \n",
              "2       3.0      14.277000       2.0      11.713000       3.0      16.521333   \n",
              "3       3.0      12.081667       3.0      19.195333       3.0      11.334667   \n",
              "4       2.0       7.125667       3.0      21.739667       0.0      19.405667   \n",
              "\n",
              "   Raw score  \n",
              "0        6.0  \n",
              "1        8.0  \n",
              "2        8.0  \n",
              "3        9.0  \n",
              "4        5.0  "
            ],
            "text/html": [
              "\n",
              "  <div id=\"df-154db98f-becf-466d-a586-2e744b0a1482\">\n",
              "    <div class=\"colab-df-container\">\n",
              "      <div>\n",
              "<style scoped>\n",
              "    .dataframe tbody tr th:only-of-type {\n",
              "        vertical-align: middle;\n",
              "    }\n",
              "\n",
              "    .dataframe tbody tr th {\n",
              "        vertical-align: top;\n",
              "    }\n",
              "\n",
              "    .dataframe thead th {\n",
              "        text-align: right;\n",
              "    }\n",
              "</style>\n",
              "<table border=\"1\" class=\"dataframe\">\n",
              "  <thead>\n",
              "    <tr style=\"text-align: right;\">\n",
              "      <th></th>\n",
              "      <th>V1 score</th>\n",
              "      <th>V1 avg timing</th>\n",
              "      <th>V2 score</th>\n",
              "      <th>V2 avg timing</th>\n",
              "      <th>V3 score</th>\n",
              "      <th>V3 avg timing</th>\n",
              "      <th>Raw score</th>\n",
              "    </tr>\n",
              "  </thead>\n",
              "  <tbody>\n",
              "    <tr>\n",
              "      <th>0</th>\n",
              "      <td>3.0</td>\n",
              "      <td>15.211667</td>\n",
              "      <td>1.0</td>\n",
              "      <td>9.594000</td>\n",
              "      <td>2.0</td>\n",
              "      <td>11.364000</td>\n",
              "      <td>6.0</td>\n",
              "    </tr>\n",
              "    <tr>\n",
              "      <th>1</th>\n",
              "      <td>3.0</td>\n",
              "      <td>9.402667</td>\n",
              "      <td>2.0</td>\n",
              "      <td>14.059333</td>\n",
              "      <td>3.0</td>\n",
              "      <td>18.571667</td>\n",
              "      <td>8.0</td>\n",
              "    </tr>\n",
              "    <tr>\n",
              "      <th>2</th>\n",
              "      <td>3.0</td>\n",
              "      <td>14.277000</td>\n",
              "      <td>2.0</td>\n",
              "      <td>11.713000</td>\n",
              "      <td>3.0</td>\n",
              "      <td>16.521333</td>\n",
              "      <td>8.0</td>\n",
              "    </tr>\n",
              "    <tr>\n",
              "      <th>3</th>\n",
              "      <td>3.0</td>\n",
              "      <td>12.081667</td>\n",
              "      <td>3.0</td>\n",
              "      <td>19.195333</td>\n",
              "      <td>3.0</td>\n",
              "      <td>11.334667</td>\n",
              "      <td>9.0</td>\n",
              "    </tr>\n",
              "    <tr>\n",
              "      <th>4</th>\n",
              "      <td>2.0</td>\n",
              "      <td>7.125667</td>\n",
              "      <td>3.0</td>\n",
              "      <td>21.739667</td>\n",
              "      <td>0.0</td>\n",
              "      <td>19.405667</td>\n",
              "      <td>5.0</td>\n",
              "    </tr>\n",
              "  </tbody>\n",
              "</table>\n",
              "</div>\n",
              "      <button class=\"colab-df-convert\" onclick=\"convertToInteractive('df-154db98f-becf-466d-a586-2e744b0a1482')\"\n",
              "              title=\"Convert this dataframe to an interactive table.\"\n",
              "              style=\"display:none;\">\n",
              "        \n",
              "  <svg xmlns=\"http://www.w3.org/2000/svg\" height=\"24px\"viewBox=\"0 0 24 24\"\n",
              "       width=\"24px\">\n",
              "    <path d=\"M0 0h24v24H0V0z\" fill=\"none\"/>\n",
              "    <path d=\"M18.56 5.44l.94 2.06.94-2.06 2.06-.94-2.06-.94-.94-2.06-.94 2.06-2.06.94zm-11 1L8.5 8.5l.94-2.06 2.06-.94-2.06-.94L8.5 2.5l-.94 2.06-2.06.94zm10 10l.94 2.06.94-2.06 2.06-.94-2.06-.94-.94-2.06-.94 2.06-2.06.94z\"/><path d=\"M17.41 7.96l-1.37-1.37c-.4-.4-.92-.59-1.43-.59-.52 0-1.04.2-1.43.59L10.3 9.45l-7.72 7.72c-.78.78-.78 2.05 0 2.83L4 21.41c.39.39.9.59 1.41.59.51 0 1.02-.2 1.41-.59l7.78-7.78 2.81-2.81c.8-.78.8-2.07 0-2.86zM5.41 20L4 18.59l7.72-7.72 1.47 1.35L5.41 20z\"/>\n",
              "  </svg>\n",
              "      </button>\n",
              "      \n",
              "  <style>\n",
              "    .colab-df-container {\n",
              "      display:flex;\n",
              "      flex-wrap:wrap;\n",
              "      gap: 12px;\n",
              "    }\n",
              "\n",
              "    .colab-df-convert {\n",
              "      background-color: #E8F0FE;\n",
              "      border: none;\n",
              "      border-radius: 50%;\n",
              "      cursor: pointer;\n",
              "      display: none;\n",
              "      fill: #1967D2;\n",
              "      height: 32px;\n",
              "      padding: 0 0 0 0;\n",
              "      width: 32px;\n",
              "    }\n",
              "\n",
              "    .colab-df-convert:hover {\n",
              "      background-color: #E2EBFA;\n",
              "      box-shadow: 0px 1px 2px rgba(60, 64, 67, 0.3), 0px 1px 3px 1px rgba(60, 64, 67, 0.15);\n",
              "      fill: #174EA6;\n",
              "    }\n",
              "\n",
              "    [theme=dark] .colab-df-convert {\n",
              "      background-color: #3B4455;\n",
              "      fill: #D2E3FC;\n",
              "    }\n",
              "\n",
              "    [theme=dark] .colab-df-convert:hover {\n",
              "      background-color: #434B5C;\n",
              "      box-shadow: 0px 1px 3px 1px rgba(0, 0, 0, 0.15);\n",
              "      filter: drop-shadow(0px 1px 2px rgba(0, 0, 0, 0.3));\n",
              "      fill: #FFFFFF;\n",
              "    }\n",
              "  </style>\n",
              "\n",
              "      <script>\n",
              "        const buttonEl =\n",
              "          document.querySelector('#df-154db98f-becf-466d-a586-2e744b0a1482 button.colab-df-convert');\n",
              "        buttonEl.style.display =\n",
              "          google.colab.kernel.accessAllowed ? 'block' : 'none';\n",
              "\n",
              "        async function convertToInteractive(key) {\n",
              "          const element = document.querySelector('#df-154db98f-becf-466d-a586-2e744b0a1482');\n",
              "          const dataTable =\n",
              "            await google.colab.kernel.invokeFunction('convertToInteractive',\n",
              "                                                     [key], {});\n",
              "          if (!dataTable) return;\n",
              "\n",
              "          const docLinkHtml = 'Like what you see? Visit the ' +\n",
              "            '<a target=\"_blank\" href=https://colab.research.google.com/notebooks/data_table.ipynb>data table notebook</a>'\n",
              "            + ' to learn more about interactive tables.';\n",
              "          element.innerHTML = '';\n",
              "          dataTable['output_type'] = 'display_data';\n",
              "          await google.colab.output.renderOutput(dataTable, element);\n",
              "          const docLink = document.createElement('div');\n",
              "          docLink.innerHTML = docLinkHtml;\n",
              "          element.appendChild(docLink);\n",
              "        }\n",
              "      </script>\n",
              "    </div>\n",
              "  </div>\n",
              "  "
            ]
          },
          "metadata": {},
          "execution_count": 6
        }
      ]
    },
    {
      "cell_type": "markdown",
      "source": [
        "Checking percentage of missing values"
      ],
      "metadata": {
        "id": "Mt1CZ2Oc5VTk"
      }
    },
    {
      "cell_type": "code",
      "source": [
        "X.isnull().sum()/len(df)*100"
      ],
      "metadata": {
        "id": "95n4rAoF3zOp",
        "colab": {
          "base_uri": "https://localhost:8080/"
        },
        "outputId": "53fc4078-8708-4fdb-cca2-5850df108d61"
      },
      "execution_count": null,
      "outputs": [
        {
          "output_type": "execute_result",
          "data": {
            "text/plain": [
              "V1 score         6.0\n",
              "V1 avg timing    6.0\n",
              "V2 score         6.0\n",
              "V2 avg timing    6.0\n",
              "V3 score         6.0\n",
              "V3 avg timing    6.0\n",
              "Raw score        6.0\n",
              "dtype: float64"
            ]
          },
          "metadata": {},
          "execution_count": 7
        }
      ]
    },
    {
      "cell_type": "code",
      "source": [
        "# X.dropna(inplace=True)\n",
        "#X = X_normalized\n",
        "#X.head()"
      ],
      "metadata": {
        "id": "qv0GogFEDtyw"
      },
      "execution_count": null,
      "outputs": []
    },
    {
      "cell_type": "markdown",
      "source": [
        "# **Part 1: Students overall interpretation of the visualisations**"
      ],
      "metadata": {
        "id": "JzOZOjS7HF5N"
      }
    },
    {
      "cell_type": "markdown",
      "source": [
        "### **Pre-processing**"
      ],
      "metadata": {
        "id": "v64c_O0hjXmo"
      }
    },
    {
      "cell_type": "code",
      "source": [
        "df2=pd.read_csv('/content/drive/MyDrive/Datasets/score_time_per_vis.csv')\n",
        "df2[\"vis\"] = df2[\"vis\"].replace(1,\"net graph\")\n",
        "df2[\"vis\"] = df2[\"vis\"].replace(2,\"bar graph\")\n",
        "df2[\"vis\"] = df2[\"vis\"].replace(3,\"hive\")\n",
        "df2.head()"
      ],
      "metadata": {
        "id": "2fFLOs0GLr1v",
        "colab": {
          "base_uri": "https://localhost:8080/",
          "height": 206
        },
        "outputId": "2c674efe-6127-461a-8281-363df62d8379"
      },
      "execution_count": null,
      "outputs": [
        {
          "output_type": "execute_result",
          "data": {
            "text/plain": [
              "   n  score     timing        vis\n",
              "0  1      2   7.125667  net graph\n",
              "1  2      2  21.271333  net graph\n",
              "2  3      3  15.211667  net graph\n",
              "3  4      1  16.193000  net graph\n",
              "4  5      3  15.132000  net graph"
            ],
            "text/html": [
              "\n",
              "  <div id=\"df-086135b1-0e5a-49f3-a325-6c558bbc643c\">\n",
              "    <div class=\"colab-df-container\">\n",
              "      <div>\n",
              "<style scoped>\n",
              "    .dataframe tbody tr th:only-of-type {\n",
              "        vertical-align: middle;\n",
              "    }\n",
              "\n",
              "    .dataframe tbody tr th {\n",
              "        vertical-align: top;\n",
              "    }\n",
              "\n",
              "    .dataframe thead th {\n",
              "        text-align: right;\n",
              "    }\n",
              "</style>\n",
              "<table border=\"1\" class=\"dataframe\">\n",
              "  <thead>\n",
              "    <tr style=\"text-align: right;\">\n",
              "      <th></th>\n",
              "      <th>n</th>\n",
              "      <th>score</th>\n",
              "      <th>timing</th>\n",
              "      <th>vis</th>\n",
              "    </tr>\n",
              "  </thead>\n",
              "  <tbody>\n",
              "    <tr>\n",
              "      <th>0</th>\n",
              "      <td>1</td>\n",
              "      <td>2</td>\n",
              "      <td>7.125667</td>\n",
              "      <td>net graph</td>\n",
              "    </tr>\n",
              "    <tr>\n",
              "      <th>1</th>\n",
              "      <td>2</td>\n",
              "      <td>2</td>\n",
              "      <td>21.271333</td>\n",
              "      <td>net graph</td>\n",
              "    </tr>\n",
              "    <tr>\n",
              "      <th>2</th>\n",
              "      <td>3</td>\n",
              "      <td>3</td>\n",
              "      <td>15.211667</td>\n",
              "      <td>net graph</td>\n",
              "    </tr>\n",
              "    <tr>\n",
              "      <th>3</th>\n",
              "      <td>4</td>\n",
              "      <td>1</td>\n",
              "      <td>16.193000</td>\n",
              "      <td>net graph</td>\n",
              "    </tr>\n",
              "    <tr>\n",
              "      <th>4</th>\n",
              "      <td>5</td>\n",
              "      <td>3</td>\n",
              "      <td>15.132000</td>\n",
              "      <td>net graph</td>\n",
              "    </tr>\n",
              "  </tbody>\n",
              "</table>\n",
              "</div>\n",
              "      <button class=\"colab-df-convert\" onclick=\"convertToInteractive('df-086135b1-0e5a-49f3-a325-6c558bbc643c')\"\n",
              "              title=\"Convert this dataframe to an interactive table.\"\n",
              "              style=\"display:none;\">\n",
              "        \n",
              "  <svg xmlns=\"http://www.w3.org/2000/svg\" height=\"24px\"viewBox=\"0 0 24 24\"\n",
              "       width=\"24px\">\n",
              "    <path d=\"M0 0h24v24H0V0z\" fill=\"none\"/>\n",
              "    <path d=\"M18.56 5.44l.94 2.06.94-2.06 2.06-.94-2.06-.94-.94-2.06-.94 2.06-2.06.94zm-11 1L8.5 8.5l.94-2.06 2.06-.94-2.06-.94L8.5 2.5l-.94 2.06-2.06.94zm10 10l.94 2.06.94-2.06 2.06-.94-2.06-.94-.94-2.06-.94 2.06-2.06.94z\"/><path d=\"M17.41 7.96l-1.37-1.37c-.4-.4-.92-.59-1.43-.59-.52 0-1.04.2-1.43.59L10.3 9.45l-7.72 7.72c-.78.78-.78 2.05 0 2.83L4 21.41c.39.39.9.59 1.41.59.51 0 1.02-.2 1.41-.59l7.78-7.78 2.81-2.81c.8-.78.8-2.07 0-2.86zM5.41 20L4 18.59l7.72-7.72 1.47 1.35L5.41 20z\"/>\n",
              "  </svg>\n",
              "      </button>\n",
              "      \n",
              "  <style>\n",
              "    .colab-df-container {\n",
              "      display:flex;\n",
              "      flex-wrap:wrap;\n",
              "      gap: 12px;\n",
              "    }\n",
              "\n",
              "    .colab-df-convert {\n",
              "      background-color: #E8F0FE;\n",
              "      border: none;\n",
              "      border-radius: 50%;\n",
              "      cursor: pointer;\n",
              "      display: none;\n",
              "      fill: #1967D2;\n",
              "      height: 32px;\n",
              "      padding: 0 0 0 0;\n",
              "      width: 32px;\n",
              "    }\n",
              "\n",
              "    .colab-df-convert:hover {\n",
              "      background-color: #E2EBFA;\n",
              "      box-shadow: 0px 1px 2px rgba(60, 64, 67, 0.3), 0px 1px 3px 1px rgba(60, 64, 67, 0.15);\n",
              "      fill: #174EA6;\n",
              "    }\n",
              "\n",
              "    [theme=dark] .colab-df-convert {\n",
              "      background-color: #3B4455;\n",
              "      fill: #D2E3FC;\n",
              "    }\n",
              "\n",
              "    [theme=dark] .colab-df-convert:hover {\n",
              "      background-color: #434B5C;\n",
              "      box-shadow: 0px 1px 3px 1px rgba(0, 0, 0, 0.15);\n",
              "      filter: drop-shadow(0px 1px 2px rgba(0, 0, 0, 0.3));\n",
              "      fill: #FFFFFF;\n",
              "    }\n",
              "  </style>\n",
              "\n",
              "      <script>\n",
              "        const buttonEl =\n",
              "          document.querySelector('#df-086135b1-0e5a-49f3-a325-6c558bbc643c button.colab-df-convert');\n",
              "        buttonEl.style.display =\n",
              "          google.colab.kernel.accessAllowed ? 'block' : 'none';\n",
              "\n",
              "        async function convertToInteractive(key) {\n",
              "          const element = document.querySelector('#df-086135b1-0e5a-49f3-a325-6c558bbc643c');\n",
              "          const dataTable =\n",
              "            await google.colab.kernel.invokeFunction('convertToInteractive',\n",
              "                                                     [key], {});\n",
              "          if (!dataTable) return;\n",
              "\n",
              "          const docLinkHtml = 'Like what you see? Visit the ' +\n",
              "            '<a target=\"_blank\" href=https://colab.research.google.com/notebooks/data_table.ipynb>data table notebook</a>'\n",
              "            + ' to learn more about interactive tables.';\n",
              "          element.innerHTML = '';\n",
              "          dataTable['output_type'] = 'display_data';\n",
              "          await google.colab.output.renderOutput(dataTable, element);\n",
              "          const docLink = document.createElement('div');\n",
              "          docLink.innerHTML = docLinkHtml;\n",
              "          element.appendChild(docLink);\n",
              "        }\n",
              "      </script>\n",
              "    </div>\n",
              "  </div>\n",
              "  "
            ]
          },
          "metadata": {},
          "execution_count": 9
        }
      ]
    },
    {
      "cell_type": "code",
      "source": [],
      "metadata": {
        "id": "lhetgpb2W7XE"
      },
      "execution_count": null,
      "outputs": []
    },
    {
      "cell_type": "code",
      "source": [
        "#sns.barplot(data=df2, x=\"vis\", y=\"timing\")"
      ],
      "metadata": {
        "id": "BCe8OWTY2GjZ"
      },
      "execution_count": null,
      "outputs": []
    },
    {
      "cell_type": "code",
      "source": [
        "#sns.barplot(data=df2, x=\"vis\", y=\"score\")"
      ],
      "metadata": {
        "id": "ZFDTRM3t29Rn"
      },
      "execution_count": null,
      "outputs": []
    },
    {
      "cell_type": "markdown",
      "source": [
        "### **Visual exploration**"
      ],
      "metadata": {
        "id": "JU2wbTbaf6ov"
      }
    },
    {
      "cell_type": "code",
      "source": [
        "sns.catplot(\n",
        "    data=df2, x=\"vis\", y=\"timing\",\n",
        "    markers=[\"^\", \"o\", \"x\"], linestyles=[\"-\", \"--\", \".\"],\n",
        "    kind=\"point\"\n",
        ")"
      ],
      "metadata": {
        "id": "I4Rzb-VCJkKp",
        "colab": {
          "base_uri": "https://localhost:8080/",
          "height": 382
        },
        "outputId": "8df91248-84f1-4af8-f989-4b853caf6d5f"
      },
      "execution_count": null,
      "outputs": [
        {
          "output_type": "execute_result",
          "data": {
            "text/plain": [
              "<seaborn.axisgrid.FacetGrid at 0x7f52e7539490>"
            ]
          },
          "metadata": {},
          "execution_count": 12
        },
        {
          "output_type": "display_data",
          "data": {
            "text/plain": [
              "<Figure size 360x360 with 1 Axes>"
            ],
            "image/png": "[encoded data removed]"
          },
          "metadata": {}
        }
      ]
    },
    {
      "cell_type": "code",
      "source": [
        "print(\"Time completion per visualisation\")\n",
        "sns.catplot(data=df2, x=\"vis\", y=\"timing\", kind=\"box\")"
      ],
      "metadata": {
        "id": "rqbcpcFSLr9p",
        "colab": {
          "base_uri": "https://localhost:8080/",
          "height": 400
        },
        "outputId": "493f6997-569d-4c35-9789-53b948ad7083"
      },
      "execution_count": null,
      "outputs": [
        {
          "output_type": "stream",
          "name": "stdout",
          "text": [
            "Time completion per visualisation\n"
          ]
        },
        {
          "output_type": "execute_result",
          "data": {
            "text/plain": [
              "<seaborn.axisgrid.FacetGrid at 0x7f52ce504610>"
            ]
          },
          "metadata": {},
          "execution_count": 13
        },
        {
          "output_type": "display_data",
          "data": {
            "text/plain": [
              "<Figure size 360x360 with 1 Axes>"
            ],
            "image/png": "[encoded data removed]"
          },
          "metadata": {}
        }
      ]
    },
    {
      "cell_type": "markdown",
      "source": [
        "Depending on the visualisation, the timing for completion increased."
      ],
      "metadata": {
        "id": "7UVXCUuJbNwB"
      }
    },
    {
      "cell_type": "code",
      "source": [
        "sns.catplot(\n",
        "    data=df2, x=\"vis\", y=\"score\",\n",
        "    markers=[\"^\", \"o\", \"x\"], linestyles=[\"-\", \"--\", \".\"],\n",
        "    kind=\"point\"\n",
        ")"
      ],
      "metadata": {
        "id": "9jrPECLbKREQ",
        "colab": {
          "base_uri": "https://localhost:8080/",
          "height": 382
        },
        "outputId": "04cbd143-fe21-40c9-a023-9dbbd43388b1"
      },
      "execution_count": null,
      "outputs": [
        {
          "output_type": "execute_result",
          "data": {
            "text/plain": [
              "<seaborn.axisgrid.FacetGrid at 0x7f52ce014e90>"
            ]
          },
          "metadata": {},
          "execution_count": 14
        },
        {
          "output_type": "display_data",
          "data": {
            "text/plain": [
              "<Figure size 360x360 with 1 Axes>"
            ],
            "image/png": "[encoded data removed]"
          },
          "metadata": {}
        }
      ]
    },
    {
      "cell_type": "markdown",
      "source": [
        "Depending on the visualisation, the scores decreased."
      ],
      "metadata": {
        "id": "Eb70DGjmbVuS"
      }
    },
    {
      "cell_type": "code",
      "source": [
        "print(\"Score distribution per visualisation\")\n",
        "sns.catplot(data=df2, x=\"vis\", y=\"score\", kind=\"box\")"
      ],
      "metadata": {
        "id": "WWj8JFC4TdSL",
        "colab": {
          "base_uri": "https://localhost:8080/",
          "height": 400
        },
        "outputId": "42a8ea5c-cf27-4a0b-bef5-524cc8f02f0a"
      },
      "execution_count": null,
      "outputs": [
        {
          "output_type": "stream",
          "name": "stdout",
          "text": [
            "Score distribution per visualisation\n"
          ]
        },
        {
          "output_type": "execute_result",
          "data": {
            "text/plain": [
              "<seaborn.axisgrid.FacetGrid at 0x7f52cdf70950>"
            ]
          },
          "metadata": {},
          "execution_count": 15
        },
        {
          "output_type": "display_data",
          "data": {
            "text/plain": [
              "<Figure size 360x360 with 1 Axes>"
            ],
            "image/png": "[encoded data removed]"
          },
          "metadata": {}
        }
      ]
    },
    {
      "cell_type": "code",
      "source": [
        "numerical = ['V1 avg timing', 'V2 avg timing', 'V3 avg timing']\n",
        "categorical = ['V1 score', 'V2 score', 'V3 score', 'Raw score']"
      ],
      "metadata": {
        "id": "p_UlyIAxYeyT"
      },
      "execution_count": null,
      "outputs": []
    },
    {
      "cell_type": "code",
      "source": [
        "print(\"Distribution of scores per Visualisation\")\n",
        "fig, ax = plt.subplots(1, 4, figsize=(8, 4))\n",
        "for variable, subplot in zip(categorical, ax.flatten()):\n",
        "    sns.countplot(X[variable], ax=subplot)\n",
        "    for label in subplot.get_xticklabels():\n",
        "        label.set_rotation(90)\n",
        "\n",
        "fig.tight_layout()"
      ],
      "metadata": {
        "id": "NlYrHrdRXv-8",
        "colab": {
          "base_uri": "https://localhost:8080/",
          "height": 469
        },
        "outputId": "a536f97f-3bcc-445c-e608-6258336d6600"
      },
      "execution_count": null,
      "outputs": [
        {
          "output_type": "stream",
          "name": "stdout",
          "text": [
            "Distribution of scores per Visualisation\n"
          ]
        },
        {
          "output_type": "stream",
          "name": "stderr",
          "text": [
            "/usr/local/lib/python3.7/dist-packages/seaborn/_decorators.py:43: FutureWarning: Pass the following variable as a keyword arg: x. From version 0.12, the only valid positional argument will be `data`, and passing other arguments without an explicit keyword will result in an error or misinterpretation.\n",
            "  FutureWarning\n",
            "/usr/local/lib/python3.7/dist-packages/seaborn/_decorators.py:43: FutureWarning: Pass the following variable as a keyword arg: x. From version 0.12, the only valid positional argument will be `data`, and passing other arguments without an explicit keyword will result in an error or misinterpretation.\n",
            "  FutureWarning\n",
            "/usr/local/lib/python3.7/dist-packages/seaborn/_decorators.py:43: FutureWarning: Pass the following variable as a keyword arg: x. From version 0.12, the only valid positional argument will be `data`, and passing other arguments without an explicit keyword will result in an error or misinterpretation.\n",
            "  FutureWarning\n",
            "/usr/local/lib/python3.7/dist-packages/seaborn/_decorators.py:43: FutureWarning: Pass the following variable as a keyword arg: x. From version 0.12, the only valid positional argument will be `data`, and passing other arguments without an explicit keyword will result in an error or misinterpretation.\n",
            "  FutureWarning\n"
          ]
        },
        {
          "output_type": "display_data",
          "data": {
            "text/plain": [
              "<Figure size 576x288 with 4 Axes>"
            ],
            "image/png": "[encoded data removed]"
          },
          "metadata": {}
        }
      ]
    },
    {
      "cell_type": "code",
      "source": [
        "#print(\"Histogram of time completion per Visualisation\")\n",
        "#df_X[numerical].hist(bins=5, figsize=(15, 6), layout=(2, 4));"
      ],
      "metadata": {
        "id": "v7tKRrlPYRSb"
      },
      "execution_count": null,
      "outputs": []
    },
    {
      "cell_type": "markdown",
      "source": [
        "### **Descriptive Statistics**"
      ],
      "metadata": {
        "id": "P5Je2hEMREB5"
      }
    },
    {
      "cell_type": "code",
      "source": [
        "print(\"Descriptive Statistics\")\n",
        "X.describe()"
      ],
      "metadata": {
        "id": "-Lln781NLrmy",
        "colab": {
          "base_uri": "https://localhost:8080/",
          "height": 318
        },
        "outputId": "0af5380d-84da-41ee-c48d-1475e07b8a67"
      },
      "execution_count": null,
      "outputs": [
        {
          "output_type": "stream",
          "name": "stdout",
          "text": [
            "Descriptive Statistics\n"
          ]
        },
        {
          "output_type": "execute_result",
          "data": {
            "text/plain": [
              "        V1 score  V1 avg timing   V2 score  V2 avg timing   V3 score  \\\n",
              "count  47.000000      47.000000  47.000000      47.000000  47.000000   \n",
              "mean    2.680851      25.811837   2.659574      34.199273   2.382979   \n",
              "std     0.515262      22.606116   0.635083      26.246849   0.767639   \n",
              "min     1.000000       7.125667   1.000000       9.594000   0.000000   \n",
              "25%     2.000000      14.758000   2.500000      20.617000   2.000000   \n",
              "50%     3.000000      18.848667   3.000000      26.166667   3.000000   \n",
              "75%     3.000000      24.009500   3.000000      35.538833   3.000000   \n",
              "max     3.000000     119.091000   3.000000     143.858333   3.000000   \n",
              "\n",
              "       V3 avg timing  Raw score  \n",
              "count      47.000000  47.000000  \n",
              "mean       37.394433   7.723404  \n",
              "std        26.253664   1.245900  \n",
              "min        10.840000   5.000000  \n",
              "25%        24.096500   7.000000  \n",
              "50%        27.460000   8.000000  \n",
              "75%        47.016000   9.000000  \n",
              "max       148.020333   9.000000  "
            ],
            "text/html": [
              "\n",
              "  <div id=\"df-3097f105-de3c-4ef3-9357-46e5808c340c\">\n",
              "    <div class=\"colab-df-container\">\n",
              "      <div>\n",
              "<style scoped>\n",
              "    .dataframe tbody tr th:only-of-type {\n",
              "        vertical-align: middle;\n",
              "    }\n",
              "\n",
              "    .dataframe tbody tr th {\n",
              "        vertical-align: top;\n",
              "    }\n",
              "\n",
              "    .dataframe thead th {\n",
              "        text-align: right;\n",
              "    }\n",
              "</style>\n",
              "<table border=\"1\" class=\"dataframe\">\n",
              "  <thead>\n",
              "    <tr style=\"text-align: right;\">\n",
              "      <th></th>\n",
              "      <th>V1 score</th>\n",
              "      <th>V1 avg timing</th>\n",
              "      <th>V2 score</th>\n",
              "      <th>V2 avg timing</th>\n",
              "      <th>V3 score</th>\n",
              "      <th>V3 avg timing</th>\n",
              "      <th>Raw score</th>\n",
              "    </tr>\n",
              "  </thead>\n",
              "  <tbody>\n",
              "    <tr>\n",
              "      <th>count</th>\n",
              "      <td>47.000000</td>\n",
              "      <td>47.000000</td>\n",
              "      <td>47.000000</td>\n",
              "      <td>47.000000</td>\n",
              "      <td>47.000000</td>\n",
              "      <td>47.000000</td>\n",
              "      <td>47.000000</td>\n",
              "    </tr>\n",
              "    <tr>\n",
              "      <th>mean</th>\n",
              "      <td>2.680851</td>\n",
              "      <td>25.811837</td>\n",
              "      <td>2.659574</td>\n",
              "      <td>34.199273</td>\n",
              "      <td>2.382979</td>\n",
              "      <td>37.394433</td>\n",
              "      <td>7.723404</td>\n",
              "    </tr>\n",
              "    <tr>\n",
              "      <th>std</th>\n",
              "      <td>0.515262</td>\n",
              "      <td>22.606116</td>\n",
              "      <td>0.635083</td>\n",
              "      <td>26.246849</td>\n",
              "      <td>0.767639</td>\n",
              "      <td>26.253664</td>\n",
              "      <td>1.245900</td>\n",
              "    </tr>\n",
              "    <tr>\n",
              "      <th>min</th>\n",
              "      <td>1.000000</td>\n",
              "      <td>7.125667</td>\n",
              "      <td>1.000000</td>\n",
              "      <td>9.594000</td>\n",
              "      <td>0.000000</td>\n",
              "      <td>10.840000</td>\n",
              "      <td>5.000000</td>\n",
              "    </tr>\n",
              "    <tr>\n",
              "      <th>25%</th>\n",
              "      <td>2.000000</td>\n",
              "      <td>14.758000</td>\n",
              "      <td>2.500000</td>\n",
              "      <td>20.617000</td>\n",
              "      <td>2.000000</td>\n",
              "      <td>24.096500</td>\n",
              "      <td>7.000000</td>\n",
              "    </tr>\n",
              "    <tr>\n",
              "      <th>50%</th>\n",
              "      <td>3.000000</td>\n",
              "      <td>18.848667</td>\n",
              "      <td>3.000000</td>\n",
              "      <td>26.166667</td>\n",
              "      <td>3.000000</td>\n",
              "      <td>27.460000</td>\n",
              "      <td>8.000000</td>\n",
              "    </tr>\n",
              "    <tr>\n",
              "      <th>75%</th>\n",
              "      <td>3.000000</td>\n",
              "      <td>24.009500</td>\n",
              "      <td>3.000000</td>\n",
              "      <td>35.538833</td>\n",
              "      <td>3.000000</td>\n",
              "      <td>47.016000</td>\n",
              "      <td>9.000000</td>\n",
              "    </tr>\n",
              "    <tr>\n",
              "      <th>max</th>\n",
              "      <td>3.000000</td>\n",
              "      <td>119.091000</td>\n",
              "      <td>3.000000</td>\n",
              "      <td>143.858333</td>\n",
              "      <td>3.000000</td>\n",
              "      <td>148.020333</td>\n",
              "      <td>9.000000</td>\n",
              "    </tr>\n",
              "  </tbody>\n",
              "</table>\n",
              "</div>\n",
              "      <button class=\"colab-df-convert\" onclick=\"convertToInteractive('df-3097f105-de3c-4ef3-9357-46e5808c340c')\"\n",
              "              title=\"Convert this dataframe to an interactive table.\"\n",
              "              style=\"display:none;\">\n",
              "        \n",
              "  <svg xmlns=\"http://www.w3.org/2000/svg\" height=\"24px\"viewBox=\"0 0 24 24\"\n",
              "       width=\"24px\">\n",
              "    <path d=\"M0 0h24v24H0V0z\" fill=\"none\"/>\n",
              "    <path d=\"M18.56 5.44l.94 2.06.94-2.06 2.06-.94-2.06-.94-.94-2.06-.94 2.06-2.06.94zm-11 1L8.5 8.5l.94-2.06 2.06-.94-2.06-.94L8.5 2.5l-.94 2.06-2.06.94zm10 10l.94 2.06.94-2.06 2.06-.94-2.06-.94-.94-2.06-.94 2.06-2.06.94z\"/><path d=\"M17.41 7.96l-1.37-1.37c-.4-.4-.92-.59-1.43-.59-.52 0-1.04.2-1.43.59L10.3 9.45l-7.72 7.72c-.78.78-.78 2.05 0 2.83L4 21.41c.39.39.9.59 1.41.59.51 0 1.02-.2 1.41-.59l7.78-7.78 2.81-2.81c.8-.78.8-2.07 0-2.86zM5.41 20L4 18.59l7.72-7.72 1.47 1.35L5.41 20z\"/>\n",
              "  </svg>\n",
              "      </button>\n",
              "      \n",
              "  <style>\n",
              "    .colab-df-container {\n",
              "      display:flex;\n",
              "      flex-wrap:wrap;\n",
              "      gap: 12px;\n",
              "    }\n",
              "\n",
              "    .colab-df-convert {\n",
              "      background-color: #E8F0FE;\n",
              "      border: none;\n",
              "      border-radius: 50%;\n",
              "      cursor: pointer;\n",
              "      display: none;\n",
              "      fill: #1967D2;\n",
              "      height: 32px;\n",
              "      padding: 0 0 0 0;\n",
              "      width: 32px;\n",
              "    }\n",
              "\n",
              "    .colab-df-convert:hover {\n",
              "      background-color: #E2EBFA;\n",
              "      box-shadow: 0px 1px 2px rgba(60, 64, 67, 0.3), 0px 1px 3px 1px rgba(60, 64, 67, 0.15);\n",
              "      fill: #174EA6;\n",
              "    }\n",
              "\n",
              "    [theme=dark] .colab-df-convert {\n",
              "      background-color: #3B4455;\n",
              "      fill: #D2E3FC;\n",
              "    }\n",
              "\n",
              "    [theme=dark] .colab-df-convert:hover {\n",
              "      background-color: #434B5C;\n",
              "      box-shadow: 0px 1px 3px 1px rgba(0, 0, 0, 0.15);\n",
              "      filter: drop-shadow(0px 1px 2px rgba(0, 0, 0, 0.3));\n",
              "      fill: #FFFFFF;\n",
              "    }\n",
              "  </style>\n",
              "\n",
              "      <script>\n",
              "        const buttonEl =\n",
              "          document.querySelector('#df-3097f105-de3c-4ef3-9357-46e5808c340c button.colab-df-convert');\n",
              "        buttonEl.style.display =\n",
              "          google.colab.kernel.accessAllowed ? 'block' : 'none';\n",
              "\n",
              "        async function convertToInteractive(key) {\n",
              "          const element = document.querySelector('#df-3097f105-de3c-4ef3-9357-46e5808c340c');\n",
              "          const dataTable =\n",
              "            await google.colab.kernel.invokeFunction('convertToInteractive',\n",
              "                                                     [key], {});\n",
              "          if (!dataTable) return;\n",
              "\n",
              "          const docLinkHtml = 'Like what you see? Visit the ' +\n",
              "            '<a target=\"_blank\" href=https://colab.research.google.com/notebooks/data_table.ipynb>data table notebook</a>'\n",
              "            + ' to learn more about interactive tables.';\n",
              "          element.innerHTML = '';\n",
              "          dataTable['output_type'] = 'display_data';\n",
              "          await google.colab.output.renderOutput(dataTable, element);\n",
              "          const docLink = document.createElement('div');\n",
              "          docLink.innerHTML = docLinkHtml;\n",
              "          element.appendChild(docLink);\n",
              "        }\n",
              "      </script>\n",
              "    </div>\n",
              "  </div>\n",
              "  "
            ]
          },
          "metadata": {},
          "execution_count": 19
        }
      ]
    },
    {
      "cell_type": "markdown",
      "source": [
        "### **Normality test**"
      ],
      "metadata": {
        "id": "Zw1e3-mxet3Y"
      }
    },
    {
      "cell_type": "code",
      "source": [
        "from scipy.stats import shapiro\n",
        "shapiro(X)"
      ],
      "metadata": {
        "id": "akE68dp9erQ4",
        "colab": {
          "base_uri": "https://localhost:8080/"
        },
        "outputId": "47a3c0ce-8c93-46e0-98a2-3fe0e4ea0dee"
      },
      "execution_count": null,
      "outputs": [
        {
          "output_type": "execute_result",
          "data": {
            "text/plain": [
              "ShapiroResult(statistic=nan, pvalue=1.0)"
            ]
          },
          "metadata": {},
          "execution_count": 20
        }
      ]
    },
    {
      "cell_type": "markdown",
      "source": [
        "p is < 0.05 so we reject the null hypothesis. We conclude that the sample data does not come from a normal distribution"
      ],
      "metadata": {
        "id": "20ds-Y0KfLId"
      }
    },
    {
      "cell_type": "markdown",
      "source": [
        "### **Friedman test to compare time differences between Vis1, Vis2, Vis3**\n",
        "\n",
        "\n",
        "Differences on time between Vis 1, 2, 3 of a within-*subjects* factor (same students)"
      ],
      "metadata": {
        "id": "8Psj4UPEkG2t"
      }
    },
    {
      "cell_type": "code",
      "source": [
        "from scipy import stats\n",
        "\n",
        "#perform Friedman Test\n",
        "stats.friedmanchisquare(X['V1 avg timing'], X['V2 avg timing'], X['V3 avg timing'])"
      ],
      "metadata": {
        "id": "cGosBVwjkpL-",
        "colab": {
          "base_uri": "https://localhost:8080/"
        },
        "outputId": "e1170b58-a14c-42a4-8433-8d21c6e52456"
      },
      "execution_count": null,
      "outputs": [
        {
          "output_type": "execute_result",
          "data": {
            "text/plain": [
              "FriedmanchisquareResult(statistic=19.56000000000006, pvalue=5.657179604733221e-05)"
            ]
          },
          "metadata": {},
          "execution_count": 21
        }
      ]
    },
    {
      "cell_type": "code",
      "source": [],
      "metadata": {
        "id": "CmCUZmlGg9DF"
      },
      "execution_count": null,
      "outputs": []
    },
    {
      "cell_type": "markdown",
      "source": [
        "A Friedman test was run to determine if there were differences in time completion of the questions per related version. Time completion  was statistically significantly different for the three visualisations, χ2(2) = 15.829, p = 0.000345. "
      ],
      "metadata": {
        "id": "fQKbqOXLtpZl"
      }
    },
    {
      "cell_type": "code",
      "source": [
        "print(stats.wilcoxon(X['V1 avg timing'], X['V2 avg timing']))\n",
        "print(stats.wilcoxon(X['V1 avg timing'], X['V3 avg timing']))\n",
        "print(stats.wilcoxon(X['V2 avg timing'], X['V3 avg timing']))"
      ],
      "metadata": {
        "id": "gJ33L1go5aXa",
        "colab": {
          "base_uri": "https://localhost:8080/"
        },
        "outputId": "8145ddb1-487e-45fb-c9d6-38a2a9da5856"
      },
      "execution_count": null,
      "outputs": [
        {
          "output_type": "stream",
          "name": "stdout",
          "text": [
            "WilcoxonResult(statistic=270.0, pvalue=0.0003887572930031904)\n",
            "WilcoxonResult(statistic=233.0, pvalue=9.431349451522776e-05)\n",
            "WilcoxonResult(statistic=473.0, pvalue=0.11229231111706328)\n"
          ]
        }
      ]
    },
    {
      "cell_type": "markdown",
      "source": [
        "Post hoc analysis with Wilcoxon signed-rank tests was conducted with a Bonferroni correction applied, resulting in a significance level set at p < 0.017. Median (IQR) for Vis 1, Vis 2 and Vis 3 were 18.85 (IQR1:14.60 - IQR3:24.23), 26.17 (IQR1:20.48 - IQR3:35.69) and 27.46 (IQR1:24.09 - IQR3:47.02), respectively. There were significant increase in the time completion for V1 (25.8118) vs V2 (34.199273) (Z = -3.111, p=0.002) and V1 (25.8118) vs V3 (37.394433) (Z = -3.503, p=0.0004)."
      ],
      "metadata": {
        "id": "YuImCAc9MhAW"
      }
    },
    {
      "cell_type": "code",
      "source": [
        "#perform Friedman Test\n",
        "stats.friedmanchisquare(X['V1 score'], X['V2 score'], X['V3 score'])"
      ],
      "metadata": {
        "id": "t37e-25yzpKo",
        "colab": {
          "base_uri": "https://localhost:8080/"
        },
        "outputId": "5df1fb2e-c9f0-4345-afd1-997970ecce80"
      },
      "execution_count": null,
      "outputs": [
        {
          "output_type": "execute_result",
          "data": {
            "text/plain": [
              "FriedmanchisquareResult(statistic=3.000000000000056, pvalue=0.22313016014842357)"
            ]
          },
          "metadata": {},
          "execution_count": 23
        }
      ]
    },
    {
      "cell_type": "markdown",
      "source": [
        "A Friedman test was run to determine if there were differences in the scores per version. Scores were statistically significantly different for the three visualisations, χ2(2) = 6.3488, p = 0.0418. "
      ],
      "metadata": {
        "id": "Dk_C7LWq05BS"
      }
    },
    {
      "cell_type": "code",
      "source": [
        "print(stats.wilcoxon(X['V1 score'], X['V2 score']))\n",
        "print(stats.wilcoxon(X['V1 score'], X['V3 score']))\n",
        "print(stats.wilcoxon(X['V2 score'], X['V3 score']))"
      ],
      "metadata": {
        "id": "jaWftR2fRpk9",
        "colab": {
          "base_uri": "https://localhost:8080/"
        },
        "outputId": "e5773306-41f7-48fb-832b-70de680c522e"
      },
      "execution_count": null,
      "outputs": [
        {
          "output_type": "stream",
          "name": "stdout",
          "text": [
            "WilcoxonResult(statistic=63.0, pvalue=0.18070992129758068)\n",
            "WilcoxonResult(statistic=49.5, pvalue=0.005351593083211129)\n",
            "WilcoxonResult(statistic=80.5, pvalue=0.011334668096509341)\n"
          ]
        }
      ]
    },
    {
      "cell_type": "markdown",
      "source": [
        "Post hoc analysis with Wilcoxon signed-rank tests was conducted with a Bonferroni correction applied, resulting in a significance level set at p < 0.017. Median (IQR) perceived effort levels for Vis 1, Vis 2 and Vis 3 were equal for the three visualisations (Median: 3, IQR1:2 - IQR3:3). There were no significant differences in the scores obtained for the three visualisations."
      ],
      "metadata": {
        "id": "uYzD0XlMK2sD"
      }
    },
    {
      "cell_type": "markdown",
      "source": [
        "Overall, students spent more time answering V3 (HIVE), then V2 (tasks bars) and V1 (communication graph). However, there were no differences in their score."
      ],
      "metadata": {
        "id": "mAs0Enu7N0Nz"
      }
    },
    {
      "cell_type": "code",
      "source": [
        "print(\"Time completion vs Score regression\")\n",
        "sns.lmplot(data=df2, x=\"score\", y=\"timing\", hue=\"vis\")"
      ],
      "metadata": {
        "id": "MtWTJ5cHWIjs",
        "colab": {
          "base_uri": "https://localhost:8080/",
          "height": 400
        },
        "outputId": "a2b87b39-b04f-49a4-d2e1-2c845b7ea5e5"
      },
      "execution_count": null,
      "outputs": [
        {
          "output_type": "stream",
          "name": "stdout",
          "text": [
            "Time completion vs Score regression\n"
          ]
        },
        {
          "output_type": "execute_result",
          "data": {
            "text/plain": [
              "<seaborn.axisgrid.FacetGrid at 0x7f52cdd43c50>"
            ]
          },
          "metadata": {},
          "execution_count": 25
        },
        {
          "output_type": "display_data",
          "data": {
            "text/plain": [
              "<Figure size 453.85x360 with 1 Axes>"
            ],
            "image/png": "[encoded data removed]"
          },
          "metadata": {}
        }
      ]
    },
    {
      "cell_type": "markdown",
      "source": [
        "# **Part 2: Evaluating clusters in Agglomerative Clustering** "
      ],
      "metadata": {
        "id": "wv4zGt8_8nKi"
      }
    },
    {
      "cell_type": "code",
      "source": [
        "from sklearn.cluster import AgglomerativeClustering\n",
        "from sklearn.metrics import silhouette_score,calinski_harabasz_score,davies_bouldin_score"
      ],
      "metadata": {
        "id": "eJT9_CKl9M9T"
      },
      "execution_count": null,
      "outputs": []
    },
    {
      "cell_type": "code",
      "source": [
        "from sklearn.preprocessing import StandardScaler, normalize\n",
        "X.dropna(axis=0, inplace=True)\n",
        "# X.fillna(method='ffill', inplace=True)\n",
        "scaler = StandardScaler()\n",
        "X_scaled = scaler.fit_transform(X)\n",
        "\n",
        "# Normalizing the data so that the data approximately\n",
        "# follows a Gaussian distribution\n",
        "X_normalized = normalize(X_scaled)\n",
        "\n",
        "    # Converting the numpy array into a pandas DataFrame\n",
        "X_normalized = pd.DataFrame(X_normalized)\n",
        "X_normalized.columns = [\"V1 score\", \"V1 avg timing\", \"V2 score\", \"V2 avg timing\", \"V3 score\", \"V3 avg timing\",\"Raw score\"]\n",
        "V1 = X_normalized [[\"V1 score\", \"V1 avg timing\"]] \n",
        "V2 = X_normalized [[\"V2 score\", \"V2 avg timing\"]]\n",
        "V3 = X_normalized [[\"V3 score\", \"V3 avg timing\"]]\n",
        "V1.head()"
      ],
      "metadata": {
        "id": "JzenPg2dNTXx",
        "colab": {
          "base_uri": "https://localhost:8080/",
          "height": 293
        },
        "outputId": "3c95b188-df10-4a90-d80e-1980c0ebec32"
      },
      "execution_count": null,
      "outputs": [
        {
          "output_type": "stream",
          "name": "stderr",
          "text": [
            "/usr/local/lib/python3.7/dist-packages/pandas/util/_decorators.py:311: SettingWithCopyWarning: \n",
            "A value is trying to be set on a copy of a slice from a DataFrame\n",
            "\n",
            "See the caveats in the documentation: https://pandas.pydata.org/pandas-docs/stable/user_guide/indexing.html#returning-a-view-versus-a-copy\n",
            "  return func(*args, **kwargs)\n"
          ]
        },
        {
          "output_type": "execute_result",
          "data": {
            "text/plain": [
              "   V1 score  V1 avg timing\n",
              "0  0.182996      -0.138536\n",
              "1  0.318272      -0.372987\n",
              "2  0.318409      -0.262305\n",
              "3  0.307858      -0.301881\n",
              "4 -0.312964      -0.195778"
            ],
            "text/html": [
              "\n",
              "  <div id=\"df-cf8cafe0-5e9b-48d1-ba8a-c9d9bd1f9716\">\n",
              "    <div class=\"colab-df-container\">\n",
              "      <div>\n",
              "<style scoped>\n",
              "    .dataframe tbody tr th:only-of-type {\n",
              "        vertical-align: middle;\n",
              "    }\n",
              "\n",
              "    .dataframe tbody tr th {\n",
              "        vertical-align: top;\n",
              "    }\n",
              "\n",
              "    .dataframe thead th {\n",
              "        text-align: right;\n",
              "    }\n",
              "</style>\n",
              "<table border=\"1\" class=\"dataframe\">\n",
              "  <thead>\n",
              "    <tr style=\"text-align: right;\">\n",
              "      <th></th>\n",
              "      <th>V1 score</th>\n",
              "      <th>V1 avg timing</th>\n",
              "    </tr>\n",
              "  </thead>\n",
              "  <tbody>\n",
              "    <tr>\n",
              "      <th>0</th>\n",
              "      <td>0.182996</td>\n",
              "      <td>-0.138536</td>\n",
              "    </tr>\n",
              "    <tr>\n",
              "      <th>1</th>\n",
              "      <td>0.318272</td>\n",
              "      <td>-0.372987</td>\n",
              "    </tr>\n",
              "    <tr>\n",
              "      <th>2</th>\n",
              "      <td>0.318409</td>\n",
              "      <td>-0.262305</td>\n",
              "    </tr>\n",
              "    <tr>\n",
              "      <th>3</th>\n",
              "      <td>0.307858</td>\n",
              "      <td>-0.301881</td>\n",
              "    </tr>\n",
              "    <tr>\n",
              "      <th>4</th>\n",
              "      <td>-0.312964</td>\n",
              "      <td>-0.195778</td>\n",
              "    </tr>\n",
              "  </tbody>\n",
              "</table>\n",
              "</div>\n",
              "      <button class=\"colab-df-convert\" onclick=\"convertToInteractive('df-cf8cafe0-5e9b-48d1-ba8a-c9d9bd1f9716')\"\n",
              "              title=\"Convert this dataframe to an interactive table.\"\n",
              "              style=\"display:none;\">\n",
              "        \n",
              "  <svg xmlns=\"http://www.w3.org/2000/svg\" height=\"24px\"viewBox=\"0 0 24 24\"\n",
              "       width=\"24px\">\n",
              "    <path d=\"M0 0h24v24H0V0z\" fill=\"none\"/>\n",
              "    <path d=\"M18.56 5.44l.94 2.06.94-2.06 2.06-.94-2.06-.94-.94-2.06-.94 2.06-2.06.94zm-11 1L8.5 8.5l.94-2.06 2.06-.94-2.06-.94L8.5 2.5l-.94 2.06-2.06.94zm10 10l.94 2.06.94-2.06 2.06-.94-2.06-.94-.94-2.06-.94 2.06-2.06.94z\"/><path d=\"M17.41 7.96l-1.37-1.37c-.4-.4-.92-.59-1.43-.59-.52 0-1.04.2-1.43.59L10.3 9.45l-7.72 7.72c-.78.78-.78 2.05 0 2.83L4 21.41c.39.39.9.59 1.41.59.51 0 1.02-.2 1.41-.59l7.78-7.78 2.81-2.81c.8-.78.8-2.07 0-2.86zM5.41 20L4 18.59l7.72-7.72 1.47 1.35L5.41 20z\"/>\n",
              "  </svg>\n",
              "      </button>\n",
              "      \n",
              "  <style>\n",
              "    .colab-df-container {\n",
              "      display:flex;\n",
              "      flex-wrap:wrap;\n",
              "      gap: 12px;\n",
              "    }\n",
              "\n",
              "    .colab-df-convert {\n",
              "      background-color: #E8F0FE;\n",
              "      border: none;\n",
              "      border-radius: 50%;\n",
              "      cursor: pointer;\n",
              "      display: none;\n",
              "      fill: #1967D2;\n",
              "      height: 32px;\n",
              "      padding: 0 0 0 0;\n",
              "      width: 32px;\n",
              "    }\n",
              "\n",
              "    .colab-df-convert:hover {\n",
              "      background-color: #E2EBFA;\n",
              "      box-shadow: 0px 1px 2px rgba(60, 64, 67, 0.3), 0px 1px 3px 1px rgba(60, 64, 67, 0.15);\n",
              "      fill: #174EA6;\n",
              "    }\n",
              "\n",
              "    [theme=dark] .colab-df-convert {\n",
              "      background-color: #3B4455;\n",
              "      fill: #D2E3FC;\n",
              "    }\n",
              "\n",
              "    [theme=dark] .colab-df-convert:hover {\n",
              "      background-color: #434B5C;\n",
              "      box-shadow: 0px 1px 3px 1px rgba(0, 0, 0, 0.15);\n",
              "      filter: drop-shadow(0px 1px 2px rgba(0, 0, 0, 0.3));\n",
              "      fill: #FFFFFF;\n",
              "    }\n",
              "  </style>\n",
              "\n",
              "      <script>\n",
              "        const buttonEl =\n",
              "          document.querySelector('#df-cf8cafe0-5e9b-48d1-ba8a-c9d9bd1f9716 button.colab-df-convert');\n",
              "        buttonEl.style.display =\n",
              "          google.colab.kernel.accessAllowed ? 'block' : 'none';\n",
              "\n",
              "        async function convertToInteractive(key) {\n",
              "          const element = document.querySelector('#df-cf8cafe0-5e9b-48d1-ba8a-c9d9bd1f9716');\n",
              "          const dataTable =\n",
              "            await google.colab.kernel.invokeFunction('convertToInteractive',\n",
              "                                                     [key], {});\n",
              "          if (!dataTable) return;\n",
              "\n",
              "          const docLinkHtml = 'Like what you see? Visit the ' +\n",
              "            '<a target=\"_blank\" href=https://colab.research.google.com/notebooks/data_table.ipynb>data table notebook</a>'\n",
              "            + ' to learn more about interactive tables.';\n",
              "          element.innerHTML = '';\n",
              "          dataTable['output_type'] = 'display_data';\n",
              "          await google.colab.output.renderOutput(dataTable, element);\n",
              "          const docLink = document.createElement('div');\n",
              "          docLink.innerHTML = docLinkHtml;\n",
              "          element.appendChild(docLink);\n",
              "        }\n",
              "      </script>\n",
              "    </div>\n",
              "  </div>\n",
              "  "
            ]
          },
          "metadata": {},
          "execution_count": 10
        }
      ]
    },
    {
      "cell_type": "markdown",
      "source": [
        "### **Dendogram**"
      ],
      "metadata": {
        "id": "-NYO3letl53o"
      }
    },
    {
      "cell_type": "markdown",
      "source": [
        "Finding an interesting number of clusters in a dendrogram is the same as finding the largest horizontal space that doesn't have any vertical lines (the space with the longest vertical lines). This means that there's more separation between the clusters."
      ],
      "metadata": {
        "id": "HM3U3zCnvneO"
      }
    },
    {
      "cell_type": "code",
      "source": [
        "plt.figure(figsize=(10, 7))\n",
        "plt.title(\"Customers Dendogram with X normalised\")\n",
        "clusters = shc.linkage(V3, method='ward', metric=\"euclidean\")\n",
        "shc.dendrogram(clusters)\n",
        "#plt.axhline(y = 3.5, color = 'r', linestyle = '-')"
      ],
      "metadata": {
        "id": "iP043NY3l-rZ",
        "colab": {
          "base_uri": "https://localhost:8080/",
          "height": 1000
        },
        "outputId": "b6dbc7ea-e1c2-4ffe-9f24-0404182cc5c9"
      },
      "execution_count": null,
      "outputs": [
        {
          "output_type": "execute_result",
          "data": {
            "text/plain": [
              "{'icoord': [[15.0, 15.0, 25.0, 25.0],\n",
              "  [35.0, 35.0, 45.0, 45.0],\n",
              "  [20.0, 20.0, 40.0, 40.0],\n",
              "  [5.0, 5.0, 30.0, 30.0],\n",
              "  [75.0, 75.0, 85.0, 85.0],\n",
              "  [65.0, 65.0, 80.0, 80.0],\n",
              "  [55.0, 55.0, 72.5, 72.5],\n",
              "  [17.5, 17.5, 63.75, 63.75],\n",
              "  [105.0, 105.0, 115.0, 115.0],\n",
              "  [95.0, 95.0, 110.0, 110.0],\n",
              "  [135.0, 135.0, 145.0, 145.0],\n",
              "  [125.0, 125.0, 140.0, 140.0],\n",
              "  [102.5, 102.5, 132.5, 132.5],\n",
              "  [40.625, 40.625, 117.5, 117.5],\n",
              "  [155.0, 155.0, 165.0, 165.0],\n",
              "  [175.0, 175.0, 185.0, 185.0],\n",
              "  [195.0, 195.0, 205.0, 205.0],\n",
              "  [180.0, 180.0, 200.0, 200.0],\n",
              "  [160.0, 160.0, 190.0, 190.0],\n",
              "  [79.0625, 79.0625, 175.0, 175.0],\n",
              "  [225.0, 225.0, 235.0, 235.0],\n",
              "  [215.0, 215.0, 230.0, 230.0],\n",
              "  [255.0, 255.0, 265.0, 265.0],\n",
              "  [245.0, 245.0, 260.0, 260.0],\n",
              "  [275.0, 275.0, 285.0, 285.0],\n",
              "  [295.0, 295.0, 305.0, 305.0],\n",
              "  [280.0, 280.0, 300.0, 300.0],\n",
              "  [325.0, 325.0, 335.0, 335.0],\n",
              "  [315.0, 315.0, 330.0, 330.0],\n",
              "  [290.0, 290.0, 322.5, 322.5],\n",
              "  [252.5, 252.5, 306.25, 306.25],\n",
              "  [222.5, 222.5, 279.375, 279.375],\n",
              "  [355.0, 355.0, 365.0, 365.0],\n",
              "  [345.0, 345.0, 360.0, 360.0],\n",
              "  [385.0, 385.0, 395.0, 395.0],\n",
              "  [375.0, 375.0, 390.0, 390.0],\n",
              "  [425.0, 425.0, 435.0, 435.0],\n",
              "  [415.0, 415.0, 430.0, 430.0],\n",
              "  [405.0, 405.0, 422.5, 422.5],\n",
              "  [382.5, 382.5, 413.75, 413.75],\n",
              "  [455.0, 455.0, 465.0, 465.0],\n",
              "  [445.0, 445.0, 460.0, 460.0],\n",
              "  [398.125, 398.125, 452.5, 452.5],\n",
              "  [352.5, 352.5, 425.3125, 425.3125],\n",
              "  [250.9375, 250.9375, 388.90625, 388.90625],\n",
              "  [127.03125, 127.03125, 319.921875, 319.921875]],\n",
              " 'dcoord': [[0.0, 0.014771200566774795, 0.014771200566774795, 0.0],\n",
              "  [0.0, 0.01999768653432985, 0.01999768653432985, 0.0],\n",
              "  [0.014771200566774795,\n",
              "   0.03474816136942043,\n",
              "   0.03474816136942043,\n",
              "   0.01999768653432985],\n",
              "  [0.0, 0.04507254045037698, 0.04507254045037698, 0.03474816136942043],\n",
              "  [0.0, 0.03949884483844544, 0.03949884483844544, 0.0],\n",
              "  [0.0, 0.08825931479137682, 0.08825931479137682, 0.03949884483844544],\n",
              "  [0.0, 0.12619913333506125, 0.12619913333506125, 0.08825931479137682],\n",
              "  [0.04507254045037698,\n",
              "   0.18936240265732646,\n",
              "   0.18936240265732646,\n",
              "   0.12619913333506125],\n",
              "  [0.0, 0.009106508135659596, 0.009106508135659596, 0.0],\n",
              "  [0.0, 0.05294893742653159, 0.05294893742653159, 0.009106508135659596],\n",
              "  [0.0, 0.040306609554588604, 0.040306609554588604, 0.0],\n",
              "  [0.0, 0.05374295248651558, 0.05374295248651558, 0.040306609554588604],\n",
              "  [0.05294893742653159,\n",
              "   0.19159196768498213,\n",
              "   0.19159196768498213,\n",
              "   0.05374295248651558],\n",
              "  [0.18936240265732646,\n",
              "   0.5628406033944593,\n",
              "   0.5628406033944593,\n",
              "   0.19159196768498213],\n",
              "  [0.0, 0.13979291904049954, 0.13979291904049954, 0.0],\n",
              "  [0.0, 0.0, 0.0, 0.0],\n",
              "  [0.0, 0.13533513537677153, 0.13533513537677153, 0.0],\n",
              "  [0.0, 0.34879404843822065, 0.34879404843822065, 0.13533513537677153],\n",
              "  [0.13979291904049954,\n",
              "   0.5669152887892188,\n",
              "   0.5669152887892188,\n",
              "   0.34879404843822065],\n",
              "  [0.5628406033944593,\n",
              "   1.1157641505374003,\n",
              "   1.1157641505374003,\n",
              "   0.5669152887892188],\n",
              "  [0.0, 0.07250690934249658, 0.07250690934249658, 0.0],\n",
              "  [0.0, 0.2319240783877534, 0.2319240783877534, 0.07250690934249658],\n",
              "  [0.0, 0.06686577181167072, 0.06686577181167072, 0.0],\n",
              "  [0.0, 0.18044078613952297, 0.18044078613952297, 0.06686577181167072],\n",
              "  [0.0, 0.02965318014884444, 0.02965318014884444, 0.0],\n",
              "  [0.0, 0.05911139613951457, 0.05911139613951457, 0.0],\n",
              "  [0.02965318014884444,\n",
              "   0.10102087832927185,\n",
              "   0.10102087832927185,\n",
              "   0.05911139613951457],\n",
              "  [0.0, 0.07732716591999791, 0.07732716591999791, 0.0],\n",
              "  [0.0, 0.1278986755278361, 0.1278986755278361, 0.07732716591999791],\n",
              "  [0.10102087832927185,\n",
              "   0.2394477774364601,\n",
              "   0.2394477774364601,\n",
              "   0.1278986755278361],\n",
              "  [0.18044078613952297,\n",
              "   0.5195835660909544,\n",
              "   0.5195835660909544,\n",
              "   0.2394477774364601],\n",
              "  [0.2319240783877534,\n",
              "   1.0507156197155239,\n",
              "   1.0507156197155239,\n",
              "   0.5195835660909544],\n",
              "  [0.0, 0.1270716552670979, 0.1270716552670979, 0.0],\n",
              "  [0.0, 0.5202370343331418, 0.5202370343331418, 0.1270716552670979],\n",
              "  [0.0, 0.03040459809673082, 0.03040459809673082, 0.0],\n",
              "  [0.0, 0.1334865803841006, 0.1334865803841006, 0.03040459809673082],\n",
              "  [0.0, 0.024869393711272864, 0.024869393711272864, 0.0],\n",
              "  [0.0, 0.0867791774135763, 0.0867791774135763, 0.024869393711272864],\n",
              "  [0.0, 0.2892603020186427, 0.2892603020186427, 0.0867791774135763],\n",
              "  [0.1334865803841006,\n",
              "   0.38819539335066505,\n",
              "   0.38819539335066505,\n",
              "   0.2892603020186427],\n",
              "  [0.0, 0.23610971154590307, 0.23610971154590307, 0.0],\n",
              "  [0.0, 0.44135964655999205, 0.44135964655999205, 0.23610971154590307],\n",
              "  [0.38819539335066505,\n",
              "   0.7374475248803641,\n",
              "   0.7374475248803641,\n",
              "   0.44135964655999205],\n",
              "  [0.5202370343331418,\n",
              "   1.4582205587809787,\n",
              "   1.4582205587809787,\n",
              "   0.7374475248803641],\n",
              "  [1.0507156197155239,\n",
              "   2.4912316885462533,\n",
              "   2.4912316885462533,\n",
              "   1.4582205587809787],\n",
              "  [1.1157641505374003,\n",
              "   3.657779558313896,\n",
              "   3.657779558313896,\n",
              "   2.4912316885462533]],\n",
              " 'ivl': ['8',\n",
              "  '20',\n",
              "  '25',\n",
              "  '15',\n",
              "  '23',\n",
              "  '33',\n",
              "  '29',\n",
              "  '11',\n",
              "  '16',\n",
              "  '17',\n",
              "  '3',\n",
              "  '6',\n",
              "  '14',\n",
              "  '1',\n",
              "  '2',\n",
              "  '7',\n",
              "  '42',\n",
              "  '31',\n",
              "  '32',\n",
              "  '22',\n",
              "  '26',\n",
              "  '18',\n",
              "  '4',\n",
              "  '10',\n",
              "  '0',\n",
              "  '13',\n",
              "  '37',\n",
              "  '9',\n",
              "  '12',\n",
              "  '19',\n",
              "  '24',\n",
              "  '21',\n",
              "  '5',\n",
              "  '30',\n",
              "  '44',\n",
              "  '40',\n",
              "  '43',\n",
              "  '27',\n",
              "  '39',\n",
              "  '45',\n",
              "  '46',\n",
              "  '34',\n",
              "  '36',\n",
              "  '38',\n",
              "  '35',\n",
              "  '28',\n",
              "  '41'],\n",
              " 'leaves': [8,\n",
              "  20,\n",
              "  25,\n",
              "  15,\n",
              "  23,\n",
              "  33,\n",
              "  29,\n",
              "  11,\n",
              "  16,\n",
              "  17,\n",
              "  3,\n",
              "  6,\n",
              "  14,\n",
              "  1,\n",
              "  2,\n",
              "  7,\n",
              "  42,\n",
              "  31,\n",
              "  32,\n",
              "  22,\n",
              "  26,\n",
              "  18,\n",
              "  4,\n",
              "  10,\n",
              "  0,\n",
              "  13,\n",
              "  37,\n",
              "  9,\n",
              "  12,\n",
              "  19,\n",
              "  24,\n",
              "  21,\n",
              "  5,\n",
              "  30,\n",
              "  44,\n",
              "  40,\n",
              "  43,\n",
              "  27,\n",
              "  39,\n",
              "  45,\n",
              "  46,\n",
              "  34,\n",
              "  36,\n",
              "  38,\n",
              "  35,\n",
              "  28,\n",
              "  41],\n",
              " 'color_list': ['C1',\n",
              "  'C1',\n",
              "  'C1',\n",
              "  'C1',\n",
              "  'C1',\n",
              "  'C1',\n",
              "  'C1',\n",
              "  'C1',\n",
              "  'C1',\n",
              "  'C1',\n",
              "  'C1',\n",
              "  'C1',\n",
              "  'C1',\n",
              "  'C1',\n",
              "  'C1',\n",
              "  'C1',\n",
              "  'C1',\n",
              "  'C1',\n",
              "  'C1',\n",
              "  'C1',\n",
              "  'C2',\n",
              "  'C2',\n",
              "  'C2',\n",
              "  'C2',\n",
              "  'C2',\n",
              "  'C2',\n",
              "  'C2',\n",
              "  'C2',\n",
              "  'C2',\n",
              "  'C2',\n",
              "  'C2',\n",
              "  'C2',\n",
              "  'C2',\n",
              "  'C2',\n",
              "  'C2',\n",
              "  'C2',\n",
              "  'C2',\n",
              "  'C2',\n",
              "  'C2',\n",
              "  'C2',\n",
              "  'C2',\n",
              "  'C2',\n",
              "  'C2',\n",
              "  'C2',\n",
              "  'C2',\n",
              "  'C0'],\n",
              " 'leaves_color_list': ['C1',\n",
              "  'C1',\n",
              "  'C1',\n",
              "  'C1',\n",
              "  'C1',\n",
              "  'C1',\n",
              "  'C1',\n",
              "  'C1',\n",
              "  'C1',\n",
              "  'C1',\n",
              "  'C1',\n",
              "  'C1',\n",
              "  'C1',\n",
              "  'C1',\n",
              "  'C1',\n",
              "  'C1',\n",
              "  'C1',\n",
              "  'C1',\n",
              "  'C1',\n",
              "  'C1',\n",
              "  'C1',\n",
              "  'C2',\n",
              "  'C2',\n",
              "  'C2',\n",
              "  'C2',\n",
              "  'C2',\n",
              "  'C2',\n",
              "  'C2',\n",
              "  'C2',\n",
              "  'C2',\n",
              "  'C2',\n",
              "  'C2',\n",
              "  'C2',\n",
              "  'C2',\n",
              "  'C2',\n",
              "  'C2',\n",
              "  'C2',\n",
              "  'C2',\n",
              "  'C2',\n",
              "  'C2',\n",
              "  'C2',\n",
              "  'C2',\n",
              "  'C2',\n",
              "  'C2',\n",
              "  'C2',\n",
              "  'C2',\n",
              "  'C2']}"
            ]
          },
          "metadata": {},
          "execution_count": 51
        },
        {
          "output_type": "display_data",
          "data": {
            "text/plain": [
              "<Figure size 720x504 with 1 Axes>"
            ],
            "image/png": "[encoded data removed]"
          },
          "metadata": {}
        }
      ]
    },
    {
      "cell_type": "markdown",
      "source": [
        "### **Evaluation using diferent coeficients**"
      ],
      "metadata": {
        "id": "qzkxiDGrrfaf"
      }
    },
    {
      "cell_type": "markdown",
      "source": [
        "Calculating Silouette coefficient, Calinski-Harabasz Index and Davies-Bouldin Index with different *k* values.\n",
        "\n",
        "**Silouette coefficient:** closer to 1, the better\n",
        "\n",
        "**Calinski-Harabasz Index:** the higher the better\n",
        "\n",
        "**Davies-Bouldin Index:** the smaller (closer to 0) the better"
      ],
      "metadata": {
        "id": "MoaWEYxVkm-U"
      }
    },
    {
      "cell_type": "code",
      "source": [
        "se = [] \n",
        "sil_scores = []\n",
        "calinski_score = []\n",
        "davies_score = []\n",
        "index = range(2, 10)\n",
        "for i in index:\n",
        "    cluster = AgglomerativeClustering(n_clusters=i, affinity='euclidean', linkage='ward', compute_distances=True)\n",
        "    labels = cluster.fit_predict(V3)\n",
        "    # se.append(cluster.distances_)\n",
        "    sil_scores.append(silhouette_score(V3, labels))\n",
        "    calinski_score.append(calinski_harabasz_score(V3, labels))\n",
        "    davies_score.append(davies_bouldin_score(V3, labels))\n",
        "\n",
        "    # print('With in sum of squared error (WCSS) at K =', i, ':', cluster.distances_)\n",
        "    print(\"cluster: \"+str(i))\n",
        "    print(\"Silhouette Coefficient: %0.3f\" % silhouette_score(V3, labels)) #closer to 1, the better\n",
        "    print(\"Calinski-Harabasz Index: %0.3f\" % calinski_harabasz_score(V3, labels)) # the higher the better\n",
        "    print(\"Davies-Bouldin Index: %0.3f\" % davies_bouldin_score(V3, labels)) #should be small\n",
        "    print(\"---------------------------------------------------------------\")"
      ],
      "metadata": {
        "id": "2O9AW87w30Aa",
        "colab": {
          "base_uri": "https://localhost:8080/"
        },
        "outputId": "4e8e5978-c0db-4a5d-d640-cf3d37247d90"
      },
      "execution_count": null,
      "outputs": [
        {
          "output_type": "stream",
          "name": "stdout",
          "text": [
            "cluster: 2\n",
            "Silhouette Coefficient: 0.488\n",
            "Calinski-Harabasz Index: 44.961\n",
            "Davies-Bouldin Index: 0.794\n",
            "---------------------------------------------------------------\n",
            "cluster: 3\n",
            "Silhouette Coefficient: 0.538\n",
            "Calinski-Harabasz Index: 59.971\n",
            "Davies-Bouldin Index: 0.718\n",
            "---------------------------------------------------------------\n",
            "cluster: 4\n",
            "Silhouette Coefficient: 0.545\n",
            "Calinski-Harabasz Index: 61.522\n",
            "Davies-Bouldin Index: 0.638\n",
            "---------------------------------------------------------------\n",
            "cluster: 5\n",
            "Silhouette Coefficient: 0.493\n",
            "Calinski-Harabasz Index: 63.209\n",
            "Davies-Bouldin Index: 0.734\n",
            "---------------------------------------------------------------\n",
            "cluster: 6\n",
            "Silhouette Coefficient: 0.513\n",
            "Calinski-Harabasz Index: 72.817\n",
            "Davies-Bouldin Index: 0.633\n",
            "---------------------------------------------------------------\n",
            "cluster: 7\n",
            "Silhouette Coefficient: 0.509\n",
            "Calinski-Harabasz Index: 75.741\n",
            "Davies-Bouldin Index: 0.714\n",
            "---------------------------------------------------------------\n",
            "cluster: 8\n",
            "Silhouette Coefficient: 0.520\n",
            "Calinski-Harabasz Index: 75.299\n",
            "Davies-Bouldin Index: 0.624\n",
            "---------------------------------------------------------------\n",
            "cluster: 9\n",
            "Silhouette Coefficient: 0.513\n",
            "Calinski-Harabasz Index: 78.497\n",
            "Davies-Bouldin Index: 0.614\n",
            "---------------------------------------------------------------\n"
          ]
        }
      ]
    },
    {
      "cell_type": "code",
      "source": [
        "# wrapper to use yellowbrick cluster library\n",
        "class AgglomerativeClusteringWrapper(AgglomerativeClustering):\n",
        "    def predict(self,X):\n",
        "      return self.labels_.astype(int)"
      ],
      "metadata": {
        "id": "lgc5QbgOJqwz"
      },
      "execution_count": null,
      "outputs": []
    },
    {
      "cell_type": "code",
      "source": [
        "#from yellowbrick.cluster import SilhouetteVisualizer\n",
        "#fig, ax = plt.subplots(2, 2, figsize=(15,8))\n",
        "#for i in [2, 3, 4, 5, 6]:\n",
        "#  q, mod = divmod(i, 2)\n",
        "#  km = AgglomerativeClusteringWrapper(n_clusters=i, affinity='euclidean', linkage='ward')\n",
        "  #km.fit(X)\n",
        "#  visualizer = SilhouetteVisualizer(km, colors='yellowbrick', ax=ax[q-1][mod])\n",
        "#  visualizer.fit(X_normalized)"
      ],
      "metadata": {
        "id": "n0TWq_az-f9P"
      },
      "execution_count": null,
      "outputs": []
    },
    {
      "cell_type": "markdown",
      "source": [
        "From the **Silhouette** visualisation, k=2 and k=5 are the best options due to their value being closer to 1."
      ],
      "metadata": {
        "id": "Ke0AC6vKlb6_"
      }
    },
    {
      "cell_type": "code",
      "source": [
        "fig, ax = plt.subplots(1, 3, figsize=(15, 6))\n",
        "\n",
        "ax[0].plot(index, calinski_score, marker='o')\n",
        "ax[0].set_xlabel('Clusters')\n",
        "ax[0].set_ylabel('Calinski-Harabasz Index')\n",
        "\n",
        "ax[1].plot(index, davies_score, marker='o')\n",
        "ax[1].set_xlabel('Clusters')\n",
        "ax[1].set_ylabel('Davies-Bouldin Index')\n",
        "\n",
        "ax[2].plot(index, sil_scores, marker='o')\n",
        "ax[2].set_xlabel('Clusters')\n",
        "ax[2].set_ylabel('Silhouette Score Index')\n",
        "\n",
        "plt.show()"
      ],
      "metadata": {
        "id": "b02ZIxZq--TS",
        "colab": {
          "base_uri": "https://localhost:8080/",
          "height": 396
        },
        "outputId": "9a647dad-c1b9-4ca3-9dbd-df2b640ae932"
      },
      "execution_count": null,
      "outputs": [
        {
          "output_type": "display_data",
          "data": {
            "text/plain": [
              "<Figure size 1080x432 with 3 Axes>"
            ],
            "image/png": "[encoded data removed]"
          },
          "metadata": {}
        }
      ]
    },
    {
      "cell_type": "markdown",
      "source": [
        "According to **Calinski-Harabasz Index**, an elbow is formed in **K=2**. The highest number indicates a model with a high variance ratio criterion. \n",
        "\n",
        "According to **Davies-Bouldin Index**, an elbow is formed in **K=3**. A value near zero indicates a better partition.\n",
        "\n",
        "According to **Silhouette Score**, the highest value is at **K=2**. A higher score means that clusters are dense and well separated.\n",
        "\n",
        "https://scikit-learn.org/stable/modules/clustering.html#homogeneity-completeness\n"
      ],
      "metadata": {
        "id": "cp_VldQOLtAd"
      }
    },
    {
      "cell_type": "markdown",
      "source": [
        "### **Building final model**"
      ],
      "metadata": {
        "id": "qLAwugDlMOJ3"
      }
    },
    {
      "cell_type": "code",
      "source": [
        "cluster = AgglomerativeClustering(n_clusters=3, affinity='euclidean', linkage='ward', compute_distances=True)\n",
        "labels = cluster.fit_predict(V1)\n",
        "\n",
        "print(\"Silhouette Coefficient: %0.3f\" % silhouette_score(V1, labels)) #closer to 1, the better\n",
        "print(\"Calinski-Harabasz Index: %0.3f\" % calinski_harabasz_score(V1, labels)) #the higher the better\n",
        "print(\"Davies-Bouldin Index: %0.3f\" % davies_bouldin_score(V1, labels)) #should be small"
      ],
      "metadata": {
        "id": "Dmi9F2D7LqGu",
        "colab": {
          "base_uri": "https://localhost:8080/"
        },
        "outputId": "27bd687d-e57b-4f90-e7a4-29ad3c2bc7d2"
      },
      "execution_count": null,
      "outputs": [
        {
          "output_type": "stream",
          "name": "stdout",
          "text": [
            "Silhouette Coefficient: 0.656\n",
            "Calinski-Harabasz Index: 90.208\n",
            "Davies-Bouldin Index: 0.618\n"
          ]
        }
      ]
    },
    {
      "cell_type": "code",
      "source": [
        "sns.lineplot(x=[i for i in range(len(cluster.distances_),0,-1)], y=cluster.distances_)"
      ],
      "metadata": {
        "id": "ZS2kcVDWcBNA",
        "colab": {
          "base_uri": "https://localhost:8080/",
          "height": 285
        },
        "outputId": "8f64e073-ea2b-4aa6-9dc4-044f9523a414"
      },
      "execution_count": null,
      "outputs": [
        {
          "output_type": "execute_result",
          "data": {
            "text/plain": [
              "<matplotlib.axes._subplots.AxesSubplot at 0x7f0819f36690>"
            ]
          },
          "metadata": {},
          "execution_count": 94
        },
        {
          "output_type": "display_data",
          "data": {
            "text/plain": [
              "<Figure size 432x288 with 1 Axes>"
            ],
            "image/png": "[encoded data removed]"
          },
          "metadata": {}
        }
      ]
    },
    {
      "cell_type": "code",
      "source": [
        "X_normalized['V1-clusters'] = labels\n",
        "X['V1-clusters']=labels"
      ],
      "metadata": {
        "id": "Cq6QC-afLqcb",
        "colab": {
          "base_uri": "https://localhost:8080/"
        },
        "outputId": "eaaa850e-066f-49a4-e7a4-2ec0a35c1674"
      },
      "execution_count": null,
      "outputs": [
        {
          "output_type": "stream",
          "name": "stderr",
          "text": [
            "/usr/local/lib/python3.7/dist-packages/ipykernel_launcher.py:2: SettingWithCopyWarning: \n",
            "A value is trying to be set on a copy of a slice from a DataFrame.\n",
            "Try using .loc[row_indexer,col_indexer] = value instead\n",
            "\n",
            "See the caveats in the documentation: https://pandas.pydata.org/pandas-docs/stable/user_guide/indexing.html#returning-a-view-versus-a-copy\n",
            "  \n"
          ]
        }
      ]
    },
    {
      "cell_type": "code",
      "source": [
        "X.head()"
      ],
      "metadata": {
        "id": "CVWgxMSAO0Wq",
        "colab": {
          "base_uri": "https://localhost:8080/",
          "height": 206
        },
        "outputId": "2d914aaa-5b15-4c88-e2d8-86d984334a49"
      },
      "execution_count": null,
      "outputs": [
        {
          "output_type": "execute_result",
          "data": {
            "text/plain": [
              "   V1 score  V1 avg timing  V2 score  V2 avg timing  V3 score  V3 avg timing  \\\n",
              "0       3.0      15.211667       1.0       9.594000       2.0      11.364000   \n",
              "1       3.0       9.402667       2.0      14.059333       3.0      18.571667   \n",
              "2       3.0      14.277000       2.0      11.713000       3.0      16.521333   \n",
              "3       3.0      12.081667       3.0      19.195333       3.0      11.334667   \n",
              "4       2.0       7.125667       3.0      21.739667       0.0      19.405667   \n",
              "\n",
              "   Raw score  V1-clusters  V2-clusters  V3-clusters  \n",
              "0        6.0            1            1            2  \n",
              "1        8.0            1            1            0  \n",
              "2        8.0            1            1            0  \n",
              "3        9.0            1            0            0  \n",
              "4        5.0            2            0            2  "
            ],
            "text/html": [
              "\n",
              "  <div id=\"df-0fd12482-bf11-450d-95a6-17fb42e7e01a\">\n",
              "    <div class=\"colab-df-container\">\n",
              "      <div>\n",
              "<style scoped>\n",
              "    .dataframe tbody tr th:only-of-type {\n",
              "        vertical-align: middle;\n",
              "    }\n",
              "\n",
              "    .dataframe tbody tr th {\n",
              "        vertical-align: top;\n",
              "    }\n",
              "\n",
              "    .dataframe thead th {\n",
              "        text-align: right;\n",
              "    }\n",
              "</style>\n",
              "<table border=\"1\" class=\"dataframe\">\n",
              "  <thead>\n",
              "    <tr style=\"text-align: right;\">\n",
              "      <th></th>\n",
              "      <th>V1 score</th>\n",
              "      <th>V1 avg timing</th>\n",
              "      <th>V2 score</th>\n",
              "      <th>V2 avg timing</th>\n",
              "      <th>V3 score</th>\n",
              "      <th>V3 avg timing</th>\n",
              "      <th>Raw score</th>\n",
              "      <th>V1-clusters</th>\n",
              "      <th>V2-clusters</th>\n",
              "      <th>V3-clusters</th>\n",
              "    </tr>\n",
              "  </thead>\n",
              "  <tbody>\n",
              "    <tr>\n",
              "      <th>0</th>\n",
              "      <td>3.0</td>\n",
              "      <td>15.211667</td>\n",
              "      <td>1.0</td>\n",
              "      <td>9.594000</td>\n",
              "      <td>2.0</td>\n",
              "      <td>11.364000</td>\n",
              "      <td>6.0</td>\n",
              "      <td>1</td>\n",
              "      <td>1</td>\n",
              "      <td>2</td>\n",
              "    </tr>\n",
              "    <tr>\n",
              "      <th>1</th>\n",
              "      <td>3.0</td>\n",
              "      <td>9.402667</td>\n",
              "      <td>2.0</td>\n",
              "      <td>14.059333</td>\n",
              "      <td>3.0</td>\n",
              "      <td>18.571667</td>\n",
              "      <td>8.0</td>\n",
              "      <td>1</td>\n",
              "      <td>1</td>\n",
              "      <td>0</td>\n",
              "    </tr>\n",
              "    <tr>\n",
              "      <th>2</th>\n",
              "      <td>3.0</td>\n",
              "      <td>14.277000</td>\n",
              "      <td>2.0</td>\n",
              "      <td>11.713000</td>\n",
              "      <td>3.0</td>\n",
              "      <td>16.521333</td>\n",
              "      <td>8.0</td>\n",
              "      <td>1</td>\n",
              "      <td>1</td>\n",
              "      <td>0</td>\n",
              "    </tr>\n",
              "    <tr>\n",
              "      <th>3</th>\n",
              "      <td>3.0</td>\n",
              "      <td>12.081667</td>\n",
              "      <td>3.0</td>\n",
              "      <td>19.195333</td>\n",
              "      <td>3.0</td>\n",
              "      <td>11.334667</td>\n",
              "      <td>9.0</td>\n",
              "      <td>1</td>\n",
              "      <td>0</td>\n",
              "      <td>0</td>\n",
              "    </tr>\n",
              "    <tr>\n",
              "      <th>4</th>\n",
              "      <td>2.0</td>\n",
              "      <td>7.125667</td>\n",
              "      <td>3.0</td>\n",
              "      <td>21.739667</td>\n",
              "      <td>0.0</td>\n",
              "      <td>19.405667</td>\n",
              "      <td>5.0</td>\n",
              "      <td>2</td>\n",
              "      <td>0</td>\n",
              "      <td>2</td>\n",
              "    </tr>\n",
              "  </tbody>\n",
              "</table>\n",
              "</div>\n",
              "      <button class=\"colab-df-convert\" onclick=\"convertToInteractive('df-0fd12482-bf11-450d-95a6-17fb42e7e01a')\"\n",
              "              title=\"Convert this dataframe to an interactive table.\"\n",
              "              style=\"display:none;\">\n",
              "        \n",
              "  <svg xmlns=\"http://www.w3.org/2000/svg\" height=\"24px\"viewBox=\"0 0 24 24\"\n",
              "       width=\"24px\">\n",
              "    <path d=\"M0 0h24v24H0V0z\" fill=\"none\"/>\n",
              "    <path d=\"M18.56 5.44l.94 2.06.94-2.06 2.06-.94-2.06-.94-.94-2.06-.94 2.06-2.06.94zm-11 1L8.5 8.5l.94-2.06 2.06-.94-2.06-.94L8.5 2.5l-.94 2.06-2.06.94zm10 10l.94 2.06.94-2.06 2.06-.94-2.06-.94-.94-2.06-.94 2.06-2.06.94z\"/><path d=\"M17.41 7.96l-1.37-1.37c-.4-.4-.92-.59-1.43-.59-.52 0-1.04.2-1.43.59L10.3 9.45l-7.72 7.72c-.78.78-.78 2.05 0 2.83L4 21.41c.39.39.9.59 1.41.59.51 0 1.02-.2 1.41-.59l7.78-7.78 2.81-2.81c.8-.78.8-2.07 0-2.86zM5.41 20L4 18.59l7.72-7.72 1.47 1.35L5.41 20z\"/>\n",
              "  </svg>\n",
              "      </button>\n",
              "      \n",
              "  <style>\n",
              "    .colab-df-container {\n",
              "      display:flex;\n",
              "      flex-wrap:wrap;\n",
              "      gap: 12px;\n",
              "    }\n",
              "\n",
              "    .colab-df-convert {\n",
              "      background-color: #E8F0FE;\n",
              "      border: none;\n",
              "      border-radius: 50%;\n",
              "      cursor: pointer;\n",
              "      display: none;\n",
              "      fill: #1967D2;\n",
              "      height: 32px;\n",
              "      padding: 0 0 0 0;\n",
              "      width: 32px;\n",
              "    }\n",
              "\n",
              "    .colab-df-convert:hover {\n",
              "      background-color: #E2EBFA;\n",
              "      box-shadow: 0px 1px 2px rgba(60, 64, 67, 0.3), 0px 1px 3px 1px rgba(60, 64, 67, 0.15);\n",
              "      fill: #174EA6;\n",
              "    }\n",
              "\n",
              "    [theme=dark] .colab-df-convert {\n",
              "      background-color: #3B4455;\n",
              "      fill: #D2E3FC;\n",
              "    }\n",
              "\n",
              "    [theme=dark] .colab-df-convert:hover {\n",
              "      background-color: #434B5C;\n",
              "      box-shadow: 0px 1px 3px 1px rgba(0, 0, 0, 0.15);\n",
              "      filter: drop-shadow(0px 1px 2px rgba(0, 0, 0, 0.3));\n",
              "      fill: #FFFFFF;\n",
              "    }\n",
              "  </style>\n",
              "\n",
              "      <script>\n",
              "        const buttonEl =\n",
              "          document.querySelector('#df-0fd12482-bf11-450d-95a6-17fb42e7e01a button.colab-df-convert');\n",
              "        buttonEl.style.display =\n",
              "          google.colab.kernel.accessAllowed ? 'block' : 'none';\n",
              "\n",
              "        async function convertToInteractive(key) {\n",
              "          const element = document.querySelector('#df-0fd12482-bf11-450d-95a6-17fb42e7e01a');\n",
              "          const dataTable =\n",
              "            await google.colab.kernel.invokeFunction('convertToInteractive',\n",
              "                                                     [key], {});\n",
              "          if (!dataTable) return;\n",
              "\n",
              "          const docLinkHtml = 'Like what you see? Visit the ' +\n",
              "            '<a target=\"_blank\" href=https://colab.research.google.com/notebooks/data_table.ipynb>data table notebook</a>'\n",
              "            + ' to learn more about interactive tables.';\n",
              "          element.innerHTML = '';\n",
              "          dataTable['output_type'] = 'display_data';\n",
              "          await google.colab.output.renderOutput(dataTable, element);\n",
              "          const docLink = document.createElement('div');\n",
              "          docLink.innerHTML = docLinkHtml;\n",
              "          element.appendChild(docLink);\n",
              "        }\n",
              "      </script>\n",
              "    </div>\n",
              "  </div>\n",
              "  "
            ]
          },
          "metadata": {},
          "execution_count": 96
        }
      ]
    },
    {
      "cell_type": "code",
      "source": [
        "# data.head()"
      ],
      "metadata": {
        "id": "wveEYnqeLq3k"
      },
      "execution_count": null,
      "outputs": []
    },
    {
      "cell_type": "code",
      "source": [
        "splot = sns.countplot(data=X,x='V1-clusters')\n",
        "plt.xlabel('Cluster distributions')\n",
        "for p in splot.patches:\n",
        "  splot.annotate(format(p.get_height(), '.2f'), (p.get_x() + p.get_width() / 2., p.get_height()), ha = 'center', va = 'center', xytext = (0, 10), textcoords = 'offset points')\n",
        "plt.show()"
      ],
      "metadata": {
        "id": "76G4Gx1xLrCu",
        "colab": {
          "base_uri": "https://localhost:8080/",
          "height": 291
        },
        "outputId": "ba15cdc6-6ed1-4224-89d3-22785be3b63a"
      },
      "execution_count": null,
      "outputs": [
        {
          "output_type": "display_data",
          "data": {
            "text/plain": [
              "<Figure size 432x288 with 1 Axes>"
            ],
            "image/png": "[encoded data removed]"
          },
          "metadata": {}
        }
      ]
    },
    {
      "cell_type": "code",
      "source": [
        "X.to_csv(\"/content/drive/MyDrive/Datasets/vis-literacy/cluster-results.csv\")"
      ],
      "metadata": {
        "id": "X1mge0naLrWT"
      },
      "execution_count": null,
      "outputs": []
    },
    {
      "cell_type": "markdown",
      "source": [
        "# **Part 3: Clustering behaviour**"
      ],
      "metadata": {
        "id": "D8KhNvzJgFna"
      }
    },
    {
      "cell_type": "markdown",
      "source": [
        "### **Pre-processing**"
      ],
      "metadata": {
        "id": "LeQBcGphheCo"
      }
    },
    {
      "cell_type": "code",
      "source": [
        "# read CSV\n",
        "df_X=pd.read_csv('/content/drive/MyDrive/Datasets/vis-literacy/cluster-results.csv')\n",
        "df_X = df_X[[\"V1 score\", \"V1 avg timing\", \"V2 score\", \"V2 avg timing\", \"V3 score\", \"V3 avg timing\", \"Raw score\", \"V1-clusters\", \"V2-clusters\", \"V3-clusters\"]]\n",
        "df_X.head()"
      ],
      "metadata": {
        "id": "u8-uwKnIgalF",
        "colab": {
          "base_uri": "https://localhost:8080/",
          "height": 206
        },
        "outputId": "2c15987c-4e35-4615-fa51-5bec73b61365"
      },
      "execution_count": null,
      "outputs": [
        {
          "output_type": "execute_result",
          "data": {
            "text/plain": [
              "   V1 score  V1 avg timing  V2 score  V2 avg timing  V3 score  V3 avg timing  \\\n",
              "0       3.0      15.211667       1.0       9.594000       2.0      11.364000   \n",
              "1       3.0       9.402667       2.0      14.059333       3.0      18.571667   \n",
              "2       3.0      14.277000       2.0      11.713000       3.0      16.521333   \n",
              "3       3.0      12.081667       3.0      19.195333       3.0      11.334667   \n",
              "4       2.0       7.125667       3.0      21.739667       0.0      19.405667   \n",
              "\n",
              "   Raw score  V1-clusters  V2-clusters  V3-clusters  \n",
              "0        6.0            1            1            2  \n",
              "1        8.0            1            1            0  \n",
              "2        8.0            1            1            0  \n",
              "3        9.0            1            0            0  \n",
              "4        5.0            2            0            2  "
            ],
            "text/html": [
              "\n",
              "  <div id=\"df-eb388ac6-e79d-4ef7-b6ec-7553275ec8c5\">\n",
              "    <div class=\"colab-df-container\">\n",
              "      <div>\n",
              "<style scoped>\n",
              "    .dataframe tbody tr th:only-of-type {\n",
              "        vertical-align: middle;\n",
              "    }\n",
              "\n",
              "    .dataframe tbody tr th {\n",
              "        vertical-align: top;\n",
              "    }\n",
              "\n",
              "    .dataframe thead th {\n",
              "        text-align: right;\n",
              "    }\n",
              "</style>\n",
              "<table border=\"1\" class=\"dataframe\">\n",
              "  <thead>\n",
              "    <tr style=\"text-align: right;\">\n",
              "      <th></th>\n",
              "      <th>V1 score</th>\n",
              "      <th>V1 avg timing</th>\n",
              "      <th>V2 score</th>\n",
              "      <th>V2 avg timing</th>\n",
              "      <th>V3 score</th>\n",
              "      <th>V3 avg timing</th>\n",
              "      <th>Raw score</th>\n",
              "      <th>V1-clusters</th>\n",
              "      <th>V2-clusters</th>\n",
              "      <th>V3-clusters</th>\n",
              "    </tr>\n",
              "  </thead>\n",
              "  <tbody>\n",
              "    <tr>\n",
              "      <th>0</th>\n",
              "      <td>3.0</td>\n",
              "      <td>15.211667</td>\n",
              "      <td>1.0</td>\n",
              "      <td>9.594000</td>\n",
              "      <td>2.0</td>\n",
              "      <td>11.364000</td>\n",
              "      <td>6.0</td>\n",
              "      <td>1</td>\n",
              "      <td>1</td>\n",
              "      <td>2</td>\n",
              "    </tr>\n",
              "    <tr>\n",
              "      <th>1</th>\n",
              "      <td>3.0</td>\n",
              "      <td>9.402667</td>\n",
              "      <td>2.0</td>\n",
              "      <td>14.059333</td>\n",
              "      <td>3.0</td>\n",
              "      <td>18.571667</td>\n",
              "      <td>8.0</td>\n",
              "      <td>1</td>\n",
              "      <td>1</td>\n",
              "      <td>0</td>\n",
              "    </tr>\n",
              "    <tr>\n",
              "      <th>2</th>\n",
              "      <td>3.0</td>\n",
              "      <td>14.277000</td>\n",
              "      <td>2.0</td>\n",
              "      <td>11.713000</td>\n",
              "      <td>3.0</td>\n",
              "      <td>16.521333</td>\n",
              "      <td>8.0</td>\n",
              "      <td>1</td>\n",
              "      <td>1</td>\n",
              "      <td>0</td>\n",
              "    </tr>\n",
              "    <tr>\n",
              "      <th>3</th>\n",
              "      <td>3.0</td>\n",
              "      <td>12.081667</td>\n",
              "      <td>3.0</td>\n",
              "      <td>19.195333</td>\n",
              "      <td>3.0</td>\n",
              "      <td>11.334667</td>\n",
              "      <td>9.0</td>\n",
              "      <td>1</td>\n",
              "      <td>0</td>\n",
              "      <td>0</td>\n",
              "    </tr>\n",
              "    <tr>\n",
              "      <th>4</th>\n",
              "      <td>2.0</td>\n",
              "      <td>7.125667</td>\n",
              "      <td>3.0</td>\n",
              "      <td>21.739667</td>\n",
              "      <td>0.0</td>\n",
              "      <td>19.405667</td>\n",
              "      <td>5.0</td>\n",
              "      <td>2</td>\n",
              "      <td>0</td>\n",
              "      <td>2</td>\n",
              "    </tr>\n",
              "  </tbody>\n",
              "</table>\n",
              "</div>\n",
              "      <button class=\"colab-df-convert\" onclick=\"convertToInteractive('df-eb388ac6-e79d-4ef7-b6ec-7553275ec8c5')\"\n",
              "              title=\"Convert this dataframe to an interactive table.\"\n",
              "              style=\"display:none;\">\n",
              "        \n",
              "  <svg xmlns=\"http://www.w3.org/2000/svg\" height=\"24px\"viewBox=\"0 0 24 24\"\n",
              "       width=\"24px\">\n",
              "    <path d=\"M0 0h24v24H0V0z\" fill=\"none\"/>\n",
              "    <path d=\"M18.56 5.44l.94 2.06.94-2.06 2.06-.94-2.06-.94-.94-2.06-.94 2.06-2.06.94zm-11 1L8.5 8.5l.94-2.06 2.06-.94-2.06-.94L8.5 2.5l-.94 2.06-2.06.94zm10 10l.94 2.06.94-2.06 2.06-.94-2.06-.94-.94-2.06-.94 2.06-2.06.94z\"/><path d=\"M17.41 7.96l-1.37-1.37c-.4-.4-.92-.59-1.43-.59-.52 0-1.04.2-1.43.59L10.3 9.45l-7.72 7.72c-.78.78-.78 2.05 0 2.83L4 21.41c.39.39.9.59 1.41.59.51 0 1.02-.2 1.41-.59l7.78-7.78 2.81-2.81c.8-.78.8-2.07 0-2.86zM5.41 20L4 18.59l7.72-7.72 1.47 1.35L5.41 20z\"/>\n",
              "  </svg>\n",
              "      </button>\n",
              "      \n",
              "  <style>\n",
              "    .colab-df-container {\n",
              "      display:flex;\n",
              "      flex-wrap:wrap;\n",
              "      gap: 12px;\n",
              "    }\n",
              "\n",
              "    .colab-df-convert {\n",
              "      background-color: #E8F0FE;\n",
              "      border: none;\n",
              "      border-radius: 50%;\n",
              "      cursor: pointer;\n",
              "      display: none;\n",
              "      fill: #1967D2;\n",
              "      height: 32px;\n",
              "      padding: 0 0 0 0;\n",
              "      width: 32px;\n",
              "    }\n",
              "\n",
              "    .colab-df-convert:hover {\n",
              "      background-color: #E2EBFA;\n",
              "      box-shadow: 0px 1px 2px rgba(60, 64, 67, 0.3), 0px 1px 3px 1px rgba(60, 64, 67, 0.15);\n",
              "      fill: #174EA6;\n",
              "    }\n",
              "\n",
              "    [theme=dark] .colab-df-convert {\n",
              "      background-color: #3B4455;\n",
              "      fill: #D2E3FC;\n",
              "    }\n",
              "\n",
              "    [theme=dark] .colab-df-convert:hover {\n",
              "      background-color: #434B5C;\n",
              "      box-shadow: 0px 1px 3px 1px rgba(0, 0, 0, 0.15);\n",
              "      filter: drop-shadow(0px 1px 2px rgba(0, 0, 0, 0.3));\n",
              "      fill: #FFFFFF;\n",
              "    }\n",
              "  </style>\n",
              "\n",
              "      <script>\n",
              "        const buttonEl =\n",
              "          document.querySelector('#df-eb388ac6-e79d-4ef7-b6ec-7553275ec8c5 button.colab-df-convert');\n",
              "        buttonEl.style.display =\n",
              "          google.colab.kernel.accessAllowed ? 'block' : 'none';\n",
              "\n",
              "        async function convertToInteractive(key) {\n",
              "          const element = document.querySelector('#df-eb388ac6-e79d-4ef7-b6ec-7553275ec8c5');\n",
              "          const dataTable =\n",
              "            await google.colab.kernel.invokeFunction('convertToInteractive',\n",
              "                                                     [key], {});\n",
              "          if (!dataTable) return;\n",
              "\n",
              "          const docLinkHtml = 'Like what you see? Visit the ' +\n",
              "            '<a target=\"_blank\" href=https://colab.research.google.com/notebooks/data_table.ipynb>data table notebook</a>'\n",
              "            + ' to learn more about interactive tables.';\n",
              "          element.innerHTML = '';\n",
              "          dataTable['output_type'] = 'display_data';\n",
              "          await google.colab.output.renderOutput(dataTable, element);\n",
              "          const docLink = document.createElement('div');\n",
              "          docLink.innerHTML = docLinkHtml;\n",
              "          element.appendChild(docLink);\n",
              "        }\n",
              "      </script>\n",
              "    </div>\n",
              "  </div>\n",
              "  "
            ]
          },
          "metadata": {},
          "execution_count": 99
        }
      ]
    },
    {
      "cell_type": "code",
      "source": [
        "X_high = df_X[df_X['V1-clusters'] == 0]\n",
        "X_high.head()"
      ],
      "metadata": {
        "id": "GTvr7F_tgfk6",
        "colab": {
          "base_uri": "https://localhost:8080/",
          "height": 206
        },
        "outputId": "4f0b0ad1-f4d4-4364-e300-6233300f846e"
      },
      "execution_count": null,
      "outputs": [
        {
          "output_type": "execute_result",
          "data": {
            "text/plain": [
              "    V1 score  V1 avg timing  V2 score  V2 avg timing  V3 score  V3 avg timing  \\\n",
              "29       3.0      45.464000       3.0      15.441000       3.0      29.951333   \n",
              "30       3.0      56.279667       3.0      21.032667       2.0      19.023000   \n",
              "38       2.0      42.602333       3.0      44.285667       2.0      50.865333   \n",
              "39       3.0      71.682667       1.0      13.202000       2.0      51.859000   \n",
              "44       2.0      62.421000       3.0      94.864000       3.0      77.399667   \n",
              "\n",
              "    Raw score  V1-clusters  V2-clusters  V3-clusters  \n",
              "29        9.0            0            0            0  \n",
              "30        8.0            0            0            2  \n",
              "38        7.0            0            0            1  \n",
              "39        6.0            0            1            1  \n",
              "44        8.0            0            2            3  "
            ],
            "text/html": [
              "\n",
              "  <div id=\"df-b094cdcd-a0ed-409f-b0f7-e0838ea4463e\">\n",
              "    <div class=\"colab-df-container\">\n",
              "      <div>\n",
              "<style scoped>\n",
              "    .dataframe tbody tr th:only-of-type {\n",
              "        vertical-align: middle;\n",
              "    }\n",
              "\n",
              "    .dataframe tbody tr th {\n",
              "        vertical-align: top;\n",
              "    }\n",
              "\n",
              "    .dataframe thead th {\n",
              "        text-align: right;\n",
              "    }\n",
              "</style>\n",
              "<table border=\"1\" class=\"dataframe\">\n",
              "  <thead>\n",
              "    <tr style=\"text-align: right;\">\n",
              "      <th></th>\n",
              "      <th>V1 score</th>\n",
              "      <th>V1 avg timing</th>\n",
              "      <th>V2 score</th>\n",
              "      <th>V2 avg timing</th>\n",
              "      <th>V3 score</th>\n",
              "      <th>V3 avg timing</th>\n",
              "      <th>Raw score</th>\n",
              "      <th>V1-clusters</th>\n",
              "      <th>V2-clusters</th>\n",
              "      <th>V3-clusters</th>\n",
              "    </tr>\n",
              "  </thead>\n",
              "  <tbody>\n",
              "    <tr>\n",
              "      <th>29</th>\n",
              "      <td>3.0</td>\n",
              "      <td>45.464000</td>\n",
              "      <td>3.0</td>\n",
              "      <td>15.441000</td>\n",
              "      <td>3.0</td>\n",
              "      <td>29.951333</td>\n",
              "      <td>9.0</td>\n",
              "      <td>0</td>\n",
              "      <td>0</td>\n",
              "      <td>0</td>\n",
              "    </tr>\n",
              "    <tr>\n",
              "      <th>30</th>\n",
              "      <td>3.0</td>\n",
              "      <td>56.279667</td>\n",
              "      <td>3.0</td>\n",
              "      <td>21.032667</td>\n",
              "      <td>2.0</td>\n",
              "      <td>19.023000</td>\n",
              "      <td>8.0</td>\n",
              "      <td>0</td>\n",
              "      <td>0</td>\n",
              "      <td>2</td>\n",
              "    </tr>\n",
              "    <tr>\n",
              "      <th>38</th>\n",
              "      <td>2.0</td>\n",
              "      <td>42.602333</td>\n",
              "      <td>3.0</td>\n",
              "      <td>44.285667</td>\n",
              "      <td>2.0</td>\n",
              "      <td>50.865333</td>\n",
              "      <td>7.0</td>\n",
              "      <td>0</td>\n",
              "      <td>0</td>\n",
              "      <td>1</td>\n",
              "    </tr>\n",
              "    <tr>\n",
              "      <th>39</th>\n",
              "      <td>3.0</td>\n",
              "      <td>71.682667</td>\n",
              "      <td>1.0</td>\n",
              "      <td>13.202000</td>\n",
              "      <td>2.0</td>\n",
              "      <td>51.859000</td>\n",
              "      <td>6.0</td>\n",
              "      <td>0</td>\n",
              "      <td>1</td>\n",
              "      <td>1</td>\n",
              "    </tr>\n",
              "    <tr>\n",
              "      <th>44</th>\n",
              "      <td>2.0</td>\n",
              "      <td>62.421000</td>\n",
              "      <td>3.0</td>\n",
              "      <td>94.864000</td>\n",
              "      <td>3.0</td>\n",
              "      <td>77.399667</td>\n",
              "      <td>8.0</td>\n",
              "      <td>0</td>\n",
              "      <td>2</td>\n",
              "      <td>3</td>\n",
              "    </tr>\n",
              "  </tbody>\n",
              "</table>\n",
              "</div>\n",
              "      <button class=\"colab-df-convert\" onclick=\"convertToInteractive('df-b094cdcd-a0ed-409f-b0f7-e0838ea4463e')\"\n",
              "              title=\"Convert this dataframe to an interactive table.\"\n",
              "              style=\"display:none;\">\n",
              "        \n",
              "  <svg xmlns=\"http://www.w3.org/2000/svg\" height=\"24px\"viewBox=\"0 0 24 24\"\n",
              "       width=\"24px\">\n",
              "    <path d=\"M0 0h24v24H0V0z\" fill=\"none\"/>\n",
              "    <path d=\"M18.56 5.44l.94 2.06.94-2.06 2.06-.94-2.06-.94-.94-2.06-.94 2.06-2.06.94zm-11 1L8.5 8.5l.94-2.06 2.06-.94-2.06-.94L8.5 2.5l-.94 2.06-2.06.94zm10 10l.94 2.06.94-2.06 2.06-.94-2.06-.94-.94-2.06-.94 2.06-2.06.94z\"/><path d=\"M17.41 7.96l-1.37-1.37c-.4-.4-.92-.59-1.43-.59-.52 0-1.04.2-1.43.59L10.3 9.45l-7.72 7.72c-.78.78-.78 2.05 0 2.83L4 21.41c.39.39.9.59 1.41.59.51 0 1.02-.2 1.41-.59l7.78-7.78 2.81-2.81c.8-.78.8-2.07 0-2.86zM5.41 20L4 18.59l7.72-7.72 1.47 1.35L5.41 20z\"/>\n",
              "  </svg>\n",
              "      </button>\n",
              "      \n",
              "  <style>\n",
              "    .colab-df-container {\n",
              "      display:flex;\n",
              "      flex-wrap:wrap;\n",
              "      gap: 12px;\n",
              "    }\n",
              "\n",
              "    .colab-df-convert {\n",
              "      background-color: #E8F0FE;\n",
              "      border: none;\n",
              "      border-radius: 50%;\n",
              "      cursor: pointer;\n",
              "      display: none;\n",
              "      fill: #1967D2;\n",
              "      height: 32px;\n",
              "      padding: 0 0 0 0;\n",
              "      width: 32px;\n",
              "    }\n",
              "\n",
              "    .colab-df-convert:hover {\n",
              "      background-color: #E2EBFA;\n",
              "      box-shadow: 0px 1px 2px rgba(60, 64, 67, 0.3), 0px 1px 3px 1px rgba(60, 64, 67, 0.15);\n",
              "      fill: #174EA6;\n",
              "    }\n",
              "\n",
              "    [theme=dark] .colab-df-convert {\n",
              "      background-color: #3B4455;\n",
              "      fill: #D2E3FC;\n",
              "    }\n",
              "\n",
              "    [theme=dark] .colab-df-convert:hover {\n",
              "      background-color: #434B5C;\n",
              "      box-shadow: 0px 1px 3px 1px rgba(0, 0, 0, 0.15);\n",
              "      filter: drop-shadow(0px 1px 2px rgba(0, 0, 0, 0.3));\n",
              "      fill: #FFFFFF;\n",
              "    }\n",
              "  </style>\n",
              "\n",
              "      <script>\n",
              "        const buttonEl =\n",
              "          document.querySelector('#df-b094cdcd-a0ed-409f-b0f7-e0838ea4463e button.colab-df-convert');\n",
              "        buttonEl.style.display =\n",
              "          google.colab.kernel.accessAllowed ? 'block' : 'none';\n",
              "\n",
              "        async function convertToInteractive(key) {\n",
              "          const element = document.querySelector('#df-b094cdcd-a0ed-409f-b0f7-e0838ea4463e');\n",
              "          const dataTable =\n",
              "            await google.colab.kernel.invokeFunction('convertToInteractive',\n",
              "                                                     [key], {});\n",
              "          if (!dataTable) return;\n",
              "\n",
              "          const docLinkHtml = 'Like what you see? Visit the ' +\n",
              "            '<a target=\"_blank\" href=https://colab.research.google.com/notebooks/data_table.ipynb>data table notebook</a>'\n",
              "            + ' to learn more about interactive tables.';\n",
              "          element.innerHTML = '';\n",
              "          dataTable['output_type'] = 'display_data';\n",
              "          await google.colab.output.renderOutput(dataTable, element);\n",
              "          const docLink = document.createElement('div');\n",
              "          docLink.innerHTML = docLinkHtml;\n",
              "          element.appendChild(docLink);\n",
              "        }\n",
              "      </script>\n",
              "    </div>\n",
              "  </div>\n",
              "  "
            ]
          },
          "metadata": {},
          "execution_count": 100
        }
      ]
    },
    {
      "cell_type": "code",
      "source": [
        "X_low = df_X[df_X['labels'] == 1]\n",
        "X_low.head()"
      ],
      "metadata": {
        "id": "DVxTxlmWgtbp",
        "colab": {
          "base_uri": "https://localhost:8080/",
          "height": 206
        },
        "outputId": "0ddfb3d4-73db-4594-945d-96aecc5e36d4"
      },
      "execution_count": null,
      "outputs": [
        {
          "output_type": "execute_result",
          "data": {
            "text/plain": [
              "    V1 score  V1 avg timing  V2 score  V2 avg timing  V3 score  V3 avg timing  \\\n",
              "0        3.0      15.211667       1.0       9.594000       2.0      11.364000   \n",
              "4        2.0       7.125667       3.0      21.739667       0.0      19.405667   \n",
              "6        2.0      18.848667       3.0      22.302000       3.0      10.840000   \n",
              "7        1.0      16.193000       2.0      14.087000       3.0      27.903000   \n",
              "10       3.0      15.132000       2.0      22.611000       1.0      24.140000   \n",
              "\n",
              "    Raw score  labels  \n",
              "0         6.0       1  \n",
              "4         5.0       1  \n",
              "6         8.0       1  \n",
              "7         6.0       1  \n",
              "10        6.0       1  "
            ],
            "text/html": [
              "\n",
              "  <div id=\"df-98d934b2-855d-4b7d-8448-1b7b01212587\">\n",
              "    <div class=\"colab-df-container\">\n",
              "      <div>\n",
              "<style scoped>\n",
              "    .dataframe tbody tr th:only-of-type {\n",
              "        vertical-align: middle;\n",
              "    }\n",
              "\n",
              "    .dataframe tbody tr th {\n",
              "        vertical-align: top;\n",
              "    }\n",
              "\n",
              "    .dataframe thead th {\n",
              "        text-align: right;\n",
              "    }\n",
              "</style>\n",
              "<table border=\"1\" class=\"dataframe\">\n",
              "  <thead>\n",
              "    <tr style=\"text-align: right;\">\n",
              "      <th></th>\n",
              "      <th>V1 score</th>\n",
              "      <th>V1 avg timing</th>\n",
              "      <th>V2 score</th>\n",
              "      <th>V2 avg timing</th>\n",
              "      <th>V3 score</th>\n",
              "      <th>V3 avg timing</th>\n",
              "      <th>Raw score</th>\n",
              "      <th>labels</th>\n",
              "    </tr>\n",
              "  </thead>\n",
              "  <tbody>\n",
              "    <tr>\n",
              "      <th>0</th>\n",
              "      <td>3.0</td>\n",
              "      <td>15.211667</td>\n",
              "      <td>1.0</td>\n",
              "      <td>9.594000</td>\n",
              "      <td>2.0</td>\n",
              "      <td>11.364000</td>\n",
              "      <td>6.0</td>\n",
              "      <td>1</td>\n",
              "    </tr>\n",
              "    <tr>\n",
              "      <th>4</th>\n",
              "      <td>2.0</td>\n",
              "      <td>7.125667</td>\n",
              "      <td>3.0</td>\n",
              "      <td>21.739667</td>\n",
              "      <td>0.0</td>\n",
              "      <td>19.405667</td>\n",
              "      <td>5.0</td>\n",
              "      <td>1</td>\n",
              "    </tr>\n",
              "    <tr>\n",
              "      <th>6</th>\n",
              "      <td>2.0</td>\n",
              "      <td>18.848667</td>\n",
              "      <td>3.0</td>\n",
              "      <td>22.302000</td>\n",
              "      <td>3.0</td>\n",
              "      <td>10.840000</td>\n",
              "      <td>8.0</td>\n",
              "      <td>1</td>\n",
              "    </tr>\n",
              "    <tr>\n",
              "      <th>7</th>\n",
              "      <td>1.0</td>\n",
              "      <td>16.193000</td>\n",
              "      <td>2.0</td>\n",
              "      <td>14.087000</td>\n",
              "      <td>3.0</td>\n",
              "      <td>27.903000</td>\n",
              "      <td>6.0</td>\n",
              "      <td>1</td>\n",
              "    </tr>\n",
              "    <tr>\n",
              "      <th>10</th>\n",
              "      <td>3.0</td>\n",
              "      <td>15.132000</td>\n",
              "      <td>2.0</td>\n",
              "      <td>22.611000</td>\n",
              "      <td>1.0</td>\n",
              "      <td>24.140000</td>\n",
              "      <td>6.0</td>\n",
              "      <td>1</td>\n",
              "    </tr>\n",
              "  </tbody>\n",
              "</table>\n",
              "</div>\n",
              "      <button class=\"colab-df-convert\" onclick=\"convertToInteractive('df-98d934b2-855d-4b7d-8448-1b7b01212587')\"\n",
              "              title=\"Convert this dataframe to an interactive table.\"\n",
              "              style=\"display:none;\">\n",
              "        \n",
              "  <svg xmlns=\"http://www.w3.org/2000/svg\" height=\"24px\"viewBox=\"0 0 24 24\"\n",
              "       width=\"24px\">\n",
              "    <path d=\"M0 0h24v24H0V0z\" fill=\"none\"/>\n",
              "    <path d=\"M18.56 5.44l.94 2.06.94-2.06 2.06-.94-2.06-.94-.94-2.06-.94 2.06-2.06.94zm-11 1L8.5 8.5l.94-2.06 2.06-.94-2.06-.94L8.5 2.5l-.94 2.06-2.06.94zm10 10l.94 2.06.94-2.06 2.06-.94-2.06-.94-.94-2.06-.94 2.06-2.06.94z\"/><path d=\"M17.41 7.96l-1.37-1.37c-.4-.4-.92-.59-1.43-.59-.52 0-1.04.2-1.43.59L10.3 9.45l-7.72 7.72c-.78.78-.78 2.05 0 2.83L4 21.41c.39.39.9.59 1.41.59.51 0 1.02-.2 1.41-.59l7.78-7.78 2.81-2.81c.8-.78.8-2.07 0-2.86zM5.41 20L4 18.59l7.72-7.72 1.47 1.35L5.41 20z\"/>\n",
              "  </svg>\n",
              "      </button>\n",
              "      \n",
              "  <style>\n",
              "    .colab-df-container {\n",
              "      display:flex;\n",
              "      flex-wrap:wrap;\n",
              "      gap: 12px;\n",
              "    }\n",
              "\n",
              "    .colab-df-convert {\n",
              "      background-color: #E8F0FE;\n",
              "      border: none;\n",
              "      border-radius: 50%;\n",
              "      cursor: pointer;\n",
              "      display: none;\n",
              "      fill: #1967D2;\n",
              "      height: 32px;\n",
              "      padding: 0 0 0 0;\n",
              "      width: 32px;\n",
              "    }\n",
              "\n",
              "    .colab-df-convert:hover {\n",
              "      background-color: #E2EBFA;\n",
              "      box-shadow: 0px 1px 2px rgba(60, 64, 67, 0.3), 0px 1px 3px 1px rgba(60, 64, 67, 0.15);\n",
              "      fill: #174EA6;\n",
              "    }\n",
              "\n",
              "    [theme=dark] .colab-df-convert {\n",
              "      background-color: #3B4455;\n",
              "      fill: #D2E3FC;\n",
              "    }\n",
              "\n",
              "    [theme=dark] .colab-df-convert:hover {\n",
              "      background-color: #434B5C;\n",
              "      box-shadow: 0px 1px 3px 1px rgba(0, 0, 0, 0.15);\n",
              "      filter: drop-shadow(0px 1px 2px rgba(0, 0, 0, 0.3));\n",
              "      fill: #FFFFFF;\n",
              "    }\n",
              "  </style>\n",
              "\n",
              "      <script>\n",
              "        const buttonEl =\n",
              "          document.querySelector('#df-98d934b2-855d-4b7d-8448-1b7b01212587 button.colab-df-convert');\n",
              "        buttonEl.style.display =\n",
              "          google.colab.kernel.accessAllowed ? 'block' : 'none';\n",
              "\n",
              "        async function convertToInteractive(key) {\n",
              "          const element = document.querySelector('#df-98d934b2-855d-4b7d-8448-1b7b01212587');\n",
              "          const dataTable =\n",
              "            await google.colab.kernel.invokeFunction('convertToInteractive',\n",
              "                                                     [key], {});\n",
              "          if (!dataTable) return;\n",
              "\n",
              "          const docLinkHtml = 'Like what you see? Visit the ' +\n",
              "            '<a target=\"_blank\" href=https://colab.research.google.com/notebooks/data_table.ipynb>data table notebook</a>'\n",
              "            + ' to learn more about interactive tables.';\n",
              "          element.innerHTML = '';\n",
              "          dataTable['output_type'] = 'display_data';\n",
              "          await google.colab.output.renderOutput(dataTable, element);\n",
              "          const docLink = document.createElement('div');\n",
              "          docLink.innerHTML = docLinkHtml;\n",
              "          element.appendChild(docLink);\n",
              "        }\n",
              "      </script>\n",
              "    </div>\n",
              "  </div>\n",
              "  "
            ]
          },
          "metadata": {},
          "execution_count": 42
        }
      ]
    },
    {
      "cell_type": "code",
      "source": [
        "# read CSV\n",
        "# I created this transformation of the original dataset to make the visualisations and analysis easier. \n",
        "#Instead of having columns per version, everything now is in one column and makes reference to the type of vis.\n",
        "df3 = pd.read_csv('/content/drive/MyDrive/Datasets/vis-literacy/data_clusters_melt.csv')\n",
        "df3 = df3[[\"score\", \"avg timing\", \"Vis\", \"labels\"]]\n",
        "df3.head()"
      ],
      "metadata": {
        "id": "vDazSPGVlVjv",
        "colab": {
          "base_uri": "https://localhost:8080/",
          "height": 206
        },
        "outputId": "0ce18077-fbea-4763-95fa-e850f3b36152"
      },
      "execution_count": null,
      "outputs": [
        {
          "output_type": "execute_result",
          "data": {
            "text/plain": [
              "   score  avg timing        Vis  labels\n",
              "0      3   15.211667  net graph       1\n",
              "1      3    9.402667  net graph       0\n",
              "2      3   14.277000  net graph       0\n",
              "3      3   12.081667  net graph       0\n",
              "4      2    7.125667  net graph       1"
            ],
            "text/html": [
              "\n",
              "  <div id=\"df-8271cb25-63f3-4067-bb0b-ee6b0416ef38\">\n",
              "    <div class=\"colab-df-container\">\n",
              "      <div>\n",
              "<style scoped>\n",
              "    .dataframe tbody tr th:only-of-type {\n",
              "        vertical-align: middle;\n",
              "    }\n",
              "\n",
              "    .dataframe tbody tr th {\n",
              "        vertical-align: top;\n",
              "    }\n",
              "\n",
              "    .dataframe thead th {\n",
              "        text-align: right;\n",
              "    }\n",
              "</style>\n",
              "<table border=\"1\" class=\"dataframe\">\n",
              "  <thead>\n",
              "    <tr style=\"text-align: right;\">\n",
              "      <th></th>\n",
              "      <th>score</th>\n",
              "      <th>avg timing</th>\n",
              "      <th>Vis</th>\n",
              "      <th>labels</th>\n",
              "    </tr>\n",
              "  </thead>\n",
              "  <tbody>\n",
              "    <tr>\n",
              "      <th>0</th>\n",
              "      <td>3</td>\n",
              "      <td>15.211667</td>\n",
              "      <td>net graph</td>\n",
              "      <td>1</td>\n",
              "    </tr>\n",
              "    <tr>\n",
              "      <th>1</th>\n",
              "      <td>3</td>\n",
              "      <td>9.402667</td>\n",
              "      <td>net graph</td>\n",
              "      <td>0</td>\n",
              "    </tr>\n",
              "    <tr>\n",
              "      <th>2</th>\n",
              "      <td>3</td>\n",
              "      <td>14.277000</td>\n",
              "      <td>net graph</td>\n",
              "      <td>0</td>\n",
              "    </tr>\n",
              "    <tr>\n",
              "      <th>3</th>\n",
              "      <td>3</td>\n",
              "      <td>12.081667</td>\n",
              "      <td>net graph</td>\n",
              "      <td>0</td>\n",
              "    </tr>\n",
              "    <tr>\n",
              "      <th>4</th>\n",
              "      <td>2</td>\n",
              "      <td>7.125667</td>\n",
              "      <td>net graph</td>\n",
              "      <td>1</td>\n",
              "    </tr>\n",
              "  </tbody>\n",
              "</table>\n",
              "</div>\n",
              "      <button class=\"colab-df-convert\" onclick=\"convertToInteractive('df-8271cb25-63f3-4067-bb0b-ee6b0416ef38')\"\n",
              "              title=\"Convert this dataframe to an interactive table.\"\n",
              "              style=\"display:none;\">\n",
              "        \n",
              "  <svg xmlns=\"http://www.w3.org/2000/svg\" height=\"24px\"viewBox=\"0 0 24 24\"\n",
              "       width=\"24px\">\n",
              "    <path d=\"M0 0h24v24H0V0z\" fill=\"none\"/>\n",
              "    <path d=\"M18.56 5.44l.94 2.06.94-2.06 2.06-.94-2.06-.94-.94-2.06-.94 2.06-2.06.94zm-11 1L8.5 8.5l.94-2.06 2.06-.94-2.06-.94L8.5 2.5l-.94 2.06-2.06.94zm10 10l.94 2.06.94-2.06 2.06-.94-2.06-.94-.94-2.06-.94 2.06-2.06.94z\"/><path d=\"M17.41 7.96l-1.37-1.37c-.4-.4-.92-.59-1.43-.59-.52 0-1.04.2-1.43.59L10.3 9.45l-7.72 7.72c-.78.78-.78 2.05 0 2.83L4 21.41c.39.39.9.59 1.41.59.51 0 1.02-.2 1.41-.59l7.78-7.78 2.81-2.81c.8-.78.8-2.07 0-2.86zM5.41 20L4 18.59l7.72-7.72 1.47 1.35L5.41 20z\"/>\n",
              "  </svg>\n",
              "      </button>\n",
              "      \n",
              "  <style>\n",
              "    .colab-df-container {\n",
              "      display:flex;\n",
              "      flex-wrap:wrap;\n",
              "      gap: 12px;\n",
              "    }\n",
              "\n",
              "    .colab-df-convert {\n",
              "      background-color: #E8F0FE;\n",
              "      border: none;\n",
              "      border-radius: 50%;\n",
              "      cursor: pointer;\n",
              "      display: none;\n",
              "      fill: #1967D2;\n",
              "      height: 32px;\n",
              "      padding: 0 0 0 0;\n",
              "      width: 32px;\n",
              "    }\n",
              "\n",
              "    .colab-df-convert:hover {\n",
              "      background-color: #E2EBFA;\n",
              "      box-shadow: 0px 1px 2px rgba(60, 64, 67, 0.3), 0px 1px 3px 1px rgba(60, 64, 67, 0.15);\n",
              "      fill: #174EA6;\n",
              "    }\n",
              "\n",
              "    [theme=dark] .colab-df-convert {\n",
              "      background-color: #3B4455;\n",
              "      fill: #D2E3FC;\n",
              "    }\n",
              "\n",
              "    [theme=dark] .colab-df-convert:hover {\n",
              "      background-color: #434B5C;\n",
              "      box-shadow: 0px 1px 3px 1px rgba(0, 0, 0, 0.15);\n",
              "      filter: drop-shadow(0px 1px 2px rgba(0, 0, 0, 0.3));\n",
              "      fill: #FFFFFF;\n",
              "    }\n",
              "  </style>\n",
              "\n",
              "      <script>\n",
              "        const buttonEl =\n",
              "          document.querySelector('#df-8271cb25-63f3-4067-bb0b-ee6b0416ef38 button.colab-df-convert');\n",
              "        buttonEl.style.display =\n",
              "          google.colab.kernel.accessAllowed ? 'block' : 'none';\n",
              "\n",
              "        async function convertToInteractive(key) {\n",
              "          const element = document.querySelector('#df-8271cb25-63f3-4067-bb0b-ee6b0416ef38');\n",
              "          const dataTable =\n",
              "            await google.colab.kernel.invokeFunction('convertToInteractive',\n",
              "                                                     [key], {});\n",
              "          if (!dataTable) return;\n",
              "\n",
              "          const docLinkHtml = 'Like what you see? Visit the ' +\n",
              "            '<a target=\"_blank\" href=https://colab.research.google.com/notebooks/data_table.ipynb>data table notebook</a>'\n",
              "            + ' to learn more about interactive tables.';\n",
              "          element.innerHTML = '';\n",
              "          dataTable['output_type'] = 'display_data';\n",
              "          await google.colab.output.renderOutput(dataTable, element);\n",
              "          const docLink = document.createElement('div');\n",
              "          docLink.innerHTML = docLinkHtml;\n",
              "          element.appendChild(docLink);\n",
              "        }\n",
              "      </script>\n",
              "    </div>\n",
              "  </div>\n",
              "  "
            ]
          },
          "metadata": {},
          "execution_count": 43
        }
      ]
    },
    {
      "cell_type": "code",
      "source": [
        "\n",
        "df3[\"labels\"] = df3[\"labels\"].replace(0,\"High\")\n",
        "df3[\"labels\"] = df3[\"labels\"].replace(1,\"Low\")\n",
        "df3.head()"
      ],
      "metadata": {
        "id": "6w83Vzk0l7bN",
        "colab": {
          "base_uri": "https://localhost:8080/",
          "height": 206
        },
        "outputId": "653a5155-2b25-406a-d315-eb5b6fd118e0"
      },
      "execution_count": null,
      "outputs": [
        {
          "output_type": "execute_result",
          "data": {
            "text/plain": [
              "   score  avg timing        Vis labels\n",
              "0      3   15.211667  net graph    Low\n",
              "1      3    9.402667  net graph   High\n",
              "2      3   14.277000  net graph   High\n",
              "3      3   12.081667  net graph   High\n",
              "4      2    7.125667  net graph    Low"
            ],
            "text/html": [
              "\n",
              "  <div id=\"df-d32e9dac-a289-4e43-90c1-77bc135762e7\">\n",
              "    <div class=\"colab-df-container\">\n",
              "      <div>\n",
              "<style scoped>\n",
              "    .dataframe tbody tr th:only-of-type {\n",
              "        vertical-align: middle;\n",
              "    }\n",
              "\n",
              "    .dataframe tbody tr th {\n",
              "        vertical-align: top;\n",
              "    }\n",
              "\n",
              "    .dataframe thead th {\n",
              "        text-align: right;\n",
              "    }\n",
              "</style>\n",
              "<table border=\"1\" class=\"dataframe\">\n",
              "  <thead>\n",
              "    <tr style=\"text-align: right;\">\n",
              "      <th></th>\n",
              "      <th>score</th>\n",
              "      <th>avg timing</th>\n",
              "      <th>Vis</th>\n",
              "      <th>labels</th>\n",
              "    </tr>\n",
              "  </thead>\n",
              "  <tbody>\n",
              "    <tr>\n",
              "      <th>0</th>\n",
              "      <td>3</td>\n",
              "      <td>15.211667</td>\n",
              "      <td>net graph</td>\n",
              "      <td>Low</td>\n",
              "    </tr>\n",
              "    <tr>\n",
              "      <th>1</th>\n",
              "      <td>3</td>\n",
              "      <td>9.402667</td>\n",
              "      <td>net graph</td>\n",
              "      <td>High</td>\n",
              "    </tr>\n",
              "    <tr>\n",
              "      <th>2</th>\n",
              "      <td>3</td>\n",
              "      <td>14.277000</td>\n",
              "      <td>net graph</td>\n",
              "      <td>High</td>\n",
              "    </tr>\n",
              "    <tr>\n",
              "      <th>3</th>\n",
              "      <td>3</td>\n",
              "      <td>12.081667</td>\n",
              "      <td>net graph</td>\n",
              "      <td>High</td>\n",
              "    </tr>\n",
              "    <tr>\n",
              "      <th>4</th>\n",
              "      <td>2</td>\n",
              "      <td>7.125667</td>\n",
              "      <td>net graph</td>\n",
              "      <td>Low</td>\n",
              "    </tr>\n",
              "  </tbody>\n",
              "</table>\n",
              "</div>\n",
              "      <button class=\"colab-df-convert\" onclick=\"convertToInteractive('df-d32e9dac-a289-4e43-90c1-77bc135762e7')\"\n",
              "              title=\"Convert this dataframe to an interactive table.\"\n",
              "              style=\"display:none;\">\n",
              "        \n",
              "  <svg xmlns=\"http://www.w3.org/2000/svg\" height=\"24px\"viewBox=\"0 0 24 24\"\n",
              "       width=\"24px\">\n",
              "    <path d=\"M0 0h24v24H0V0z\" fill=\"none\"/>\n",
              "    <path d=\"M18.56 5.44l.94 2.06.94-2.06 2.06-.94-2.06-.94-.94-2.06-.94 2.06-2.06.94zm-11 1L8.5 8.5l.94-2.06 2.06-.94-2.06-.94L8.5 2.5l-.94 2.06-2.06.94zm10 10l.94 2.06.94-2.06 2.06-.94-2.06-.94-.94-2.06-.94 2.06-2.06.94z\"/><path d=\"M17.41 7.96l-1.37-1.37c-.4-.4-.92-.59-1.43-.59-.52 0-1.04.2-1.43.59L10.3 9.45l-7.72 7.72c-.78.78-.78 2.05 0 2.83L4 21.41c.39.39.9.59 1.41.59.51 0 1.02-.2 1.41-.59l7.78-7.78 2.81-2.81c.8-.78.8-2.07 0-2.86zM5.41 20L4 18.59l7.72-7.72 1.47 1.35L5.41 20z\"/>\n",
              "  </svg>\n",
              "      </button>\n",
              "      \n",
              "  <style>\n",
              "    .colab-df-container {\n",
              "      display:flex;\n",
              "      flex-wrap:wrap;\n",
              "      gap: 12px;\n",
              "    }\n",
              "\n",
              "    .colab-df-convert {\n",
              "      background-color: #E8F0FE;\n",
              "      border: none;\n",
              "      border-radius: 50%;\n",
              "      cursor: pointer;\n",
              "      display: none;\n",
              "      fill: #1967D2;\n",
              "      height: 32px;\n",
              "      padding: 0 0 0 0;\n",
              "      width: 32px;\n",
              "    }\n",
              "\n",
              "    .colab-df-convert:hover {\n",
              "      background-color: #E2EBFA;\n",
              "      box-shadow: 0px 1px 2px rgba(60, 64, 67, 0.3), 0px 1px 3px 1px rgba(60, 64, 67, 0.15);\n",
              "      fill: #174EA6;\n",
              "    }\n",
              "\n",
              "    [theme=dark] .colab-df-convert {\n",
              "      background-color: #3B4455;\n",
              "      fill: #D2E3FC;\n",
              "    }\n",
              "\n",
              "    [theme=dark] .colab-df-convert:hover {\n",
              "      background-color: #434B5C;\n",
              "      box-shadow: 0px 1px 3px 1px rgba(0, 0, 0, 0.15);\n",
              "      filter: drop-shadow(0px 1px 2px rgba(0, 0, 0, 0.3));\n",
              "      fill: #FFFFFF;\n",
              "    }\n",
              "  </style>\n",
              "\n",
              "      <script>\n",
              "        const buttonEl =\n",
              "          document.querySelector('#df-d32e9dac-a289-4e43-90c1-77bc135762e7 button.colab-df-convert');\n",
              "        buttonEl.style.display =\n",
              "          google.colab.kernel.accessAllowed ? 'block' : 'none';\n",
              "\n",
              "        async function convertToInteractive(key) {\n",
              "          const element = document.querySelector('#df-d32e9dac-a289-4e43-90c1-77bc135762e7');\n",
              "          const dataTable =\n",
              "            await google.colab.kernel.invokeFunction('convertToInteractive',\n",
              "                                                     [key], {});\n",
              "          if (!dataTable) return;\n",
              "\n",
              "          const docLinkHtml = 'Like what you see? Visit the ' +\n",
              "            '<a target=\"_blank\" href=https://colab.research.google.com/notebooks/data_table.ipynb>data table notebook</a>'\n",
              "            + ' to learn more about interactive tables.';\n",
              "          element.innerHTML = '';\n",
              "          dataTable['output_type'] = 'display_data';\n",
              "          await google.colab.output.renderOutput(dataTable, element);\n",
              "          const docLink = document.createElement('div');\n",
              "          docLink.innerHTML = docLinkHtml;\n",
              "          element.appendChild(docLink);\n",
              "        }\n",
              "      </script>\n",
              "    </div>\n",
              "  </div>\n",
              "  "
            ]
          },
          "metadata": {},
          "execution_count": 44
        }
      ]
    },
    {
      "cell_type": "markdown",
      "source": [
        "### **Descriptive Statistics**"
      ],
      "metadata": {
        "id": "DMjL1vlFhXy9"
      }
    },
    {
      "cell_type": "code",
      "source": [
        "print(\"Descriptive Statistics for Low literacy students\")\n",
        "X_low.describe()"
      ],
      "metadata": {
        "id": "BvBKea7IhIbl",
        "colab": {
          "base_uri": "https://localhost:8080/",
          "height": 318
        },
        "outputId": "d34de877-f52d-4b30-c8e9-b6c615bf96e6"
      },
      "execution_count": null,
      "outputs": [
        {
          "output_type": "stream",
          "name": "stdout",
          "text": [
            "Descriptive Statistics for Low literacy students\n"
          ]
        },
        {
          "output_type": "execute_result",
          "data": {
            "text/plain": [
              "        V1 score  V1 avg timing   V2 score  V2 avg timing   V3 score  \\\n",
              "count  23.000000      23.000000  23.000000      23.000000  23.000000   \n",
              "mean    2.347826      32.209884   2.391304      43.488638   2.043478   \n",
              "std     0.572768      30.365893   0.782718      34.586875   0.877924   \n",
              "min     1.000000       7.125667   1.000000       9.594000   0.000000   \n",
              "25%     2.000000      15.026000   2.000000      20.757583   2.000000   \n",
              "50%     2.000000      18.848667   3.000000      26.343000   2.000000   \n",
              "75%     3.000000      36.453500   3.000000      60.274500   3.000000   \n",
              "max     3.000000     119.091000   3.000000     143.858333   3.000000   \n",
              "\n",
              "       V3 avg timing  Raw score  labels  \n",
              "count      23.000000  23.000000    23.0  \n",
              "mean       46.592739   6.782609     1.0  \n",
              "std        33.888528   1.085295     0.0  \n",
              "min        10.840000   5.000000     1.0  \n",
              "25%        24.113500   6.000000     1.0  \n",
              "50%        41.421333   7.000000     1.0  \n",
              "75%        54.579167   8.000000     1.0  \n",
              "max       148.020333   9.000000     1.0  "
            ],
            "text/html": [
              "\n",
              "  <div id=\"df-9eac2762-0bed-47ff-a17e-e21dd0794a13\">\n",
              "    <div class=\"colab-df-container\">\n",
              "      <div>\n",
              "<style scoped>\n",
              "    .dataframe tbody tr th:only-of-type {\n",
              "        vertical-align: middle;\n",
              "    }\n",
              "\n",
              "    .dataframe tbody tr th {\n",
              "        vertical-align: top;\n",
              "    }\n",
              "\n",
              "    .dataframe thead th {\n",
              "        text-align: right;\n",
              "    }\n",
              "</style>\n",
              "<table border=\"1\" class=\"dataframe\">\n",
              "  <thead>\n",
              "    <tr style=\"text-align: right;\">\n",
              "      <th></th>\n",
              "      <th>V1 score</th>\n",
              "      <th>V1 avg timing</th>\n",
              "      <th>V2 score</th>\n",
              "      <th>V2 avg timing</th>\n",
              "      <th>V3 score</th>\n",
              "      <th>V3 avg timing</th>\n",
              "      <th>Raw score</th>\n",
              "      <th>labels</th>\n",
              "    </tr>\n",
              "  </thead>\n",
              "  <tbody>\n",
              "    <tr>\n",
              "      <th>count</th>\n",
              "      <td>23.000000</td>\n",
              "      <td>23.000000</td>\n",
              "      <td>23.000000</td>\n",
              "      <td>23.000000</td>\n",
              "      <td>23.000000</td>\n",
              "      <td>23.000000</td>\n",
              "      <td>23.000000</td>\n",
              "      <td>23.0</td>\n",
              "    </tr>\n",
              "    <tr>\n",
              "      <th>mean</th>\n",
              "      <td>2.347826</td>\n",
              "      <td>32.209884</td>\n",
              "      <td>2.391304</td>\n",
              "      <td>43.488638</td>\n",
              "      <td>2.043478</td>\n",
              "      <td>46.592739</td>\n",
              "      <td>6.782609</td>\n",
              "      <td>1.0</td>\n",
              "    </tr>\n",
              "    <tr>\n",
              "      <th>std</th>\n",
              "      <td>0.572768</td>\n",
              "      <td>30.365893</td>\n",
              "      <td>0.782718</td>\n",
              "      <td>34.586875</td>\n",
              "      <td>0.877924</td>\n",
              "      <td>33.888528</td>\n",
              "      <td>1.085295</td>\n",
              "      <td>0.0</td>\n",
              "    </tr>\n",
              "    <tr>\n",
              "      <th>min</th>\n",
              "      <td>1.000000</td>\n",
              "      <td>7.125667</td>\n",
              "      <td>1.000000</td>\n",
              "      <td>9.594000</td>\n",
              "      <td>0.000000</td>\n",
              "      <td>10.840000</td>\n",
              "      <td>5.000000</td>\n",
              "      <td>1.0</td>\n",
              "    </tr>\n",
              "    <tr>\n",
              "      <th>25%</th>\n",
              "      <td>2.000000</td>\n",
              "      <td>15.026000</td>\n",
              "      <td>2.000000</td>\n",
              "      <td>20.757583</td>\n",
              "      <td>2.000000</td>\n",
              "      <td>24.113500</td>\n",
              "      <td>6.000000</td>\n",
              "      <td>1.0</td>\n",
              "    </tr>\n",
              "    <tr>\n",
              "      <th>50%</th>\n",
              "      <td>2.000000</td>\n",
              "      <td>18.848667</td>\n",
              "      <td>3.000000</td>\n",
              "      <td>26.343000</td>\n",
              "      <td>2.000000</td>\n",
              "      <td>41.421333</td>\n",
              "      <td>7.000000</td>\n",
              "      <td>1.0</td>\n",
              "    </tr>\n",
              "    <tr>\n",
              "      <th>75%</th>\n",
              "      <td>3.000000</td>\n",
              "      <td>36.453500</td>\n",
              "      <td>3.000000</td>\n",
              "      <td>60.274500</td>\n",
              "      <td>3.000000</td>\n",
              "      <td>54.579167</td>\n",
              "      <td>8.000000</td>\n",
              "      <td>1.0</td>\n",
              "    </tr>\n",
              "    <tr>\n",
              "      <th>max</th>\n",
              "      <td>3.000000</td>\n",
              "      <td>119.091000</td>\n",
              "      <td>3.000000</td>\n",
              "      <td>143.858333</td>\n",
              "      <td>3.000000</td>\n",
              "      <td>148.020333</td>\n",
              "      <td>9.000000</td>\n",
              "      <td>1.0</td>\n",
              "    </tr>\n",
              "  </tbody>\n",
              "</table>\n",
              "</div>\n",
              "      <button class=\"colab-df-convert\" onclick=\"convertToInteractive('df-9eac2762-0bed-47ff-a17e-e21dd0794a13')\"\n",
              "              title=\"Convert this dataframe to an interactive table.\"\n",
              "              style=\"display:none;\">\n",
              "        \n",
              "  <svg xmlns=\"http://www.w3.org/2000/svg\" height=\"24px\"viewBox=\"0 0 24 24\"\n",
              "       width=\"24px\">\n",
              "    <path d=\"M0 0h24v24H0V0z\" fill=\"none\"/>\n",
              "    <path d=\"M18.56 5.44l.94 2.06.94-2.06 2.06-.94-2.06-.94-.94-2.06-.94 2.06-2.06.94zm-11 1L8.5 8.5l.94-2.06 2.06-.94-2.06-.94L8.5 2.5l-.94 2.06-2.06.94zm10 10l.94 2.06.94-2.06 2.06-.94-2.06-.94-.94-2.06-.94 2.06-2.06.94z\"/><path d=\"M17.41 7.96l-1.37-1.37c-.4-.4-.92-.59-1.43-.59-.52 0-1.04.2-1.43.59L10.3 9.45l-7.72 7.72c-.78.78-.78 2.05 0 2.83L4 21.41c.39.39.9.59 1.41.59.51 0 1.02-.2 1.41-.59l7.78-7.78 2.81-2.81c.8-.78.8-2.07 0-2.86zM5.41 20L4 18.59l7.72-7.72 1.47 1.35L5.41 20z\"/>\n",
              "  </svg>\n",
              "      </button>\n",
              "      \n",
              "  <style>\n",
              "    .colab-df-container {\n",
              "      display:flex;\n",
              "      flex-wrap:wrap;\n",
              "      gap: 12px;\n",
              "    }\n",
              "\n",
              "    .colab-df-convert {\n",
              "      background-color: #E8F0FE;\n",
              "      border: none;\n",
              "      border-radius: 50%;\n",
              "      cursor: pointer;\n",
              "      display: none;\n",
              "      fill: #1967D2;\n",
              "      height: 32px;\n",
              "      padding: 0 0 0 0;\n",
              "      width: 32px;\n",
              "    }\n",
              "\n",
              "    .colab-df-convert:hover {\n",
              "      background-color: #E2EBFA;\n",
              "      box-shadow: 0px 1px 2px rgba(60, 64, 67, 0.3), 0px 1px 3px 1px rgba(60, 64, 67, 0.15);\n",
              "      fill: #174EA6;\n",
              "    }\n",
              "\n",
              "    [theme=dark] .colab-df-convert {\n",
              "      background-color: #3B4455;\n",
              "      fill: #D2E3FC;\n",
              "    }\n",
              "\n",
              "    [theme=dark] .colab-df-convert:hover {\n",
              "      background-color: #434B5C;\n",
              "      box-shadow: 0px 1px 3px 1px rgba(0, 0, 0, 0.15);\n",
              "      filter: drop-shadow(0px 1px 2px rgba(0, 0, 0, 0.3));\n",
              "      fill: #FFFFFF;\n",
              "    }\n",
              "  </style>\n",
              "\n",
              "      <script>\n",
              "        const buttonEl =\n",
              "          document.querySelector('#df-9eac2762-0bed-47ff-a17e-e21dd0794a13 button.colab-df-convert');\n",
              "        buttonEl.style.display =\n",
              "          google.colab.kernel.accessAllowed ? 'block' : 'none';\n",
              "\n",
              "        async function convertToInteractive(key) {\n",
              "          const element = document.querySelector('#df-9eac2762-0bed-47ff-a17e-e21dd0794a13');\n",
              "          const dataTable =\n",
              "            await google.colab.kernel.invokeFunction('convertToInteractive',\n",
              "                                                     [key], {});\n",
              "          if (!dataTable) return;\n",
              "\n",
              "          const docLinkHtml = 'Like what you see? Visit the ' +\n",
              "            '<a target=\"_blank\" href=https://colab.research.google.com/notebooks/data_table.ipynb>data table notebook</a>'\n",
              "            + ' to learn more about interactive tables.';\n",
              "          element.innerHTML = '';\n",
              "          dataTable['output_type'] = 'display_data';\n",
              "          await google.colab.output.renderOutput(dataTable, element);\n",
              "          const docLink = document.createElement('div');\n",
              "          docLink.innerHTML = docLinkHtml;\n",
              "          element.appendChild(docLink);\n",
              "        }\n",
              "      </script>\n",
              "    </div>\n",
              "  </div>\n",
              "  "
            ]
          },
          "metadata": {},
          "execution_count": 45
        }
      ]
    },
    {
      "cell_type": "code",
      "source": [
        "print(\"Descriptive Statistics for Low literacy students\")\n",
        "X_high.describe()"
      ],
      "metadata": {
        "id": "VjaMsYn_hVgh",
        "colab": {
          "base_uri": "https://localhost:8080/",
          "height": 318
        },
        "outputId": "607caa9f-b863-4064-dad0-921d982803d4"
      },
      "execution_count": null,
      "outputs": [
        {
          "output_type": "stream",
          "name": "stdout",
          "text": [
            "Descriptive Statistics for Low literacy students\n"
          ]
        },
        {
          "output_type": "execute_result",
          "data": {
            "text/plain": [
              "       V1 score  V1 avg timing   V2 score  V2 avg timing   V3 score  \\\n",
              "count      24.0      24.000000  24.000000      24.000000  24.000000   \n",
              "mean        3.0      19.680375   2.916667      25.296965   2.708333   \n",
              "std         0.0       7.740281   0.282330       8.035182   0.464306   \n",
              "min         3.0       9.397000   2.000000      10.714667   2.000000   \n",
              "25%         3.0      14.516250   3.000000      20.362458   2.000000   \n",
              "50%         3.0      18.519667   3.000000      26.079500   3.000000   \n",
              "75%         3.0      23.517917   3.000000      29.536083   3.000000   \n",
              "max         3.0      45.464000   3.000000      41.311000   3.000000   \n",
              "\n",
              "       V3 avg timing  Raw score  labels  \n",
              "count      24.000000  24.000000    24.0  \n",
              "mean       28.579389   8.625000     0.0  \n",
              "std        10.691909   0.494535     0.0  \n",
              "min        11.334667   8.000000     0.0  \n",
              "25%        24.059167   8.000000     0.0  \n",
              "50%        26.567167   9.000000     0.0  \n",
              "75%        30.922750   9.000000     0.0  \n",
              "max        55.122667   9.000000     0.0  "
            ],
            "text/html": [
              "\n",
              "  <div id=\"df-e1a50a3c-c609-4bb7-93bb-4c4721d2c3eb\">\n",
              "    <div class=\"colab-df-container\">\n",
              "      <div>\n",
              "<style scoped>\n",
              "    .dataframe tbody tr th:only-of-type {\n",
              "        vertical-align: middle;\n",
              "    }\n",
              "\n",
              "    .dataframe tbody tr th {\n",
              "        vertical-align: top;\n",
              "    }\n",
              "\n",
              "    .dataframe thead th {\n",
              "        text-align: right;\n",
              "    }\n",
              "</style>\n",
              "<table border=\"1\" class=\"dataframe\">\n",
              "  <thead>\n",
              "    <tr style=\"text-align: right;\">\n",
              "      <th></th>\n",
              "      <th>V1 score</th>\n",
              "      <th>V1 avg timing</th>\n",
              "      <th>V2 score</th>\n",
              "      <th>V2 avg timing</th>\n",
              "      <th>V3 score</th>\n",
              "      <th>V3 avg timing</th>\n",
              "      <th>Raw score</th>\n",
              "      <th>labels</th>\n",
              "    </tr>\n",
              "  </thead>\n",
              "  <tbody>\n",
              "    <tr>\n",
              "      <th>count</th>\n",
              "      <td>24.0</td>\n",
              "      <td>24.000000</td>\n",
              "      <td>24.000000</td>\n",
              "      <td>24.000000</td>\n",
              "      <td>24.000000</td>\n",
              "      <td>24.000000</td>\n",
              "      <td>24.000000</td>\n",
              "      <td>24.0</td>\n",
              "    </tr>\n",
              "    <tr>\n",
              "      <th>mean</th>\n",
              "      <td>3.0</td>\n",
              "      <td>19.680375</td>\n",
              "      <td>2.916667</td>\n",
              "      <td>25.296965</td>\n",
              "      <td>2.708333</td>\n",
              "      <td>28.579389</td>\n",
              "      <td>8.625000</td>\n",
              "      <td>0.0</td>\n",
              "    </tr>\n",
              "    <tr>\n",
              "      <th>std</th>\n",
              "      <td>0.0</td>\n",
              "      <td>7.740281</td>\n",
              "      <td>0.282330</td>\n",
              "      <td>8.035182</td>\n",
              "      <td>0.464306</td>\n",
              "      <td>10.691909</td>\n",
              "      <td>0.494535</td>\n",
              "      <td>0.0</td>\n",
              "    </tr>\n",
              "    <tr>\n",
              "      <th>min</th>\n",
              "      <td>3.0</td>\n",
              "      <td>9.397000</td>\n",
              "      <td>2.000000</td>\n",
              "      <td>10.714667</td>\n",
              "      <td>2.000000</td>\n",
              "      <td>11.334667</td>\n",
              "      <td>8.000000</td>\n",
              "      <td>0.0</td>\n",
              "    </tr>\n",
              "    <tr>\n",
              "      <th>25%</th>\n",
              "      <td>3.0</td>\n",
              "      <td>14.516250</td>\n",
              "      <td>3.000000</td>\n",
              "      <td>20.362458</td>\n",
              "      <td>2.000000</td>\n",
              "      <td>24.059167</td>\n",
              "      <td>8.000000</td>\n",
              "      <td>0.0</td>\n",
              "    </tr>\n",
              "    <tr>\n",
              "      <th>50%</th>\n",
              "      <td>3.0</td>\n",
              "      <td>18.519667</td>\n",
              "      <td>3.000000</td>\n",
              "      <td>26.079500</td>\n",
              "      <td>3.000000</td>\n",
              "      <td>26.567167</td>\n",
              "      <td>9.000000</td>\n",
              "      <td>0.0</td>\n",
              "    </tr>\n",
              "    <tr>\n",
              "      <th>75%</th>\n",
              "      <td>3.0</td>\n",
              "      <td>23.517917</td>\n",
              "      <td>3.000000</td>\n",
              "      <td>29.536083</td>\n",
              "      <td>3.000000</td>\n",
              "      <td>30.922750</td>\n",
              "      <td>9.000000</td>\n",
              "      <td>0.0</td>\n",
              "    </tr>\n",
              "    <tr>\n",
              "      <th>max</th>\n",
              "      <td>3.0</td>\n",
              "      <td>45.464000</td>\n",
              "      <td>3.000000</td>\n",
              "      <td>41.311000</td>\n",
              "      <td>3.000000</td>\n",
              "      <td>55.122667</td>\n",
              "      <td>9.000000</td>\n",
              "      <td>0.0</td>\n",
              "    </tr>\n",
              "  </tbody>\n",
              "</table>\n",
              "</div>\n",
              "      <button class=\"colab-df-convert\" onclick=\"convertToInteractive('df-e1a50a3c-c609-4bb7-93bb-4c4721d2c3eb')\"\n",
              "              title=\"Convert this dataframe to an interactive table.\"\n",
              "              style=\"display:none;\">\n",
              "        \n",
              "  <svg xmlns=\"http://www.w3.org/2000/svg\" height=\"24px\"viewBox=\"0 0 24 24\"\n",
              "       width=\"24px\">\n",
              "    <path d=\"M0 0h24v24H0V0z\" fill=\"none\"/>\n",
              "    <path d=\"M18.56 5.44l.94 2.06.94-2.06 2.06-.94-2.06-.94-.94-2.06-.94 2.06-2.06.94zm-11 1L8.5 8.5l.94-2.06 2.06-.94-2.06-.94L8.5 2.5l-.94 2.06-2.06.94zm10 10l.94 2.06.94-2.06 2.06-.94-2.06-.94-.94-2.06-.94 2.06-2.06.94z\"/><path d=\"M17.41 7.96l-1.37-1.37c-.4-.4-.92-.59-1.43-.59-.52 0-1.04.2-1.43.59L10.3 9.45l-7.72 7.72c-.78.78-.78 2.05 0 2.83L4 21.41c.39.39.9.59 1.41.59.51 0 1.02-.2 1.41-.59l7.78-7.78 2.81-2.81c.8-.78.8-2.07 0-2.86zM5.41 20L4 18.59l7.72-7.72 1.47 1.35L5.41 20z\"/>\n",
              "  </svg>\n",
              "      </button>\n",
              "      \n",
              "  <style>\n",
              "    .colab-df-container {\n",
              "      display:flex;\n",
              "      flex-wrap:wrap;\n",
              "      gap: 12px;\n",
              "    }\n",
              "\n",
              "    .colab-df-convert {\n",
              "      background-color: #E8F0FE;\n",
              "      border: none;\n",
              "      border-radius: 50%;\n",
              "      cursor: pointer;\n",
              "      display: none;\n",
              "      fill: #1967D2;\n",
              "      height: 32px;\n",
              "      padding: 0 0 0 0;\n",
              "      width: 32px;\n",
              "    }\n",
              "\n",
              "    .colab-df-convert:hover {\n",
              "      background-color: #E2EBFA;\n",
              "      box-shadow: 0px 1px 2px rgba(60, 64, 67, 0.3), 0px 1px 3px 1px rgba(60, 64, 67, 0.15);\n",
              "      fill: #174EA6;\n",
              "    }\n",
              "\n",
              "    [theme=dark] .colab-df-convert {\n",
              "      background-color: #3B4455;\n",
              "      fill: #D2E3FC;\n",
              "    }\n",
              "\n",
              "    [theme=dark] .colab-df-convert:hover {\n",
              "      background-color: #434B5C;\n",
              "      box-shadow: 0px 1px 3px 1px rgba(0, 0, 0, 0.15);\n",
              "      filter: drop-shadow(0px 1px 2px rgba(0, 0, 0, 0.3));\n",
              "      fill: #FFFFFF;\n",
              "    }\n",
              "  </style>\n",
              "\n",
              "      <script>\n",
              "        const buttonEl =\n",
              "          document.querySelector('#df-e1a50a3c-c609-4bb7-93bb-4c4721d2c3eb button.colab-df-convert');\n",
              "        buttonEl.style.display =\n",
              "          google.colab.kernel.accessAllowed ? 'block' : 'none';\n",
              "\n",
              "        async function convertToInteractive(key) {\n",
              "          const element = document.querySelector('#df-e1a50a3c-c609-4bb7-93bb-4c4721d2c3eb');\n",
              "          const dataTable =\n",
              "            await google.colab.kernel.invokeFunction('convertToInteractive',\n",
              "                                                     [key], {});\n",
              "          if (!dataTable) return;\n",
              "\n",
              "          const docLinkHtml = 'Like what you see? Visit the ' +\n",
              "            '<a target=\"_blank\" href=https://colab.research.google.com/notebooks/data_table.ipynb>data table notebook</a>'\n",
              "            + ' to learn more about interactive tables.';\n",
              "          element.innerHTML = '';\n",
              "          dataTable['output_type'] = 'display_data';\n",
              "          await google.colab.output.renderOutput(dataTable, element);\n",
              "          const docLink = document.createElement('div');\n",
              "          docLink.innerHTML = docLinkHtml;\n",
              "          element.appendChild(docLink);\n",
              "        }\n",
              "      </script>\n",
              "    </div>\n",
              "  </div>\n",
              "  "
            ]
          },
          "metadata": {},
          "execution_count": 46
        }
      ]
    },
    {
      "cell_type": "markdown",
      "source": [
        "### **Clusters distribution**"
      ],
      "metadata": {
        "id": "NHOei3wTIh3b"
      }
    },
    {
      "cell_type": "code",
      "source": [
        "#a single index\n",
        "summary = pd.pivot_table(data=df_X,index=['V1-clusters'],values=['V1 avg timing','V1 score'],aggfunc=[np.mean, np.std, min, max, 'count'])\n",
        "summary"
      ],
      "metadata": {
        "id": "fLa90PF9Lrel",
        "colab": {
          "base_uri": "https://localhost:8080/",
          "height": 206
        },
        "outputId": "175b402e-c43b-4827-c147-e98ba78da843"
      },
      "execution_count": null,
      "outputs": [
        {
          "output_type": "execute_result",
          "data": {
            "text/plain": [
              "                     mean                     std                     min  \\\n",
              "            V1 avg timing  V1 score V1 avg timing  V1 score V1 avg timing   \n",
              "V1-clusters                                                                 \n",
              "0               71.489524  2.428571     29.089093  0.534522     42.602333   \n",
              "1               18.006767  3.000000      5.484734  0.000000      9.397000   \n",
              "2               17.252667  1.900000      6.607359  0.316228      7.125667   \n",
              "\n",
              "                               max                  count           \n",
              "            V1 score V1 avg timing V1 score V1 avg timing V1 score  \n",
              "V1-clusters                                                         \n",
              "0                2.0    119.091000      3.0             7        7  \n",
              "1                3.0     31.009333      3.0            30       30  \n",
              "2                1.0     30.304667      2.0            10       10  "
            ],
            "text/html": [
              "\n",
              "  <div id=\"df-9b966228-b2c9-4296-9484-ef4f42b3e4de\">\n",
              "    <div class=\"colab-df-container\">\n",
              "      <div>\n",
              "<style scoped>\n",
              "    .dataframe tbody tr th:only-of-type {\n",
              "        vertical-align: middle;\n",
              "    }\n",
              "\n",
              "    .dataframe tbody tr th {\n",
              "        vertical-align: top;\n",
              "    }\n",
              "\n",
              "    .dataframe thead tr th {\n",
              "        text-align: left;\n",
              "    }\n",
              "\n",
              "    .dataframe thead tr:last-of-type th {\n",
              "        text-align: right;\n",
              "    }\n",
              "</style>\n",
              "<table border=\"1\" class=\"dataframe\">\n",
              "  <thead>\n",
              "    <tr>\n",
              "      <th></th>\n",
              "      <th colspan=\"2\" halign=\"left\">mean</th>\n",
              "      <th colspan=\"2\" halign=\"left\">std</th>\n",
              "      <th colspan=\"2\" halign=\"left\">min</th>\n",
              "      <th colspan=\"2\" halign=\"left\">max</th>\n",
              "      <th colspan=\"2\" halign=\"left\">count</th>\n",
              "    </tr>\n",
              "    <tr>\n",
              "      <th></th>\n",
              "      <th>V1 avg timing</th>\n",
              "      <th>V1 score</th>\n",
              "      <th>V1 avg timing</th>\n",
              "      <th>V1 score</th>\n",
              "      <th>V1 avg timing</th>\n",
              "      <th>V1 score</th>\n",
              "      <th>V1 avg timing</th>\n",
              "      <th>V1 score</th>\n",
              "      <th>V1 avg timing</th>\n",
              "      <th>V1 score</th>\n",
              "    </tr>\n",
              "    <tr>\n",
              "      <th>V1-clusters</th>\n",
              "      <th></th>\n",
              "      <th></th>\n",
              "      <th></th>\n",
              "      <th></th>\n",
              "      <th></th>\n",
              "      <th></th>\n",
              "      <th></th>\n",
              "      <th></th>\n",
              "      <th></th>\n",
              "      <th></th>\n",
              "    </tr>\n",
              "  </thead>\n",
              "  <tbody>\n",
              "    <tr>\n",
              "      <th>0</th>\n",
              "      <td>71.489524</td>\n",
              "      <td>2.428571</td>\n",
              "      <td>29.089093</td>\n",
              "      <td>0.534522</td>\n",
              "      <td>42.602333</td>\n",
              "      <td>2.0</td>\n",
              "      <td>119.091000</td>\n",
              "      <td>3.0</td>\n",
              "      <td>7</td>\n",
              "      <td>7</td>\n",
              "    </tr>\n",
              "    <tr>\n",
              "      <th>1</th>\n",
              "      <td>18.006767</td>\n",
              "      <td>3.000000</td>\n",
              "      <td>5.484734</td>\n",
              "      <td>0.000000</td>\n",
              "      <td>9.397000</td>\n",
              "      <td>3.0</td>\n",
              "      <td>31.009333</td>\n",
              "      <td>3.0</td>\n",
              "      <td>30</td>\n",
              "      <td>30</td>\n",
              "    </tr>\n",
              "    <tr>\n",
              "      <th>2</th>\n",
              "      <td>17.252667</td>\n",
              "      <td>1.900000</td>\n",
              "      <td>6.607359</td>\n",
              "      <td>0.316228</td>\n",
              "      <td>7.125667</td>\n",
              "      <td>1.0</td>\n",
              "      <td>30.304667</td>\n",
              "      <td>2.0</td>\n",
              "      <td>10</td>\n",
              "      <td>10</td>\n",
              "    </tr>\n",
              "  </tbody>\n",
              "</table>\n",
              "</div>\n",
              "      <button class=\"colab-df-convert\" onclick=\"convertToInteractive('df-9b966228-b2c9-4296-9484-ef4f42b3e4de')\"\n",
              "              title=\"Convert this dataframe to an interactive table.\"\n",
              "              style=\"display:none;\">\n",
              "        \n",
              "  <svg xmlns=\"http://www.w3.org/2000/svg\" height=\"24px\"viewBox=\"0 0 24 24\"\n",
              "       width=\"24px\">\n",
              "    <path d=\"M0 0h24v24H0V0z\" fill=\"none\"/>\n",
              "    <path d=\"M18.56 5.44l.94 2.06.94-2.06 2.06-.94-2.06-.94-.94-2.06-.94 2.06-2.06.94zm-11 1L8.5 8.5l.94-2.06 2.06-.94-2.06-.94L8.5 2.5l-.94 2.06-2.06.94zm10 10l.94 2.06.94-2.06 2.06-.94-2.06-.94-.94-2.06-.94 2.06-2.06.94z\"/><path d=\"M17.41 7.96l-1.37-1.37c-.4-.4-.92-.59-1.43-.59-.52 0-1.04.2-1.43.59L10.3 9.45l-7.72 7.72c-.78.78-.78 2.05 0 2.83L4 21.41c.39.39.9.59 1.41.59.51 0 1.02-.2 1.41-.59l7.78-7.78 2.81-2.81c.8-.78.8-2.07 0-2.86zM5.41 20L4 18.59l7.72-7.72 1.47 1.35L5.41 20z\"/>\n",
              "  </svg>\n",
              "      </button>\n",
              "      \n",
              "  <style>\n",
              "    .colab-df-container {\n",
              "      display:flex;\n",
              "      flex-wrap:wrap;\n",
              "      gap: 12px;\n",
              "    }\n",
              "\n",
              "    .colab-df-convert {\n",
              "      background-color: #E8F0FE;\n",
              "      border: none;\n",
              "      border-radius: 50%;\n",
              "      cursor: pointer;\n",
              "      display: none;\n",
              "      fill: #1967D2;\n",
              "      height: 32px;\n",
              "      padding: 0 0 0 0;\n",
              "      width: 32px;\n",
              "    }\n",
              "\n",
              "    .colab-df-convert:hover {\n",
              "      background-color: #E2EBFA;\n",
              "      box-shadow: 0px 1px 2px rgba(60, 64, 67, 0.3), 0px 1px 3px 1px rgba(60, 64, 67, 0.15);\n",
              "      fill: #174EA6;\n",
              "    }\n",
              "\n",
              "    [theme=dark] .colab-df-convert {\n",
              "      background-color: #3B4455;\n",
              "      fill: #D2E3FC;\n",
              "    }\n",
              "\n",
              "    [theme=dark] .colab-df-convert:hover {\n",
              "      background-color: #434B5C;\n",
              "      box-shadow: 0px 1px 3px 1px rgba(0, 0, 0, 0.15);\n",
              "      filter: drop-shadow(0px 1px 2px rgba(0, 0, 0, 0.3));\n",
              "      fill: #FFFFFF;\n",
              "    }\n",
              "  </style>\n",
              "\n",
              "      <script>\n",
              "        const buttonEl =\n",
              "          document.querySelector('#df-9b966228-b2c9-4296-9484-ef4f42b3e4de button.colab-df-convert');\n",
              "        buttonEl.style.display =\n",
              "          google.colab.kernel.accessAllowed ? 'block' : 'none';\n",
              "\n",
              "        async function convertToInteractive(key) {\n",
              "          const element = document.querySelector('#df-9b966228-b2c9-4296-9484-ef4f42b3e4de');\n",
              "          const dataTable =\n",
              "            await google.colab.kernel.invokeFunction('convertToInteractive',\n",
              "                                                     [key], {});\n",
              "          if (!dataTable) return;\n",
              "\n",
              "          const docLinkHtml = 'Like what you see? Visit the ' +\n",
              "            '<a target=\"_blank\" href=https://colab.research.google.com/notebooks/data_table.ipynb>data table notebook</a>'\n",
              "            + ' to learn more about interactive tables.';\n",
              "          element.innerHTML = '';\n",
              "          dataTable['output_type'] = 'display_data';\n",
              "          await google.colab.output.renderOutput(dataTable, element);\n",
              "          const docLink = document.createElement('div');\n",
              "          docLink.innerHTML = docLinkHtml;\n",
              "          element.appendChild(docLink);\n",
              "        }\n",
              "      </script>\n",
              "    </div>\n",
              "  </div>\n",
              "  "
            ]
          },
          "metadata": {},
          "execution_count": 101
        }
      ]
    },
    {
      "cell_type": "markdown",
      "source": [
        "**Group 0** - High Visual literacy group, score means are higher and average timings are lower.\n",
        "\n",
        "**Group 1** - Low Visual literacy group, score means are lower and average timings are higher."
      ],
      "metadata": {
        "id": "YPqrHz7uaZNg"
      }
    },
    {
      "cell_type": "code",
      "source": [
        "#sns.heatmap(X[X['labels'] == 0].corr())\n",
        "g = sns.violinplot(data=df_X, x=\"V1-clusters\", y=\"V1 score\")\n",
        "sns.swarmplot(data=df_X, x=\"V1-clusters\", y=\"V1 score\", color=\"k\", size=3)"
      ],
      "metadata": {
        "id": "QyScYsoqYOCM",
        "colab": {
          "base_uri": "https://localhost:8080/",
          "height": 302
        },
        "outputId": "e7b72112-04bb-4bbe-cb41-4dcf78f19b22"
      },
      "execution_count": null,
      "outputs": [
        {
          "output_type": "execute_result",
          "data": {
            "text/plain": [
              "<matplotlib.axes._subplots.AxesSubplot at 0x7f0819e5d1d0>"
            ]
          },
          "metadata": {},
          "execution_count": 102
        },
        {
          "output_type": "display_data",
          "data": {
            "text/plain": [
              "<Figure size 432x288 with 1 Axes>"
            ],
            "image/png": "[encoded data removed]"
          },
          "metadata": {}
        }
      ]
    },
    {
      "cell_type": "code",
      "source": [
        "#sns.heatmap(X[X['labels'] == 0].corr())\n",
        "g = sns.violinplot(data=df_X, x=\"V1-clusters\", y=\"V1 avg timing\")\n",
        "sns.swarmplot(data=df_X, x=\"V1-clusters\", y=\"V1 avg timing\", color=\"k\", size=3)"
      ],
      "metadata": {
        "colab": {
          "base_uri": "https://localhost:8080/",
          "height": 302
        },
        "id": "0rQ8ltz5yiqy",
        "outputId": "82ba90be-f458-4a50-9a4b-1c9c6e8e990e"
      },
      "execution_count": null,
      "outputs": [
        {
          "output_type": "execute_result",
          "data": {
            "text/plain": [
              "<matplotlib.axes._subplots.AxesSubplot at 0x7f0819cdf3d0>"
            ]
          },
          "metadata": {},
          "execution_count": 105
        },
        {
          "output_type": "display_data",
          "data": {
            "text/plain": [
              "<Figure size 432x288 with 1 Axes>"
            ],
            "image/png": "[encoded data removed]"
          },
          "metadata": {}
        }
      ]
    },
    {
      "cell_type": "code",
      "source": [
        "f, axs = plt.subplots(2,3)\n",
        "g1 = sns.boxplot(data=df_X, x=\"labels\", y=\"V1 score\", ax=axs[0][0])\n",
        "sns.swarmplot(data=df_X, x=\"labels\", y=\"V1 score\", color=\"k\", size=3, ax=axs[0][0])\n",
        "\n",
        "g2 = sns.boxplot(data=df_X, x=\"labels\", y=\"V2 score\", ax=axs[0][1])\n",
        "sns.swarmplot(data=df_X, x=\"labels\", y=\"V2 score\", color=\"k\", size=3, ax=axs[0][1])\n",
        "\n",
        "g3 = sns.boxplot(data=df_X, x=\"labels\", y=\"V3 score\", ax=axs[0][2])\n",
        "sns.swarmplot(data=df_X, x=\"labels\", y=\"V3 score\", color=\"k\", size=3, ax=axs[0][2])\n",
        "\n",
        "g4 = sns.boxplot(data=df_X, x=\"labels\", y=\"V1 avg timing\", ax=axs[1][0])\n",
        "sns.swarmplot(data=df_X, x=\"labels\", y=\"V1 avg timing\", color=\"k\", size=3, ax=axs[1][0])\n",
        "\n",
        "g5 = sns.boxplot(data=df_X, x=\"labels\", y=\"V2 avg timing\", ax=axs[1][1])\n",
        "sns.swarmplot(data=df_X, x=\"labels\", y=\"V2 avg timing\", color=\"k\", size=3, ax=axs[1][1])\n",
        "\n",
        "g6 = sns.boxplot(data=df_X, x=\"labels\", y=\"V3 avg timing\", ax=axs[1][2])\n",
        "sns.swarmplot(data=df_X, x=\"labels\", y=\"V3 avg timing\", color=\"k\", size=3, ax=axs[1][2])\n",
        "\n",
        "f.tight_layout()"
      ],
      "metadata": {
        "id": "dY17m-87QFrY"
      },
      "execution_count": null,
      "outputs": []
    },
    {
      "cell_type": "code",
      "source": [
        "sns.lmplot(x='V1 score',y='V1 avg timing',data=df_X,hue='V1-clusters',markers=['o','+','.'])"
      ],
      "metadata": {
        "id": "XKtcZ5bIKWgq",
        "colab": {
          "base_uri": "https://localhost:8080/",
          "height": 382
        },
        "outputId": "849b1f41-cd61-41bb-9315-01e2064efe48"
      },
      "execution_count": null,
      "outputs": [
        {
          "output_type": "execute_result",
          "data": {
            "text/plain": [
              "<seaborn.axisgrid.FacetGrid at 0x7f0819e64410>"
            ]
          },
          "metadata": {},
          "execution_count": 104
        },
        {
          "output_type": "display_data",
          "data": {
            "text/plain": [
              "<Figure size 436.425x360 with 1 Axes>"
            ],
            "image/png": "[encoded data removed]"
          },
          "metadata": {}
        }
      ]
    },
    {
      "cell_type": "code",
      "source": [
        "sns.lmplot(x='V2 score',y='V2 avg timing',data=df_X,hue='labels',markers=['o','+'])"
      ],
      "metadata": {
        "id": "peIN2h0iaLMZ"
      },
      "execution_count": null,
      "outputs": []
    },
    {
      "cell_type": "code",
      "source": [
        "sns.lmplot(x='V3 score',y='V3 avg timing',data=df_X,hue='labels',markers=['o','+'])"
      ],
      "metadata": {
        "id": "eCRAnhTXaN9d"
      },
      "execution_count": null,
      "outputs": []
    },
    {
      "cell_type": "markdown",
      "source": [
        "### **Visual Exploration**"
      ],
      "metadata": {
        "id": "uypaByDMiZZb"
      }
    },
    {
      "cell_type": "code",
      "source": [
        "print(\"Time completion vs Score regression\")\n",
        "sns.lmplot(data=df3, x=\"V1 avg timing\", y=\"V1 score\", hue=\"labels\")"
      ],
      "metadata": {
        "id": "F4pYIPH4ieAL",
        "colab": {
          "base_uri": "https://localhost:8080/",
          "height": 201
        },
        "outputId": "9dd41ef1-36a5-4474-c97b-81787f842770"
      },
      "execution_count": null,
      "outputs": [
        {
          "output_type": "stream",
          "name": "stdout",
          "text": [
            "Time completion vs Score regression\n"
          ]
        },
        {
          "output_type": "error",
          "ename": "NameError",
          "evalue": "ignored",
          "traceback": [
            "\u001b[0;31m---------------------------------------------------------------------------\u001b[0m",
            "\u001b[0;31mNameError\u001b[0m                                 Traceback (most recent call last)",
            "\u001b[0;32m<ipython-input-83-56994a21db18>\u001b[0m in \u001b[0;36m<module>\u001b[0;34m\u001b[0m\n\u001b[1;32m      1\u001b[0m \u001b[0mprint\u001b[0m\u001b[0;34m(\u001b[0m\u001b[0;34m\"Time completion vs Score regression\"\u001b[0m\u001b[0;34m)\u001b[0m\u001b[0;34m\u001b[0m\u001b[0;34m\u001b[0m\u001b[0m\n\u001b[0;32m----> 2\u001b[0;31m \u001b[0msns\u001b[0m\u001b[0;34m.\u001b[0m\u001b[0mlmplot\u001b[0m\u001b[0;34m(\u001b[0m\u001b[0mdata\u001b[0m\u001b[0;34m=\u001b[0m\u001b[0mdf3\u001b[0m\u001b[0;34m,\u001b[0m \u001b[0mx\u001b[0m\u001b[0;34m=\u001b[0m\u001b[0;34m\"V1 avg timing\"\u001b[0m\u001b[0;34m,\u001b[0m \u001b[0my\u001b[0m\u001b[0;34m=\u001b[0m\u001b[0;34m\"V1 score\"\u001b[0m\u001b[0;34m,\u001b[0m \u001b[0mhue\u001b[0m\u001b[0;34m=\u001b[0m\u001b[0;34m\"V1-clusters\"\u001b[0m\u001b[0;34m)\u001b[0m\u001b[0;34m\u001b[0m\u001b[0;34m\u001b[0m\u001b[0m\n\u001b[0m",
            "\u001b[0;31mNameError\u001b[0m: name 'df3' is not defined"
          ]
        }
      ]
    },
    {
      "cell_type": "code",
      "source": [
        "print(\"Time completion vs Score regression\")\n",
        "sns.lmplot(data=df3, x=\"score\", y=\"avg timing\", col='Vis', hue=\"labels\")"
      ],
      "metadata": {
        "id": "o1qOFuSQmYYZ",
        "colab": {
          "base_uri": "https://localhost:8080/",
          "height": 400
        },
        "outputId": "f34405e6-8600-4f27-c82c-23d015ae897a"
      },
      "execution_count": null,
      "outputs": [
        {
          "output_type": "stream",
          "name": "stdout",
          "text": [
            "Time completion vs Score regression\n"
          ]
        },
        {
          "output_type": "execute_result",
          "data": {
            "text/plain": [
              "<seaborn.axisgrid.FacetGrid at 0x7f52cc4af450>"
            ]
          },
          "metadata": {},
          "execution_count": 54
        },
        {
          "output_type": "display_data",
          "data": {
            "text/plain": [
              "<Figure size 1145.1x360 with 3 Axes>"
            ],
            "image/png": "[encoded data removed]"
          },
          "metadata": {}
        }
      ]
    },
    {
      "cell_type": "code",
      "source": [
        "sns.catplot(\n",
        "    data=df3, x=\"Vis\", y=\"avg timing\", hue=\"labels\",\n",
        "    palette={\"High\": \"g\", \"Low\": \"m\"},\n",
        "    markers=[\"^\", \"o\"], linestyles=[\"-\", \"--\"],\n",
        "    kind=\"point\"\n",
        ")"
      ],
      "metadata": {
        "id": "ZuFifA-KncDy",
        "colab": {
          "base_uri": "https://localhost:8080/",
          "height": 382
        },
        "outputId": "6938edfc-be5e-43f3-8a38-ecede40fa0a1"
      },
      "execution_count": null,
      "outputs": [
        {
          "output_type": "execute_result",
          "data": {
            "text/plain": [
              "<seaborn.axisgrid.FacetGrid at 0x7f52cc003710>"
            ]
          },
          "metadata": {},
          "execution_count": 55
        },
        {
          "output_type": "display_data",
          "data": {
            "text/plain": [
              "<Figure size 425.1x360 with 1 Axes>"
            ],
            "image/png": "[encoded data removed]"
          },
          "metadata": {}
        }
      ]
    },
    {
      "cell_type": "code",
      "source": [
        "sns.catplot(\n",
        "    data=df3, x=\"Vis\", y=\"score\", hue=\"labels\",\n",
        "    palette={\"High\": \"g\", \"Low\": \"m\"},\n",
        "    markers=[\"^\", \"o\"], linestyles=[\"-\", \"--\"],\n",
        "    kind=\"point\"\n",
        ")"
      ],
      "metadata": {
        "id": "Gn17OmofB-_j",
        "colab": {
          "base_uri": "https://localhost:8080/",
          "height": 382
        },
        "outputId": "6a859fb3-4518-40e8-ea13-df614058c9f8"
      },
      "execution_count": null,
      "outputs": [
        {
          "output_type": "execute_result",
          "data": {
            "text/plain": [
              "<seaborn.axisgrid.FacetGrid at 0x7f52cbf4f890>"
            ]
          },
          "metadata": {},
          "execution_count": 56
        },
        {
          "output_type": "display_data",
          "data": {
            "text/plain": [
              "<Figure size 425.1x360 with 1 Axes>"
            ],
            "image/png": "[encoded data removed]"
          },
          "metadata": {}
        }
      ]
    },
    {
      "cell_type": "markdown",
      "source": [
        "# **Part 4: Perceptions on easiness, helpfulness, accuracy and trust**"
      ],
      "metadata": {
        "id": "1yoJeA8kg8uK"
      }
    },
    {
      "cell_type": "markdown",
      "source": [
        "### **Scales:**\n",
        "![Screen Shot 2022-10-21 at 8.52.37 am.png](data:image/png;base64,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)"
      ],
      "metadata": {
        "id": "FbSN1YahYajk"
      }
    },
    {
      "cell_type": "code",
      "source": [
        "#this is the part with responses to likert scales (perceptions of students)\n",
        "df=pd.read_csv('/content/drive/MyDrive/Datasets/vis-literacy/survey_responses_numbered.csv')\n",
        "ratings = df[[\"complexity\", \"accuracy\", \"helpfulness\", \"trust\", \"vis\"]]\n",
        "ratings.head()"
      ],
      "metadata": {
        "id": "6ds3b1A-k_Ob",
        "colab": {
          "base_uri": "https://localhost:8080/",
          "height": 206
        },
        "outputId": "6d6814ac-0514-4694-9d13-de0919d97107"
      },
      "execution_count": null,
      "outputs": [
        {
          "output_type": "execute_result",
          "data": {
            "text/plain": [
              "   complexity  accuracy  helpfulness  trust        vis\n",
              "0           2         7            1      2  net graph\n",
              "1           2         2            1      2  net graph\n",
              "2           2         2            2      2  net graph\n",
              "3           1         2            1      2  net graph\n",
              "4           1         2            1      2  net graph"
            ],
            "text/html": [
              "\n",
              "  <div id=\"df-15f54e4c-a1d7-469c-85db-31bb8bc25dc4\">\n",
              "    <div class=\"colab-df-container\">\n",
              "      <div>\n",
              "<style scoped>\n",
              "    .dataframe tbody tr th:only-of-type {\n",
              "        vertical-align: middle;\n",
              "    }\n",
              "\n",
              "    .dataframe tbody tr th {\n",
              "        vertical-align: top;\n",
              "    }\n",
              "\n",
              "    .dataframe thead th {\n",
              "        text-align: right;\n",
              "    }\n",
              "</style>\n",
              "<table border=\"1\" class=\"dataframe\">\n",
              "  <thead>\n",
              "    <tr style=\"text-align: right;\">\n",
              "      <th></th>\n",
              "      <th>complexity</th>\n",
              "      <th>accuracy</th>\n",
              "      <th>helpfulness</th>\n",
              "      <th>trust</th>\n",
              "      <th>vis</th>\n",
              "    </tr>\n",
              "  </thead>\n",
              "  <tbody>\n",
              "    <tr>\n",
              "      <th>0</th>\n",
              "      <td>2</td>\n",
              "      <td>7</td>\n",
              "      <td>1</td>\n",
              "      <td>2</td>\n",
              "      <td>net graph</td>\n",
              "    </tr>\n",
              "    <tr>\n",
              "      <th>1</th>\n",
              "      <td>2</td>\n",
              "      <td>2</td>\n",
              "      <td>1</td>\n",
              "      <td>2</td>\n",
              "      <td>net graph</td>\n",
              "    </tr>\n",
              "    <tr>\n",
              "      <th>2</th>\n",
              "      <td>2</td>\n",
              "      <td>2</td>\n",
              "      <td>2</td>\n",
              "      <td>2</td>\n",
              "      <td>net graph</td>\n",
              "    </tr>\n",
              "    <tr>\n",
              "      <th>3</th>\n",
              "      <td>1</td>\n",
              "      <td>2</td>\n",
              "      <td>1</td>\n",
              "      <td>2</td>\n",
              "      <td>net graph</td>\n",
              "    </tr>\n",
              "    <tr>\n",
              "      <th>4</th>\n",
              "      <td>1</td>\n",
              "      <td>2</td>\n",
              "      <td>1</td>\n",
              "      <td>2</td>\n",
              "      <td>net graph</td>\n",
              "    </tr>\n",
              "  </tbody>\n",
              "</table>\n",
              "</div>\n",
              "      <button class=\"colab-df-convert\" onclick=\"convertToInteractive('df-15f54e4c-a1d7-469c-85db-31bb8bc25dc4')\"\n",
              "              title=\"Convert this dataframe to an interactive table.\"\n",
              "              style=\"display:none;\">\n",
              "        \n",
              "  <svg xmlns=\"http://www.w3.org/2000/svg\" height=\"24px\"viewBox=\"0 0 24 24\"\n",
              "       width=\"24px\">\n",
              "    <path d=\"M0 0h24v24H0V0z\" fill=\"none\"/>\n",
              "    <path d=\"M18.56 5.44l.94 2.06.94-2.06 2.06-.94-2.06-.94-.94-2.06-.94 2.06-2.06.94zm-11 1L8.5 8.5l.94-2.06 2.06-.94-2.06-.94L8.5 2.5l-.94 2.06-2.06.94zm10 10l.94 2.06.94-2.06 2.06-.94-2.06-.94-.94-2.06-.94 2.06-2.06.94z\"/><path d=\"M17.41 7.96l-1.37-1.37c-.4-.4-.92-.59-1.43-.59-.52 0-1.04.2-1.43.59L10.3 9.45l-7.72 7.72c-.78.78-.78 2.05 0 2.83L4 21.41c.39.39.9.59 1.41.59.51 0 1.02-.2 1.41-.59l7.78-7.78 2.81-2.81c.8-.78.8-2.07 0-2.86zM5.41 20L4 18.59l7.72-7.72 1.47 1.35L5.41 20z\"/>\n",
              "  </svg>\n",
              "      </button>\n",
              "      \n",
              "  <style>\n",
              "    .colab-df-container {\n",
              "      display:flex;\n",
              "      flex-wrap:wrap;\n",
              "      gap: 12px;\n",
              "    }\n",
              "\n",
              "    .colab-df-convert {\n",
              "      background-color: #E8F0FE;\n",
              "      border: none;\n",
              "      border-radius: 50%;\n",
              "      cursor: pointer;\n",
              "      display: none;\n",
              "      fill: #1967D2;\n",
              "      height: 32px;\n",
              "      padding: 0 0 0 0;\n",
              "      width: 32px;\n",
              "    }\n",
              "\n",
              "    .colab-df-convert:hover {\n",
              "      background-color: #E2EBFA;\n",
              "      box-shadow: 0px 1px 2px rgba(60, 64, 67, 0.3), 0px 1px 3px 1px rgba(60, 64, 67, 0.15);\n",
              "      fill: #174EA6;\n",
              "    }\n",
              "\n",
              "    [theme=dark] .colab-df-convert {\n",
              "      background-color: #3B4455;\n",
              "      fill: #D2E3FC;\n",
              "    }\n",
              "\n",
              "    [theme=dark] .colab-df-convert:hover {\n",
              "      background-color: #434B5C;\n",
              "      box-shadow: 0px 1px 3px 1px rgba(0, 0, 0, 0.15);\n",
              "      filter: drop-shadow(0px 1px 2px rgba(0, 0, 0, 0.3));\n",
              "      fill: #FFFFFF;\n",
              "    }\n",
              "  </style>\n",
              "\n",
              "      <script>\n",
              "        const buttonEl =\n",
              "          document.querySelector('#df-15f54e4c-a1d7-469c-85db-31bb8bc25dc4 button.colab-df-convert');\n",
              "        buttonEl.style.display =\n",
              "          google.colab.kernel.accessAllowed ? 'block' : 'none';\n",
              "\n",
              "        async function convertToInteractive(key) {\n",
              "          const element = document.querySelector('#df-15f54e4c-a1d7-469c-85db-31bb8bc25dc4');\n",
              "          const dataTable =\n",
              "            await google.colab.kernel.invokeFunction('convertToInteractive',\n",
              "                                                     [key], {});\n",
              "          if (!dataTable) return;\n",
              "\n",
              "          const docLinkHtml = 'Like what you see? Visit the ' +\n",
              "            '<a target=\"_blank\" href=https://colab.research.google.com/notebooks/data_table.ipynb>data table notebook</a>'\n",
              "            + ' to learn more about interactive tables.';\n",
              "          element.innerHTML = '';\n",
              "          dataTable['output_type'] = 'display_data';\n",
              "          await google.colab.output.renderOutput(dataTable, element);\n",
              "          const docLink = document.createElement('div');\n",
              "          docLink.innerHTML = docLinkHtml;\n",
              "          element.appendChild(docLink);\n",
              "        }\n",
              "      </script>\n",
              "    </div>\n",
              "  </div>\n",
              "  "
            ]
          },
          "metadata": {},
          "execution_count": 57
        }
      ]
    },
    {
      "cell_type": "code",
      "source": [
        "from scipy.stats import shapiro\n",
        "shapiro(df[[\"complexity\", \"accuracy\", \"helpfulness\", \"trust\"]])"
      ],
      "metadata": {
        "id": "2uzJ2HhEuJux",
        "colab": {
          "base_uri": "https://localhost:8080/"
        },
        "outputId": "3182a908-ac27-496a-d19d-5c294ef6ae9d"
      },
      "execution_count": null,
      "outputs": [
        {
          "output_type": "execute_result",
          "data": {
            "text/plain": [
              "ShapiroResult(statistic=0.8105700016021729, pvalue=3.4029258036270817e-25)"
            ]
          },
          "metadata": {},
          "execution_count": 58
        }
      ]
    },
    {
      "cell_type": "code",
      "source": [
        "#df[df['vis'] == \"net graph\"].filter(items=['complexity'])"
      ],
      "metadata": {
        "id": "CP-S4iM7qyPp"
      },
      "execution_count": null,
      "outputs": []
    },
    {
      "cell_type": "code",
      "source": [
        "from scipy import stats\n",
        "#perform Friedman Test\n",
        "stats.friedmanchisquare(df[df['vis'] == \"net graph\"].filter(items=['complexity']), df[df['vis'] == \"bar graph\"].filter(items=['complexity']),df[df['vis'] == \"hive\"].filter(items=['complexity']))"
      ],
      "metadata": {
        "id": "w2ESpDKkhIiw",
        "colab": {
          "base_uri": "https://localhost:8080/"
        },
        "outputId": "c8753266-a4aa-4faa-c240-82c7a9f60397"
      },
      "execution_count": null,
      "outputs": [
        {
          "output_type": "execute_result",
          "data": {
            "text/plain": [
              "FriedmanchisquareResult(statistic=-61.19743841346899, pvalue=1.0)"
            ]
          },
          "metadata": {},
          "execution_count": 60
        }
      ]
    },
    {
      "cell_type": "markdown",
      "source": [
        "A Friedman test was run to determine if there were differences in the perceived easiness for the three visualisations. Time completion was not statistically  significant for the three visualisations, χ2(2) = -61.1974, p = 1.0"
      ],
      "metadata": {
        "id": "EIwaoqsqtnBV"
      }
    },
    {
      "cell_type": "code",
      "source": [
        "from scipy import stats\n",
        "#perform Friedman Test\n",
        "stats.friedmanchisquare(df[df['vis'] == \"net graph\"].filter(items=['accuracy']), df[df['vis'] == \"bar graph\"].filter(items=['accuracy']),df[df['vis'] == \"hive\"].filter(items=['accuracy']))"
      ],
      "metadata": {
        "id": "6OsnfFv2uBpX",
        "colab": {
          "base_uri": "https://localhost:8080/"
        },
        "outputId": "4b819da9-82b7-4062-bd4e-754a8717eba5"
      },
      "execution_count": null,
      "outputs": [
        {
          "output_type": "execute_result",
          "data": {
            "text/plain": [
              "FriedmanchisquareResult(statistic=-120.8400870001673, pvalue=1.0)"
            ]
          },
          "metadata": {},
          "execution_count": 61
        }
      ]
    },
    {
      "cell_type": "code",
      "source": [
        "from scipy import stats\n",
        "#perform Friedman Test\n",
        "stats.friedmanchisquare(df[df['vis'] == \"net graph\"].filter(items=['helpfulness']), df[df['vis'] == \"bar graph\"].filter(items=['helpfulness']),df[df['vis'] == \"hive\"].filter(items=['helpfulness']))"
      ],
      "metadata": {
        "id": "ygPa4tqJufD0",
        "colab": {
          "base_uri": "https://localhost:8080/"
        },
        "outputId": "dfe32c52-598a-49aa-df7e-f8d6161113c2"
      },
      "execution_count": null,
      "outputs": [
        {
          "output_type": "execute_result",
          "data": {
            "text/plain": [
              "FriedmanchisquareResult(statistic=-77.02094409884408, pvalue=1.0)"
            ]
          },
          "metadata": {},
          "execution_count": 62
        }
      ]
    },
    {
      "cell_type": "code",
      "source": [
        "from scipy import stats\n",
        "#perform Friedman Test\n",
        "stats.friedmanchisquare(df[df['vis'] == \"net graph\"].filter(items=['trust']), df[df['vis'] == \"bar graph\"].filter(items=['trust']),df[df['vis'] == \"hive\"].filter(items=['trust']))"
      ],
      "metadata": {
        "id": "wWjc0exnunek",
        "colab": {
          "base_uri": "https://localhost:8080/"
        },
        "outputId": "c185630b-0141-433a-a67a-e75c0d37a51b"
      },
      "execution_count": null,
      "outputs": [
        {
          "output_type": "execute_result",
          "data": {
            "text/plain": [
              "FriedmanchisquareResult(statistic=-71.69418849744052, pvalue=1.0)"
            ]
          },
          "metadata": {},
          "execution_count": 63
        }
      ]
    }
  ]
}